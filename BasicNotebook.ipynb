{
 "cells": [
  {
   "cell_type": "markdown",
   "metadata": {},
   "source": [
    "## Data Preprocessing"
   ]
  },
  {
   "cell_type": "markdown",
   "metadata": {},
   "source": [
    "### Import Libraries"
   ]
  },
  {
   "cell_type": "code",
   "execution_count": null,
   "metadata": {},
   "outputs": [],
   "source": [
    "import pandas as pd\n",
    "import matplotlib.pyplot as plt\n",
    "import numpy as np\n",
    "from matplotlib import rc\n",
    "import seaborn as sns"
   ]
  },
  {
   "cell_type": "markdown",
   "metadata": {},
   "source": [
    "### Import Data\n"
   ]
  },
  {
   "cell_type": "code",
   "execution_count": null,
   "metadata": {},
   "outputs": [],
   "source": [
    "train_set = pd.read_csv('Train.csv')\n",
    "unseen_set = pd.read_csv('Test.csv')\n",
    "riders_set = pd.read_csv('Riders.csv')"
   ]
  },
  {
   "cell_type": "code",
   "execution_count": null,
   "metadata": {},
   "outputs": [],
   "source": [
    "# Store columns present in Train.csv but not in Test.csv\n",
    "# To be used later as dependent variable vectors\n",
    "\n",
    "dep_var = []\n",
    "\n",
    "for i in train_set.columns.tolist():\n",
    "    if i in unseen_set.columns.tolist():\n",
    "        pass\n",
    "    else:\n",
    "        dep_var.append(i)\n",
    "        \n",
    "dep_var"
   ]
  },
  {
   "cell_type": "code",
   "execution_count": null,
   "metadata": {},
   "outputs": [],
   "source": [
    "train_set.head()"
   ]
  },
  {
   "cell_type": "code",
   "execution_count": null,
   "metadata": {},
   "outputs": [],
   "source": [
    "# Set Order No column as index\n",
    "train_set = train_set.set_index('Order No')\n",
    "train_set.head()"
   ]
  },
  {
   "cell_type": "markdown",
   "metadata": {},
   "source": [
    "## Taking care of missing data"
   ]
  },
  {
   "cell_type": "code",
   "execution_count": null,
   "metadata": {},
   "outputs": [],
   "source": [
    "# Replace NaNs in Temperature and Precipitation with column specific mean\n",
    "\n",
    "from sklearn.impute import SimpleImputer\n",
    "imputer = SimpleImputer(missing_values=np.nan, strategy='mean')\n",
    "imputer.fit(train_set.iloc[:, 20:22])\n",
    "train_set.iloc[:, 20:22] = imputer.transform(train_set.iloc[:, 20:22])\n",
    "\n",
    "train_set.head()"
   ]
  },
  {
   "cell_type": "markdown",
   "metadata": {},
   "source": [
    "## Dealing with categorical data"
   ]
  },
  {
   "cell_type": "code",
   "execution_count": null,
   "metadata": {},
   "outputs": [],
   "source": [
    "# Dummy encode catergorical values in 'Vehicle Type' and 'Personal or Business' columns\n",
    "\n",
    "train_set = pd.get_dummies(train_set, columns = ['Personal or Business', 'Vehicle Type'], drop_first=True)\n",
    "train_set.head()"
   ]
  },
  {
   "cell_type": "code",
   "execution_count": null,
   "metadata": {},
   "outputs": [],
   "source": [
    "# Convert string of time into 24 hour datetime and extract hour variable\n",
    "\n",
    "train_set['Placement - Time'] = pd.to_datetime(train_set['Placement - Time']).dt.strftime('%H')#:%M:%S')\n",
    "train_set['Confirmation - Time'] = pd.to_datetime(train_set['Confirmation - Time']).dt.strftime('%H')#:%M:%S')\n",
    "train_set['Arrival at Pickup - Time'] = pd.to_datetime(train_set['Arrival at Pickup - Time']).dt.strftime('%H')#:%M:%S')\n",
    "train_set['Pickup - Time'] = pd.to_datetime(train_set['Pickup - Time']).dt.strftime('%H')#:%M:%S')\n",
    "train_set['Arrival at Destination - Time'] = pd.to_datetime(train_set['Arrival at Destination - Time']).dt.strftime('%H')#:%M:%S')\n",
    "\n",
    "train_set.head()"
   ]
  },
  {
   "cell_type": "code",
   "execution_count": null,
   "metadata": {},
   "outputs": [],
   "source": [
    "# Extract only int value from 'User Id' string\n",
    "\n",
    "train_set['User Id'] = [train_set['User Id'][i][8:] for i in range(len(train_set))]"
   ]
  },
  {
   "cell_type": "code",
   "execution_count": null,
   "metadata": {},
   "outputs": [],
   "source": [
    "# Extract only int value from 'Rider Id' string\n",
    "\n",
    "train_set['Rider Id'] = [train_set['Rider Id'][i][9:] for i in range(len(train_set))]"
   ]
  },
  {
   "cell_type": "code",
   "execution_count": null,
   "metadata": {},
   "outputs": [],
   "source": [
    "train_set.head()"
   ]
  },
  {
   "cell_type": "code",
   "execution_count": null,
   "metadata": {},
   "outputs": [],
   "source": [
    "# Reordering dataframe for seperation into independent and dependent variables\n",
    "\n",
    "train_set = train_set[[c for c in train_set if c not in dep_var] \n",
    "       + dep_var]\n",
    "train_set.head()"
   ]
  },
  {
   "cell_type": "code",
   "execution_count": null,
   "metadata": {},
   "outputs": [],
   "source": [
    "# Storing data as variables\n",
    "\n",
    "X = train_set.iloc[:, :-4].values\n",
    "y = train_set.iloc[:, -4:].values"
   ]
  },
  {
   "cell_type": "markdown",
   "metadata": {},
   "source": [
    "## Splitting the dataset into the Training set and Validation set"
   ]
  },
  {
   "cell_type": "code",
   "execution_count": null,
   "metadata": {},
   "outputs": [],
   "source": [
    "# Creating a validation set from the data\n",
    "\n",
    "from sklearn.model_selection import train_test_split\n",
    "X_train, X_val, y_train, y_val = train_test_split(X, y, test_size = 0.2, random_state = 1)"
   ]
  },
  {
   "cell_type": "markdown",
   "metadata": {},
   "source": [
    "## Training the Multiple Linear Regression model on the Training set"
   ]
  },
  {
   "cell_type": "code",
   "execution_count": null,
   "metadata": {},
   "outputs": [],
   "source": [
    "# Training model on training set\n",
    "\n",
    "from sklearn.linear_model import LinearRegression\n",
    "\n",
    "regressor = LinearRegression()\n",
    "\n",
    "regressor.fit(X_train, y_train)"
   ]
  },
  {
   "cell_type": "markdown",
   "metadata": {},
   "source": [
    "## Predicting the Test set results"
   ]
  },
  {
   "cell_type": "code",
   "execution_count": null,
   "metadata": {},
   "outputs": [],
   "source": [
    "# Storing predicted dependent variable results from set of validation features\n",
    "\n",
    "y_pred = regressor.predict(X_val)"
   ]
  },
  {
   "cell_type": "code",
   "execution_count": null,
   "metadata": {},
   "outputs": [],
   "source": [
    "y_pred"
   ]
  },
  {
   "cell_type": "code",
   "execution_count": null,
   "metadata": {},
   "outputs": [],
   "source": [
    "y_val"
   ]
  },
  {
   "cell_type": "code",
   "execution_count": null,
   "metadata": {},
   "outputs": [],
   "source": [
    "# Displaying Root Mean Squared Error comparing actual values to the predicted values\n",
    "\n",
    "from sklearn import metrics\n",
    "from math import sqrt\n",
    "\n",
    "print('RMSE:', sqrt(metrics.mean_squared_error(y_val[:,3], y_pred[:,3])))"
   ]
  },
  {
   "cell_type": "markdown",
   "metadata": {},
   "source": [
    "## Predicting the unseen data results"
   ]
  },
  {
   "cell_type": "code",
   "execution_count": null,
   "metadata": {},
   "outputs": [],
   "source": [
    "# Storing unchanged unseen data in new variable\n",
    "\n",
    "unseen_set = pd.read_csv('Test.csv')"
   ]
  },
  {
   "cell_type": "code",
   "execution_count": null,
   "metadata": {},
   "outputs": [],
   "source": [
    "# Performing identical transformations on relevant columns in unseen data to have comparable data as features\n",
    "\n",
    "unseen_set = unseen_set.set_index('Order No')\n",
    "\n",
    "from sklearn.impute import SimpleImputer\n",
    "imputer = SimpleImputer(missing_values=np.nan, strategy='mean')\n",
    "imputer.fit(unseen_set.iloc[:,17:19])\n",
    "unseen_set.iloc[:, 17:19] = imputer.transform(unseen_set.iloc[:, 17:19])\n",
    "\n",
    "unseen_set = pd.get_dummies(unseen_set, columns = ['Personal or Business', 'Vehicle Type'], drop_first=True)\n",
    "\n",
    "unseen_set['Placement - Time'] = pd.to_datetime(unseen_set['Placement - Time']).dt.strftime('%H')#:%M:%S')\n",
    "unseen_set['Confirmation - Time'] = pd.to_datetime(unseen_set['Confirmation - Time']).dt.strftime('%H')#:%M:%S')\n",
    "unseen_set['Arrival at Pickup - Time'] = pd.to_datetime(unseen_set['Arrival at Pickup - Time']).dt.strftime('%H')#:%M:%S')\n",
    "unseen_set['Pickup - Time'] = pd.to_datetime(unseen_set['Pickup - Time']).dt.strftime('%H')#:%M:%S')\n",
    "\n",
    "unseen_set['User Id'] = [unseen_set['User Id'][i][8:] for i in range(len(unseen_set))]\n",
    "\n",
    "unseen_set['Rider Id'] = [unseen_set['Rider Id'][i][9:] for i in range(len(unseen_set))]\n",
    "\n",
    "unseen_set.head()"
   ]
  },
  {
   "cell_type": "code",
   "execution_count": null,
   "metadata": {},
   "outputs": [],
   "source": [
    "# Storing all columns as features\n",
    "\n",
    "X_test = unseen_set.values"
   ]
  },
  {
   "cell_type": "code",
   "execution_count": null,
   "metadata": {},
   "outputs": [],
   "source": [
    "# Storing predicted dependant variables from predictions made from modelling the unseen data\n",
    "\n",
    "sub_pred = regressor.predict(X_test)"
   ]
  },
  {
   "cell_type": "code",
   "execution_count": null,
   "metadata": {},
   "outputs": [],
   "source": [
    "sub_pred"
   ]
  },
  {
   "cell_type": "code",
   "execution_count": null,
   "metadata": {},
   "outputs": [],
   "source": [
    "# Displaying predicted variables as part of dataframe\n",
    "\n",
    "unseen_set['Arrival at Destination - Day of Month'] = sub_pred[:,0]\n",
    "unseen_set['Arrival at Destination - Weekday (Mo = 1)'] = sub_pred[:,1]\n",
    "unseen_set['Arrival at Destination - Time'] = sub_pred[:,2]\n",
    "unseen_set['Time from Pickup to Arrival'] = sub_pred[:,3]\n",
    "            \n",
    "unseen_set.head()"
   ]
  },
  {
   "cell_type": "markdown",
   "metadata": {},
   "source": [
    "## Exporting data for submission"
   ]
  },
  {
   "cell_type": "code",
   "execution_count": null,
   "metadata": {},
   "outputs": [],
   "source": [
    "# Storing last column into new variable and displaying\n",
    "\n",
    "submission = unseen_set['Time from Pickup to Arrival']\n",
    "submission"
   ]
  },
  {
   "cell_type": "code",
   "execution_count": null,
   "metadata": {},
   "outputs": [],
   "source": [
    "# Saving new dataframe as csv\n",
    "\n",
    "submission.to_csv('submission.csv')"
   ]
  },
  {
   "cell_type": "code",
   "execution_count": null,
   "metadata": {},
   "outputs": [],
   "source": []
  }
 ],
 "metadata": {
  "kernelspec": {
   "display_name": "Python 3",
   "language": "python",
   "name": "python3"
  },
  "language_info": {
   "codemirror_mode": {
    "name": "ipython",
    "version": 3
   },
   "file_extension": ".py",
   "mimetype": "text/x-python",
   "name": "python",
   "nbconvert_exporter": "python",
   "pygments_lexer": "ipython3",
   "version": "3.7.6"
  }
 },
 "nbformat": 4,
 "nbformat_minor": 4
}
