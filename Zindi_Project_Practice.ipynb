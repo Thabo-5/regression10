{
  "nbformat": 4,
  "nbformat_minor": 0,
  "metadata": {
    "colab": {
      "name": "Zindi_Project_Practice.ipynb",
      "provenance": [],
      "collapsed_sections": [],
      "toc_visible": true,
      "include_colab_link": true
    },
    "kernelspec": {
      "display_name": "Python 3",
      "language": "python",
      "name": "python3"
    },
    "language_info": {
      "codemirror_mode": {
        "name": "ipython",
        "version": 3
      },
      "file_extension": ".py",
      "mimetype": "text/x-python",
      "name": "python",
      "nbconvert_exporter": "python",
      "pygments_lexer": "ipython3",
      "version": "3.7.6"
    }
  },
  "cells": [
    {
      "cell_type": "markdown",
      "metadata": {
        "id": "view-in-github",
        "colab_type": "text"
      },
      "source": [
        "<a href=\"https://colab.research.google.com/github/mrmamadi/regression10/blob/dev/Zindi_Project_Practice.ipynb\" target=\"_parent\"><img src=\"https://colab.research.google.com/assets/colab-badge.svg\" alt=\"Open In Colab\"/></a>"
      ]
    },
    {
      "cell_type": "markdown",
      "metadata": {
        "colab_type": "text",
        "id": "_uMFA_xvPkwb"
      },
      "source": [
        "## Step 1 : Importing and Understanding Data\n"
      ]
    },
    {
      "cell_type": "markdown",
      "metadata": {
        "colab_type": "text",
        "id": "EQmH9HCn_f8r"
      },
      "source": [
        "### Importing Libraries"
      ]
    },
    {
      "cell_type": "code",
      "metadata": {
        "colab_type": "code",
        "id": "55QHvifvIM5I",
        "colab": {}
      },
      "source": [
        "%matplotlib notebook\n",
        "import numpy as np\n",
        "import pandas as pd\n",
        "import matplotlib.pyplot as plt\n",
        "import seaborn as sns\n"
      ],
      "execution_count": 0,
      "outputs": []
    },
    {
      "cell_type": "markdown",
      "metadata": {
        "colab_type": "text",
        "id": "8gMmlV7e_3Hb"
      },
      "source": [
        "### Importing Datasets"
      ]
    },
    {
      "cell_type": "code",
      "metadata": {
        "id": "Rr9Yq0bnCGDR",
        "colab_type": "code",
        "colab": {},
        "outputId": "ffabcf16-69fe-49a8-870a-c32372dff51f"
      },
      "source": [
        "df_rider = pd.read_csv('Riders.csv')\n",
        "df_rider.head()"
      ],
      "execution_count": 0,
      "outputs": [
        {
          "output_type": "execute_result",
          "data": {
            "text/html": [
              "<div>\n",
              "<style scoped>\n",
              "    .dataframe tbody tr th:only-of-type {\n",
              "        vertical-align: middle;\n",
              "    }\n",
              "\n",
              "    .dataframe tbody tr th {\n",
              "        vertical-align: top;\n",
              "    }\n",
              "\n",
              "    .dataframe thead th {\n",
              "        text-align: right;\n",
              "    }\n",
              "</style>\n",
              "<table border=\"1\" class=\"dataframe\">\n",
              "  <thead>\n",
              "    <tr style=\"text-align: right;\">\n",
              "      <th></th>\n",
              "      <th>Rider Id</th>\n",
              "      <th>No_Of_Orders</th>\n",
              "      <th>Age</th>\n",
              "      <th>Average_Rating</th>\n",
              "      <th>No_of_Ratings</th>\n",
              "    </tr>\n",
              "  </thead>\n",
              "  <tbody>\n",
              "    <tr>\n",
              "      <th>0</th>\n",
              "      <td>Rider_Id_396</td>\n",
              "      <td>2946</td>\n",
              "      <td>2298</td>\n",
              "      <td>14.0</td>\n",
              "      <td>1159</td>\n",
              "    </tr>\n",
              "    <tr>\n",
              "      <th>1</th>\n",
              "      <td>Rider_Id_479</td>\n",
              "      <td>360</td>\n",
              "      <td>951</td>\n",
              "      <td>13.5</td>\n",
              "      <td>176</td>\n",
              "    </tr>\n",
              "    <tr>\n",
              "      <th>2</th>\n",
              "      <td>Rider_Id_648</td>\n",
              "      <td>1746</td>\n",
              "      <td>821</td>\n",
              "      <td>14.3</td>\n",
              "      <td>466</td>\n",
              "    </tr>\n",
              "    <tr>\n",
              "      <th>3</th>\n",
              "      <td>Rider_Id_753</td>\n",
              "      <td>314</td>\n",
              "      <td>980</td>\n",
              "      <td>12.5</td>\n",
              "      <td>75</td>\n",
              "    </tr>\n",
              "    <tr>\n",
              "      <th>4</th>\n",
              "      <td>Rider_Id_335</td>\n",
              "      <td>536</td>\n",
              "      <td>1113</td>\n",
              "      <td>13.7</td>\n",
              "      <td>156</td>\n",
              "    </tr>\n",
              "  </tbody>\n",
              "</table>\n",
              "</div>"
            ],
            "text/plain": [
              "       Rider Id  No_Of_Orders   Age  Average_Rating  No_of_Ratings\n",
              "0  Rider_Id_396          2946  2298            14.0           1159\n",
              "1  Rider_Id_479           360   951            13.5            176\n",
              "2  Rider_Id_648          1746   821            14.3            466\n",
              "3  Rider_Id_753           314   980            12.5             75\n",
              "4  Rider_Id_335           536  1113            13.7            156"
            ]
          },
          "metadata": {
            "tags": []
          },
          "execution_count": 2
        }
      ]
    },
    {
      "cell_type": "code",
      "metadata": {
        "id": "Qli8M4tqCGDZ",
        "colab_type": "code",
        "colab": {}
      },
      "source": [
        "sample = pd.read_csv('SampleSubmission.csv')"
      ],
      "execution_count": 0,
      "outputs": []
    },
    {
      "cell_type": "code",
      "metadata": {
        "id": "FwGwNImDCGDf",
        "colab_type": "code",
        "colab": {},
        "outputId": "78efdb2e-f2a7-477b-a78e-ea0f358cc28e"
      },
      "source": [
        "sample"
      ],
      "execution_count": 0,
      "outputs": [
        {
          "output_type": "execute_result",
          "data": {
            "text/html": [
              "<div>\n",
              "<style scoped>\n",
              "    .dataframe tbody tr th:only-of-type {\n",
              "        vertical-align: middle;\n",
              "    }\n",
              "\n",
              "    .dataframe tbody tr th {\n",
              "        vertical-align: top;\n",
              "    }\n",
              "\n",
              "    .dataframe thead th {\n",
              "        text-align: right;\n",
              "    }\n",
              "</style>\n",
              "<table border=\"1\" class=\"dataframe\">\n",
              "  <thead>\n",
              "    <tr style=\"text-align: right;\">\n",
              "      <th></th>\n",
              "      <th>Order_No</th>\n",
              "      <th>Time from Pickup to Arrival</th>\n",
              "    </tr>\n",
              "  </thead>\n",
              "  <tbody>\n",
              "    <tr>\n",
              "      <th>0</th>\n",
              "      <td>Order_No_19248</td>\n",
              "      <td>567.0</td>\n",
              "    </tr>\n",
              "    <tr>\n",
              "      <th>1</th>\n",
              "      <td>Order_No_12736</td>\n",
              "      <td>4903.0</td>\n",
              "    </tr>\n",
              "    <tr>\n",
              "      <th>2</th>\n",
              "      <td>Order_No_768</td>\n",
              "      <td>5649.0</td>\n",
              "    </tr>\n",
              "    <tr>\n",
              "      <th>3</th>\n",
              "      <td>Order_No_15332</td>\n",
              "      <td>NaN</td>\n",
              "    </tr>\n",
              "    <tr>\n",
              "      <th>4</th>\n",
              "      <td>Order_No_21373</td>\n",
              "      <td>NaN</td>\n",
              "    </tr>\n",
              "    <tr>\n",
              "      <th>...</th>\n",
              "      <td>...</td>\n",
              "      <td>...</td>\n",
              "    </tr>\n",
              "    <tr>\n",
              "      <th>7063</th>\n",
              "      <td>Order_No_3612</td>\n",
              "      <td>NaN</td>\n",
              "    </tr>\n",
              "    <tr>\n",
              "      <th>7064</th>\n",
              "      <td>Order_No_7657</td>\n",
              "      <td>NaN</td>\n",
              "    </tr>\n",
              "    <tr>\n",
              "      <th>7065</th>\n",
              "      <td>Order_No_1969</td>\n",
              "      <td>NaN</td>\n",
              "    </tr>\n",
              "    <tr>\n",
              "      <th>7066</th>\n",
              "      <td>Order_No_10591</td>\n",
              "      <td>NaN</td>\n",
              "    </tr>\n",
              "    <tr>\n",
              "      <th>7067</th>\n",
              "      <td>Order_No_1603</td>\n",
              "      <td>NaN</td>\n",
              "    </tr>\n",
              "  </tbody>\n",
              "</table>\n",
              "<p>7068 rows × 2 columns</p>\n",
              "</div>"
            ],
            "text/plain": [
              "            Order_No  Time from Pickup to Arrival\n",
              "0     Order_No_19248                        567.0\n",
              "1     Order_No_12736                       4903.0\n",
              "2       Order_No_768                       5649.0\n",
              "3     Order_No_15332                          NaN\n",
              "4     Order_No_21373                          NaN\n",
              "...              ...                          ...\n",
              "7063   Order_No_3612                          NaN\n",
              "7064   Order_No_7657                          NaN\n",
              "7065   Order_No_1969                          NaN\n",
              "7066  Order_No_10591                          NaN\n",
              "7067   Order_No_1603                          NaN\n",
              "\n",
              "[7068 rows x 2 columns]"
            ]
          },
          "metadata": {
            "tags": []
          },
          "execution_count": 4
        }
      ]
    },
    {
      "cell_type": "code",
      "metadata": {
        "colab_type": "code",
        "id": "maD9a1IqIVNN",
        "outputId": "3640a034-506c-4174-c765-de25a2765793",
        "scrolled": true,
        "colab": {
          "base_uri": "https://localhost:8080/",
          "height": 438
        }
      },
      "source": [
        "df_train = pd.read_csv('Train.csv')\n",
        "df_train.head()"
      ],
      "execution_count": 0,
      "outputs": [
        {
          "output_type": "execute_result",
          "data": {
            "text/html": [
              "<div>\n",
              "<style scoped>\n",
              "    .dataframe tbody tr th:only-of-type {\n",
              "        vertical-align: middle;\n",
              "    }\n",
              "\n",
              "    .dataframe tbody tr th {\n",
              "        vertical-align: top;\n",
              "    }\n",
              "\n",
              "    .dataframe thead th {\n",
              "        text-align: right;\n",
              "    }\n",
              "</style>\n",
              "<table border=\"1\" class=\"dataframe\">\n",
              "  <thead>\n",
              "    <tr style=\"text-align: right;\">\n",
              "      <th></th>\n",
              "      <th>Order No</th>\n",
              "      <th>User Id</th>\n",
              "      <th>Vehicle Type</th>\n",
              "      <th>Platform Type</th>\n",
              "      <th>Personal or Business</th>\n",
              "      <th>Placement - Day of Month</th>\n",
              "      <th>Placement - Weekday (Mo = 1)</th>\n",
              "      <th>Placement - Time</th>\n",
              "      <th>Confirmation - Day of Month</th>\n",
              "      <th>Confirmation - Weekday (Mo = 1)</th>\n",
              "      <th>...</th>\n",
              "      <th>Arrival at Destination - Time</th>\n",
              "      <th>Distance (KM)</th>\n",
              "      <th>Temperature</th>\n",
              "      <th>Precipitation in millimeters</th>\n",
              "      <th>Pickup Lat</th>\n",
              "      <th>Pickup Long</th>\n",
              "      <th>Destination Lat</th>\n",
              "      <th>Destination Long</th>\n",
              "      <th>Rider Id</th>\n",
              "      <th>Time from Pickup to Arrival</th>\n",
              "    </tr>\n",
              "  </thead>\n",
              "  <tbody>\n",
              "    <tr>\n",
              "      <th>0</th>\n",
              "      <td>Order_No_4211</td>\n",
              "      <td>User_Id_633</td>\n",
              "      <td>Bike</td>\n",
              "      <td>3</td>\n",
              "      <td>Business</td>\n",
              "      <td>9</td>\n",
              "      <td>5</td>\n",
              "      <td>9:35:46 AM</td>\n",
              "      <td>9</td>\n",
              "      <td>5</td>\n",
              "      <td>...</td>\n",
              "      <td>10:39:55 AM</td>\n",
              "      <td>4</td>\n",
              "      <td>20.4</td>\n",
              "      <td>NaN</td>\n",
              "      <td>-1.317755</td>\n",
              "      <td>36.830370</td>\n",
              "      <td>-1.300406</td>\n",
              "      <td>36.829741</td>\n",
              "      <td>Rider_Id_432</td>\n",
              "      <td>745</td>\n",
              "    </tr>\n",
              "    <tr>\n",
              "      <th>1</th>\n",
              "      <td>Order_No_25375</td>\n",
              "      <td>User_Id_2285</td>\n",
              "      <td>Bike</td>\n",
              "      <td>3</td>\n",
              "      <td>Personal</td>\n",
              "      <td>12</td>\n",
              "      <td>5</td>\n",
              "      <td>11:16:16 AM</td>\n",
              "      <td>12</td>\n",
              "      <td>5</td>\n",
              "      <td>...</td>\n",
              "      <td>12:17:22 PM</td>\n",
              "      <td>16</td>\n",
              "      <td>26.4</td>\n",
              "      <td>NaN</td>\n",
              "      <td>-1.351453</td>\n",
              "      <td>36.899315</td>\n",
              "      <td>-1.295004</td>\n",
              "      <td>36.814358</td>\n",
              "      <td>Rider_Id_856</td>\n",
              "      <td>1993</td>\n",
              "    </tr>\n",
              "    <tr>\n",
              "      <th>2</th>\n",
              "      <td>Order_No_1899</td>\n",
              "      <td>User_Id_265</td>\n",
              "      <td>Bike</td>\n",
              "      <td>3</td>\n",
              "      <td>Business</td>\n",
              "      <td>30</td>\n",
              "      <td>2</td>\n",
              "      <td>12:39:25 PM</td>\n",
              "      <td>30</td>\n",
              "      <td>2</td>\n",
              "      <td>...</td>\n",
              "      <td>1:00:38 PM</td>\n",
              "      <td>3</td>\n",
              "      <td>NaN</td>\n",
              "      <td>NaN</td>\n",
              "      <td>-1.308284</td>\n",
              "      <td>36.843419</td>\n",
              "      <td>-1.300921</td>\n",
              "      <td>36.828195</td>\n",
              "      <td>Rider_Id_155</td>\n",
              "      <td>455</td>\n",
              "    </tr>\n",
              "    <tr>\n",
              "      <th>3</th>\n",
              "      <td>Order_No_9336</td>\n",
              "      <td>User_Id_1402</td>\n",
              "      <td>Bike</td>\n",
              "      <td>3</td>\n",
              "      <td>Business</td>\n",
              "      <td>15</td>\n",
              "      <td>5</td>\n",
              "      <td>9:25:34 AM</td>\n",
              "      <td>15</td>\n",
              "      <td>5</td>\n",
              "      <td>...</td>\n",
              "      <td>10:05:27 AM</td>\n",
              "      <td>9</td>\n",
              "      <td>19.2</td>\n",
              "      <td>NaN</td>\n",
              "      <td>-1.281301</td>\n",
              "      <td>36.832396</td>\n",
              "      <td>-1.257147</td>\n",
              "      <td>36.795063</td>\n",
              "      <td>Rider_Id_855</td>\n",
              "      <td>1341</td>\n",
              "    </tr>\n",
              "    <tr>\n",
              "      <th>4</th>\n",
              "      <td>Order_No_27883</td>\n",
              "      <td>User_Id_1737</td>\n",
              "      <td>Bike</td>\n",
              "      <td>1</td>\n",
              "      <td>Personal</td>\n",
              "      <td>13</td>\n",
              "      <td>1</td>\n",
              "      <td>9:55:18 AM</td>\n",
              "      <td>13</td>\n",
              "      <td>1</td>\n",
              "      <td>...</td>\n",
              "      <td>10:25:37 AM</td>\n",
              "      <td>9</td>\n",
              "      <td>15.4</td>\n",
              "      <td>NaN</td>\n",
              "      <td>-1.266597</td>\n",
              "      <td>36.792118</td>\n",
              "      <td>-1.295041</td>\n",
              "      <td>36.809817</td>\n",
              "      <td>Rider_Id_770</td>\n",
              "      <td>1214</td>\n",
              "    </tr>\n",
              "  </tbody>\n",
              "</table>\n",
              "<p>5 rows × 29 columns</p>\n",
              "</div>"
            ],
            "text/plain": [
              "         Order No       User Id Vehicle Type  Platform Type  \\\n",
              "0   Order_No_4211   User_Id_633         Bike              3   \n",
              "1  Order_No_25375  User_Id_2285         Bike              3   \n",
              "2   Order_No_1899   User_Id_265         Bike              3   \n",
              "3   Order_No_9336  User_Id_1402         Bike              3   \n",
              "4  Order_No_27883  User_Id_1737         Bike              1   \n",
              "\n",
              "  Personal or Business  Placement - Day of Month  \\\n",
              "0             Business                         9   \n",
              "1             Personal                        12   \n",
              "2             Business                        30   \n",
              "3             Business                        15   \n",
              "4             Personal                        13   \n",
              "\n",
              "   Placement - Weekday (Mo = 1) Placement - Time  Confirmation - Day of Month  \\\n",
              "0                             5       9:35:46 AM                            9   \n",
              "1                             5      11:16:16 AM                           12   \n",
              "2                             2      12:39:25 PM                           30   \n",
              "3                             5       9:25:34 AM                           15   \n",
              "4                             1       9:55:18 AM                           13   \n",
              "\n",
              "   Confirmation - Weekday (Mo = 1)  ... Arrival at Destination - Time  \\\n",
              "0                                5  ...                   10:39:55 AM   \n",
              "1                                5  ...                   12:17:22 PM   \n",
              "2                                2  ...                    1:00:38 PM   \n",
              "3                                5  ...                   10:05:27 AM   \n",
              "4                                1  ...                   10:25:37 AM   \n",
              "\n",
              "   Distance (KM)  Temperature Precipitation in millimeters  Pickup Lat  \\\n",
              "0              4         20.4                          NaN   -1.317755   \n",
              "1             16         26.4                          NaN   -1.351453   \n",
              "2              3          NaN                          NaN   -1.308284   \n",
              "3              9         19.2                          NaN   -1.281301   \n",
              "4              9         15.4                          NaN   -1.266597   \n",
              "\n",
              "   Pickup Long Destination Lat  Destination Long      Rider Id  \\\n",
              "0    36.830370       -1.300406         36.829741  Rider_Id_432   \n",
              "1    36.899315       -1.295004         36.814358  Rider_Id_856   \n",
              "2    36.843419       -1.300921         36.828195  Rider_Id_155   \n",
              "3    36.832396       -1.257147         36.795063  Rider_Id_855   \n",
              "4    36.792118       -1.295041         36.809817  Rider_Id_770   \n",
              "\n",
              "  Time from Pickup to Arrival  \n",
              "0                         745  \n",
              "1                        1993  \n",
              "2                         455  \n",
              "3                        1341  \n",
              "4                        1214  \n",
              "\n",
              "[5 rows x 29 columns]"
            ]
          },
          "metadata": {
            "tags": []
          },
          "execution_count": 5
        }
      ]
    },
    {
      "cell_type": "markdown",
      "metadata": {
        "id": "okzCWONZCGDw",
        "colab_type": "text"
      },
      "source": [
        "Checking for columns not in test"
      ]
    },
    {
      "cell_type": "code",
      "metadata": {
        "id": "bdv0GAXICGDx",
        "colab_type": "code",
        "colab": {},
        "outputId": "391ff5b7-5d65-4768-d637-fa8235f02b55"
      },
      "source": [
        "#checking the length of the train dataset\n",
        "len(df_train.columns)"
      ],
      "execution_count": 0,
      "outputs": [
        {
          "output_type": "execute_result",
          "data": {
            "text/plain": [
              "29"
            ]
          },
          "metadata": {
            "tags": []
          },
          "execution_count": 6
        }
      ]
    },
    {
      "cell_type": "code",
      "metadata": {
        "id": "6pDapNQbCGD3",
        "colab_type": "code",
        "colab": {},
        "outputId": "da05a589-69ad-42b9-c3bb-06ef1366821d"
      },
      "source": [
        "df_test = pd.read_csv('Test.csv')\n",
        "#checking the length of the test dataset\n",
        "len(df_test.columns)"
      ],
      "execution_count": 0,
      "outputs": [
        {
          "output_type": "execute_result",
          "data": {
            "text/plain": [
              "25"
            ]
          },
          "metadata": {
            "tags": []
          },
          "execution_count": 7
        }
      ]
    },
    {
      "cell_type": "code",
      "metadata": {
        "scrolled": false,
        "id": "i4_ws-BiCGD9",
        "colab_type": "code",
        "colab": {},
        "outputId": "bcbaf942-f829-4a58-9f2e-1bd9e421b70e"
      },
      "source": [
        "#checking for columns that are in train data but not in test data\n",
        "list(set(list(df_train.columns)) - set(list(df_test.columns)))"
      ],
      "execution_count": 0,
      "outputs": [
        {
          "output_type": "execute_result",
          "data": {
            "text/plain": [
              "['Arrival at Destination - Weekday (Mo = 1)',\n",
              " 'Arrival at Destination - Day of Month',\n",
              " 'Time from Pickup to Arrival',\n",
              " 'Arrival at Destination - Time']"
            ]
          },
          "metadata": {
            "tags": []
          },
          "execution_count": 8
        }
      ]
    },
    {
      "cell_type": "markdown",
      "metadata": {
        "id": "03yb42aACGEC",
        "colab_type": "text"
      },
      "source": [
        "Drop all columns from train that are not in test "
      ]
    },
    {
      "cell_type": "code",
      "metadata": {
        "id": "LodnKY9QCGEG",
        "colab_type": "code",
        "colab": {}
      },
      "source": [
        "y = df_train['Time from Pickup to Arrival']\n",
        "df_train.drop(columns=['Arrival at Destination - Weekday (Mo = 1)',\n",
        "                       'Time from Pickup to Arrival', \n",
        "                       'Arrival at Destination - Time',\n",
        "                       'Arrival at Destination - Day of Month'], inplace = True, axis = 1)"
      ],
      "execution_count": 0,
      "outputs": []
    },
    {
      "cell_type": "code",
      "metadata": {
        "id": "41WwoIQvCGEK",
        "colab_type": "code",
        "colab": {},
        "outputId": "d8e25c21-0163-4bb2-ed32-cfe37b03dac9"
      },
      "source": [
        "list(set(list(df_train.columns)) - set(list(df_test.columns)))"
      ],
      "execution_count": 0,
      "outputs": [
        {
          "output_type": "execute_result",
          "data": {
            "text/plain": [
              "[]"
            ]
          },
          "metadata": {
            "tags": []
          },
          "execution_count": 10
        }
      ]
    },
    {
      "cell_type": "code",
      "metadata": {
        "id": "GjG2SPkkCGEQ",
        "colab_type": "code",
        "colab": {},
        "outputId": "388fa0d7-1d7c-48ed-a5b9-1d67589f5f58"
      },
      "source": [
        "#To check the information of the dataset\n",
        "df_train.info()"
      ],
      "execution_count": 0,
      "outputs": [
        {
          "output_type": "stream",
          "text": [
            "<class 'pandas.core.frame.DataFrame'>\n",
            "RangeIndex: 21201 entries, 0 to 21200\n",
            "Data columns (total 25 columns):\n",
            " #   Column                                Non-Null Count  Dtype  \n",
            "---  ------                                --------------  -----  \n",
            " 0   Order No                              21201 non-null  object \n",
            " 1   User Id                               21201 non-null  object \n",
            " 2   Vehicle Type                          21201 non-null  object \n",
            " 3   Platform Type                         21201 non-null  int64  \n",
            " 4   Personal or Business                  21201 non-null  object \n",
            " 5   Placement - Day of Month              21201 non-null  int64  \n",
            " 6   Placement - Weekday (Mo = 1)          21201 non-null  int64  \n",
            " 7   Placement - Time                      21201 non-null  object \n",
            " 8   Confirmation - Day of Month           21201 non-null  int64  \n",
            " 9   Confirmation - Weekday (Mo = 1)       21201 non-null  int64  \n",
            " 10  Confirmation - Time                   21201 non-null  object \n",
            " 11  Arrival at Pickup - Day of Month      21201 non-null  int64  \n",
            " 12  Arrival at Pickup - Weekday (Mo = 1)  21201 non-null  int64  \n",
            " 13  Arrival at Pickup - Time              21201 non-null  object \n",
            " 14  Pickup - Day of Month                 21201 non-null  int64  \n",
            " 15  Pickup - Weekday (Mo = 1)             21201 non-null  int64  \n",
            " 16  Pickup - Time                         21201 non-null  object \n",
            " 17  Distance (KM)                         21201 non-null  int64  \n",
            " 18  Temperature                           16835 non-null  float64\n",
            " 19  Precipitation in millimeters          552 non-null    float64\n",
            " 20  Pickup Lat                            21201 non-null  float64\n",
            " 21  Pickup Long                           21201 non-null  float64\n",
            " 22  Destination Lat                       21201 non-null  float64\n",
            " 23  Destination Long                      21201 non-null  float64\n",
            " 24  Rider Id                              21201 non-null  object \n",
            "dtypes: float64(6), int64(10), object(9)\n",
            "memory usage: 4.0+ MB\n"
          ],
          "name": "stdout"
        }
      ]
    },
    {
      "cell_type": "code",
      "metadata": {
        "id": "2DaxaLjxCGEU",
        "colab_type": "code",
        "colab": {},
        "outputId": "42d06c81-cb5b-4377-da5f-6ebc463e9dde"
      },
      "source": [
        "#To check descriptive statistics of data frame\n",
        "df_train.describe()"
      ],
      "execution_count": 0,
      "outputs": [
        {
          "output_type": "execute_result",
          "data": {
            "text/html": [
              "<div>\n",
              "<style scoped>\n",
              "    .dataframe tbody tr th:only-of-type {\n",
              "        vertical-align: middle;\n",
              "    }\n",
              "\n",
              "    .dataframe tbody tr th {\n",
              "        vertical-align: top;\n",
              "    }\n",
              "\n",
              "    .dataframe thead th {\n",
              "        text-align: right;\n",
              "    }\n",
              "</style>\n",
              "<table border=\"1\" class=\"dataframe\">\n",
              "  <thead>\n",
              "    <tr style=\"text-align: right;\">\n",
              "      <th></th>\n",
              "      <th>Platform Type</th>\n",
              "      <th>Placement - Day of Month</th>\n",
              "      <th>Placement - Weekday (Mo = 1)</th>\n",
              "      <th>Confirmation - Day of Month</th>\n",
              "      <th>Confirmation - Weekday (Mo = 1)</th>\n",
              "      <th>Arrival at Pickup - Day of Month</th>\n",
              "      <th>Arrival at Pickup - Weekday (Mo = 1)</th>\n",
              "      <th>Pickup - Day of Month</th>\n",
              "      <th>Pickup - Weekday (Mo = 1)</th>\n",
              "      <th>Distance (KM)</th>\n",
              "      <th>Temperature</th>\n",
              "      <th>Precipitation in millimeters</th>\n",
              "      <th>Pickup Lat</th>\n",
              "      <th>Pickup Long</th>\n",
              "      <th>Destination Lat</th>\n",
              "      <th>Destination Long</th>\n",
              "    </tr>\n",
              "  </thead>\n",
              "  <tbody>\n",
              "    <tr>\n",
              "      <th>count</th>\n",
              "      <td>21201.000000</td>\n",
              "      <td>21201.000000</td>\n",
              "      <td>21201.000000</td>\n",
              "      <td>21201.000000</td>\n",
              "      <td>21201.000000</td>\n",
              "      <td>21201.000000</td>\n",
              "      <td>21201.000000</td>\n",
              "      <td>21201.000000</td>\n",
              "      <td>21201.000000</td>\n",
              "      <td>21201.000000</td>\n",
              "      <td>16835.000000</td>\n",
              "      <td>552.000000</td>\n",
              "      <td>21201.000000</td>\n",
              "      <td>21201.000000</td>\n",
              "      <td>21201.000000</td>\n",
              "      <td>21201.000000</td>\n",
              "    </tr>\n",
              "    <tr>\n",
              "      <th>mean</th>\n",
              "      <td>2.752182</td>\n",
              "      <td>15.653696</td>\n",
              "      <td>3.240083</td>\n",
              "      <td>15.653837</td>\n",
              "      <td>3.240225</td>\n",
              "      <td>15.653837</td>\n",
              "      <td>3.240225</td>\n",
              "      <td>15.653837</td>\n",
              "      <td>3.240225</td>\n",
              "      <td>9.506533</td>\n",
              "      <td>23.258889</td>\n",
              "      <td>7.905797</td>\n",
              "      <td>-1.281470</td>\n",
              "      <td>36.811264</td>\n",
              "      <td>-1.282581</td>\n",
              "      <td>36.811220</td>\n",
              "    </tr>\n",
              "    <tr>\n",
              "      <th>std</th>\n",
              "      <td>0.625178</td>\n",
              "      <td>8.798916</td>\n",
              "      <td>1.567295</td>\n",
              "      <td>8.798886</td>\n",
              "      <td>1.567228</td>\n",
              "      <td>8.798886</td>\n",
              "      <td>1.567228</td>\n",
              "      <td>8.798886</td>\n",
              "      <td>1.567228</td>\n",
              "      <td>5.668963</td>\n",
              "      <td>3.615768</td>\n",
              "      <td>17.089971</td>\n",
              "      <td>0.030507</td>\n",
              "      <td>0.037473</td>\n",
              "      <td>0.034824</td>\n",
              "      <td>0.044721</td>\n",
              "    </tr>\n",
              "    <tr>\n",
              "      <th>min</th>\n",
              "      <td>1.000000</td>\n",
              "      <td>1.000000</td>\n",
              "      <td>1.000000</td>\n",
              "      <td>1.000000</td>\n",
              "      <td>1.000000</td>\n",
              "      <td>1.000000</td>\n",
              "      <td>1.000000</td>\n",
              "      <td>1.000000</td>\n",
              "      <td>1.000000</td>\n",
              "      <td>1.000000</td>\n",
              "      <td>11.200000</td>\n",
              "      <td>0.100000</td>\n",
              "      <td>-1.438302</td>\n",
              "      <td>36.653621</td>\n",
              "      <td>-1.430298</td>\n",
              "      <td>36.606594</td>\n",
              "    </tr>\n",
              "    <tr>\n",
              "      <th>25%</th>\n",
              "      <td>3.000000</td>\n",
              "      <td>8.000000</td>\n",
              "      <td>2.000000</td>\n",
              "      <td>8.000000</td>\n",
              "      <td>2.000000</td>\n",
              "      <td>8.000000</td>\n",
              "      <td>2.000000</td>\n",
              "      <td>8.000000</td>\n",
              "      <td>2.000000</td>\n",
              "      <td>5.000000</td>\n",
              "      <td>20.600000</td>\n",
              "      <td>1.075000</td>\n",
              "      <td>-1.300921</td>\n",
              "      <td>36.784605</td>\n",
              "      <td>-1.301201</td>\n",
              "      <td>36.785661</td>\n",
              "    </tr>\n",
              "    <tr>\n",
              "      <th>50%</th>\n",
              "      <td>3.000000</td>\n",
              "      <td>15.000000</td>\n",
              "      <td>3.000000</td>\n",
              "      <td>15.000000</td>\n",
              "      <td>3.000000</td>\n",
              "      <td>15.000000</td>\n",
              "      <td>3.000000</td>\n",
              "      <td>15.000000</td>\n",
              "      <td>3.000000</td>\n",
              "      <td>8.000000</td>\n",
              "      <td>23.500000</td>\n",
              "      <td>2.900000</td>\n",
              "      <td>-1.279395</td>\n",
              "      <td>36.807040</td>\n",
              "      <td>-1.284382</td>\n",
              "      <td>36.808002</td>\n",
              "    </tr>\n",
              "    <tr>\n",
              "      <th>75%</th>\n",
              "      <td>3.000000</td>\n",
              "      <td>23.000000</td>\n",
              "      <td>5.000000</td>\n",
              "      <td>23.000000</td>\n",
              "      <td>5.000000</td>\n",
              "      <td>23.000000</td>\n",
              "      <td>5.000000</td>\n",
              "      <td>23.000000</td>\n",
              "      <td>5.000000</td>\n",
              "      <td>13.000000</td>\n",
              "      <td>26.000000</td>\n",
              "      <td>4.900000</td>\n",
              "      <td>-1.257147</td>\n",
              "      <td>36.829741</td>\n",
              "      <td>-1.261177</td>\n",
              "      <td>36.829477</td>\n",
              "    </tr>\n",
              "    <tr>\n",
              "      <th>max</th>\n",
              "      <td>4.000000</td>\n",
              "      <td>31.000000</td>\n",
              "      <td>7.000000</td>\n",
              "      <td>31.000000</td>\n",
              "      <td>7.000000</td>\n",
              "      <td>31.000000</td>\n",
              "      <td>7.000000</td>\n",
              "      <td>31.000000</td>\n",
              "      <td>7.000000</td>\n",
              "      <td>49.000000</td>\n",
              "      <td>32.100000</td>\n",
              "      <td>99.100000</td>\n",
              "      <td>-1.147170</td>\n",
              "      <td>36.991046</td>\n",
              "      <td>-1.030225</td>\n",
              "      <td>37.016779</td>\n",
              "    </tr>\n",
              "  </tbody>\n",
              "</table>\n",
              "</div>"
            ],
            "text/plain": [
              "       Platform Type  Placement - Day of Month  Placement - Weekday (Mo = 1)  \\\n",
              "count   21201.000000              21201.000000                  21201.000000   \n",
              "mean        2.752182                 15.653696                      3.240083   \n",
              "std         0.625178                  8.798916                      1.567295   \n",
              "min         1.000000                  1.000000                      1.000000   \n",
              "25%         3.000000                  8.000000                      2.000000   \n",
              "50%         3.000000                 15.000000                      3.000000   \n",
              "75%         3.000000                 23.000000                      5.000000   \n",
              "max         4.000000                 31.000000                      7.000000   \n",
              "\n",
              "       Confirmation - Day of Month  Confirmation - Weekday (Mo = 1)  \\\n",
              "count                 21201.000000                     21201.000000   \n",
              "mean                     15.653837                         3.240225   \n",
              "std                       8.798886                         1.567228   \n",
              "min                       1.000000                         1.000000   \n",
              "25%                       8.000000                         2.000000   \n",
              "50%                      15.000000                         3.000000   \n",
              "75%                      23.000000                         5.000000   \n",
              "max                      31.000000                         7.000000   \n",
              "\n",
              "       Arrival at Pickup - Day of Month  Arrival at Pickup - Weekday (Mo = 1)  \\\n",
              "count                      21201.000000                          21201.000000   \n",
              "mean                          15.653837                              3.240225   \n",
              "std                            8.798886                              1.567228   \n",
              "min                            1.000000                              1.000000   \n",
              "25%                            8.000000                              2.000000   \n",
              "50%                           15.000000                              3.000000   \n",
              "75%                           23.000000                              5.000000   \n",
              "max                           31.000000                              7.000000   \n",
              "\n",
              "       Pickup - Day of Month  Pickup - Weekday (Mo = 1)  Distance (KM)  \\\n",
              "count           21201.000000               21201.000000   21201.000000   \n",
              "mean               15.653837                   3.240225       9.506533   \n",
              "std                 8.798886                   1.567228       5.668963   \n",
              "min                 1.000000                   1.000000       1.000000   \n",
              "25%                 8.000000                   2.000000       5.000000   \n",
              "50%                15.000000                   3.000000       8.000000   \n",
              "75%                23.000000                   5.000000      13.000000   \n",
              "max                31.000000                   7.000000      49.000000   \n",
              "\n",
              "        Temperature  Precipitation in millimeters    Pickup Lat   Pickup Long  \\\n",
              "count  16835.000000                    552.000000  21201.000000  21201.000000   \n",
              "mean      23.258889                      7.905797     -1.281470     36.811264   \n",
              "std        3.615768                     17.089971      0.030507      0.037473   \n",
              "min       11.200000                      0.100000     -1.438302     36.653621   \n",
              "25%       20.600000                      1.075000     -1.300921     36.784605   \n",
              "50%       23.500000                      2.900000     -1.279395     36.807040   \n",
              "75%       26.000000                      4.900000     -1.257147     36.829741   \n",
              "max       32.100000                     99.100000     -1.147170     36.991046   \n",
              "\n",
              "       Destination Lat  Destination Long  \n",
              "count     21201.000000      21201.000000  \n",
              "mean         -1.282581         36.811220  \n",
              "std           0.034824          0.044721  \n",
              "min          -1.430298         36.606594  \n",
              "25%          -1.301201         36.785661  \n",
              "50%          -1.284382         36.808002  \n",
              "75%          -1.261177         36.829477  \n",
              "max          -1.030225         37.016779  "
            ]
          },
          "metadata": {
            "tags": []
          },
          "execution_count": 12
        }
      ]
    },
    {
      "cell_type": "code",
      "metadata": {
        "id": "N31JZy1kCGEa",
        "colab_type": "code",
        "colab": {},
        "outputId": "3b786ace-e5c1-41e1-a6b6-0096797e1249"
      },
      "source": [
        "#To check the shape of Dataframe\n",
        "df_train.shape"
      ],
      "execution_count": 0,
      "outputs": [
        {
          "output_type": "execute_result",
          "data": {
            "text/plain": [
              "(21201, 25)"
            ]
          },
          "metadata": {
            "tags": []
          },
          "execution_count": 13
        }
      ]
    },
    {
      "cell_type": "code",
      "metadata": {
        "id": "r69JNl3ACGEe",
        "colab_type": "code",
        "colab": {},
        "outputId": "1749f110-893e-4692-98a9-7b341bc5df4f"
      },
      "source": [
        "df_train.columns"
      ],
      "execution_count": 0,
      "outputs": [
        {
          "output_type": "execute_result",
          "data": {
            "text/plain": [
              "Index(['Order No', 'User Id', 'Vehicle Type', 'Platform Type',\n",
              "       'Personal or Business', 'Placement - Day of Month',\n",
              "       'Placement - Weekday (Mo = 1)', 'Placement - Time',\n",
              "       'Confirmation - Day of Month', 'Confirmation - Weekday (Mo = 1)',\n",
              "       'Confirmation - Time', 'Arrival at Pickup - Day of Month',\n",
              "       'Arrival at Pickup - Weekday (Mo = 1)', 'Arrival at Pickup - Time',\n",
              "       'Pickup - Day of Month', 'Pickup - Weekday (Mo = 1)', 'Pickup - Time',\n",
              "       'Distance (KM)', 'Temperature', 'Precipitation in millimeters',\n",
              "       'Pickup Lat', 'Pickup Long', 'Destination Lat', 'Destination Long',\n",
              "       'Rider Id'],\n",
              "      dtype='object')"
            ]
          },
          "metadata": {
            "tags": []
          },
          "execution_count": 14
        }
      ]
    },
    {
      "cell_type": "code",
      "metadata": {
        "id": "RmCpZ7C-CGEk",
        "colab_type": "code",
        "colab": {}
      },
      "source": [
        "#df_train[df_train.dtypes == 'object']"
      ],
      "execution_count": 0,
      "outputs": []
    },
    {
      "cell_type": "markdown",
      "metadata": {
        "id": "0vcpOwxTCGEp",
        "colab_type": "text"
      },
      "source": [
        "## Exploratory Data Analysis\n"
      ]
    },
    {
      "cell_type": "markdown",
      "metadata": {
        "id": "e6RKmQqNCGEp",
        "colab_type": "text"
      },
      "source": [
        "### Taking care of Missing Data"
      ]
    },
    {
      "cell_type": "code",
      "metadata": {
        "id": "LcF8Ls0XCGEq",
        "colab_type": "code",
        "colab": {},
        "outputId": "dcb9e480-9346-4574-d0ac-9463eef1bbee"
      },
      "source": [
        "#checking for nulls in the dataframe\n",
        "df_train.isnull().sum()"
      ],
      "execution_count": 0,
      "outputs": [
        {
          "output_type": "execute_result",
          "data": {
            "text/plain": [
              "Order No                                    0\n",
              "User Id                                     0\n",
              "Vehicle Type                                0\n",
              "Platform Type                               0\n",
              "Personal or Business                        0\n",
              "Placement - Day of Month                    0\n",
              "Placement - Weekday (Mo = 1)                0\n",
              "Placement - Time                            0\n",
              "Confirmation - Day of Month                 0\n",
              "Confirmation - Weekday (Mo = 1)             0\n",
              "Confirmation - Time                         0\n",
              "Arrival at Pickup - Day of Month            0\n",
              "Arrival at Pickup - Weekday (Mo = 1)        0\n",
              "Arrival at Pickup - Time                    0\n",
              "Pickup - Day of Month                       0\n",
              "Pickup - Weekday (Mo = 1)                   0\n",
              "Pickup - Time                               0\n",
              "Distance (KM)                               0\n",
              "Temperature                              4366\n",
              "Precipitation in millimeters            20649\n",
              "Pickup Lat                                  0\n",
              "Pickup Long                                 0\n",
              "Destination Lat                             0\n",
              "Destination Long                            0\n",
              "Rider Id                                    0\n",
              "dtype: int64"
            ]
          },
          "metadata": {
            "tags": []
          },
          "execution_count": 16
        }
      ]
    },
    {
      "cell_type": "code",
      "metadata": {
        "id": "kgqO1vNlCGEz",
        "colab_type": "code",
        "colab": {},
        "outputId": "620b6282-0dc4-471e-993f-602ea932cb7f"
      },
      "source": [
        "#Total of nulls in the column\n",
        "df_train['Precipitation in millimeters'].isnull().sum()"
      ],
      "execution_count": 0,
      "outputs": [
        {
          "output_type": "execute_result",
          "data": {
            "text/plain": [
              "20649"
            ]
          },
          "metadata": {
            "tags": []
          },
          "execution_count": 17
        }
      ]
    },
    {
      "cell_type": "code",
      "metadata": {
        "id": "p5-SArwJCGE5",
        "colab_type": "code",
        "colab": {},
        "outputId": "44598950-a495-40f4-ccef-278cf1d53609"
      },
      "source": [
        "len(df_train['Precipitation in millimeters'])"
      ],
      "execution_count": 0,
      "outputs": [
        {
          "output_type": "execute_result",
          "data": {
            "text/plain": [
              "21201"
            ]
          },
          "metadata": {
            "tags": []
          },
          "execution_count": 18
        }
      ]
    },
    {
      "cell_type": "code",
      "metadata": {
        "scrolled": true,
        "id": "WbfNpG23CGFB",
        "colab_type": "code",
        "colab": {},
        "outputId": "bc831412-fe8d-49b3-eccf-cddb9095f891"
      },
      "source": [
        "#percentage of precip... in the column\n",
        "df_train['Precipitation in millimeters'].isnull().sum() / len(df_train['Precipitation in millimeters']) *100"
      ],
      "execution_count": 0,
      "outputs": [
        {
          "output_type": "execute_result",
          "data": {
            "text/plain": [
              "97.39634922880997"
            ]
          },
          "metadata": {
            "tags": []
          },
          "execution_count": 19
        }
      ]
    },
    {
      "cell_type": "code",
      "metadata": {
        "id": "VHvCfhalCGFL",
        "colab_type": "code",
        "colab": {},
        "outputId": "09073a40-f2cb-437b-aa04-c9c2e6b87255"
      },
      "source": [
        "df_train['Temperature'].isnull().sum()"
      ],
      "execution_count": 0,
      "outputs": [
        {
          "output_type": "execute_result",
          "data": {
            "text/plain": [
              "4366"
            ]
          },
          "metadata": {
            "tags": []
          },
          "execution_count": 20
        }
      ]
    },
    {
      "cell_type": "code",
      "metadata": {
        "id": "GNV2WnArCGFR",
        "colab_type": "code",
        "colab": {},
        "outputId": "ea3a6125-28b9-42bb-9878-320f90db75bf"
      },
      "source": [
        "len(df_train['Temperature'])"
      ],
      "execution_count": 0,
      "outputs": [
        {
          "output_type": "execute_result",
          "data": {
            "text/plain": [
              "21201"
            ]
          },
          "metadata": {
            "tags": []
          },
          "execution_count": 21
        }
      ]
    },
    {
      "cell_type": "code",
      "metadata": {
        "scrolled": true,
        "id": "lStfETTICGFV",
        "colab_type": "code",
        "colab": {},
        "outputId": "fffdfeac-3867-4c2c-f3fd-2c3926d19342"
      },
      "source": [
        "#Percentage of those values that are nulls\n",
        "df_train['Temperature'].isnull().sum() / len(df_train['Temperature']) *100"
      ],
      "execution_count": 0,
      "outputs": [
        {
          "output_type": "execute_result",
          "data": {
            "text/plain": [
              "20.593368237347295"
            ]
          },
          "metadata": {
            "tags": []
          },
          "execution_count": 22
        }
      ]
    },
    {
      "cell_type": "markdown",
      "metadata": {
        "id": "SdvlIuOmCGFa",
        "colab_type": "text"
      },
      "source": [
        "Dropping Precipitation in millimeters column because it has 97% nulls"
      ]
    },
    {
      "cell_type": "code",
      "metadata": {
        "id": "ZgIzZQRbCGFg",
        "colab_type": "code",
        "colab": {}
      },
      "source": [
        "df_train.drop('Precipitation in millimeters', inplace=True, axis=1)"
      ],
      "execution_count": 0,
      "outputs": []
    },
    {
      "cell_type": "code",
      "metadata": {
        "scrolled": true,
        "id": "z09lRVWrCGFq",
        "colab_type": "code",
        "colab": {},
        "outputId": "6d9ae2c1-3e5e-41b6-d3de-65374a3a4e2e"
      },
      "source": [
        "df_train.columns"
      ],
      "execution_count": 0,
      "outputs": [
        {
          "output_type": "execute_result",
          "data": {
            "text/plain": [
              "Index(['Order No', 'User Id', 'Vehicle Type', 'Platform Type',\n",
              "       'Personal or Business', 'Placement - Day of Month',\n",
              "       'Placement - Weekday (Mo = 1)', 'Placement - Time',\n",
              "       'Confirmation - Day of Month', 'Confirmation - Weekday (Mo = 1)',\n",
              "       'Confirmation - Time', 'Arrival at Pickup - Day of Month',\n",
              "       'Arrival at Pickup - Weekday (Mo = 1)', 'Arrival at Pickup - Time',\n",
              "       'Pickup - Day of Month', 'Pickup - Weekday (Mo = 1)', 'Pickup - Time',\n",
              "       'Distance (KM)', 'Temperature', 'Pickup Lat', 'Pickup Long',\n",
              "       'Destination Lat', 'Destination Long', 'Rider Id'],\n",
              "      dtype='object')"
            ]
          },
          "metadata": {
            "tags": []
          },
          "execution_count": 24
        }
      ]
    },
    {
      "cell_type": "markdown",
      "metadata": {
        "id": "C6-rku2QCGFv",
        "colab_type": "text"
      },
      "source": [
        "Filled Temperature nulls with mean"
      ]
    },
    {
      "cell_type": "code",
      "metadata": {
        "id": "LHfxEgX8CGF0",
        "colab_type": "code",
        "colab": {}
      },
      "source": [
        "df_train['Temperature'] = df_train['Temperature'].fillna(df_train['Temperature'].mean())"
      ],
      "execution_count": 0,
      "outputs": []
    },
    {
      "cell_type": "code",
      "metadata": {
        "id": "eZEzIPaUCGF3",
        "colab_type": "code",
        "colab": {},
        "outputId": "af36d9fe-0910-41ff-9933-c06f0aeeaf68"
      },
      "source": [
        "df_train['Temperature'].isnull().sum()"
      ],
      "execution_count": 0,
      "outputs": [
        {
          "output_type": "execute_result",
          "data": {
            "text/plain": [
              "0"
            ]
          },
          "metadata": {
            "tags": []
          },
          "execution_count": 26
        }
      ]
    },
    {
      "cell_type": "markdown",
      "metadata": {
        "id": "yR0dJdx5CGF7",
        "colab_type": "text"
      },
      "source": [
        "### Visualizing correlerations"
      ]
    },
    {
      "cell_type": "code",
      "metadata": {
        "id": "bdO0UUO7CGF8",
        "colab_type": "code",
        "colab": {}
      },
      "source": [
        "# plt.figure(figsize = (5,4))\n",
        "\n",
        "# columns = df_train.corr().nlargest(10, 'Time from Pickup to Arrival')['Time from Pickup to Arrival'].index\n",
        "# corr_matrix = np.corrcoef(df_train[columns].values.T)\n",
        "# sns.set(font_scale = 1.25)\n",
        "# corr_matrix\n",
        "# sns.heatmap(corr_matrix, annot = True, yticklabels = columns.values, fmt='.2f', annot_kws={'size': 5}, xticklabels = columns.values, center = 0.55)\n",
        "# plt.show()\n"
      ],
      "execution_count": 0,
      "outputs": []
    },
    {
      "cell_type": "code",
      "metadata": {
        "id": "lzaqvdorCGGE",
        "colab_type": "code",
        "colab": {}
      },
      "source": [
        "# df_train['Time from Pickup to Arrival'].value_counts().nlargest(15).plot(kind='bar', figsize=(15,5))\n",
        "# plt.title(\"Time from pickup to Arrival\")\n",
        "# plt.ylabel('Time from pick up to arrival')\n",
        "# plt.xlabel('independent');"
      ],
      "execution_count": 0,
      "outputs": []
    },
    {
      "cell_type": "code",
      "metadata": {
        "scrolled": true,
        "id": "lZLPpEjpCGGJ",
        "colab_type": "code",
        "colab": {}
      },
      "source": [
        "# X['Distance (KM)'].hist(bins = 5,color = 'red')\n",
        "# plt.title(\"Distance covered (KM)\")\n",
        "# # plt.ylabel('Number of (KM)')\n",
        "# plt.xlabel('Pickup to Arrival');"
      ],
      "execution_count": 0,
      "outputs": []
    },
    {
      "cell_type": "markdown",
      "metadata": {
        "id": "ANxoZOejCGGP",
        "colab_type": "text"
      },
      "source": [
        "## Dealing with Catagorical Variables"
      ]
    },
    {
      "cell_type": "code",
      "metadata": {
        "id": "horLA3lHCGGQ",
        "colab_type": "code",
        "colab": {},
        "outputId": "1e290ecd-ecf2-4254-954e-c6570a8ae7cc"
      },
      "source": [
        "df_train.head()"
      ],
      "execution_count": 0,
      "outputs": [
        {
          "output_type": "execute_result",
          "data": {
            "text/html": [
              "<div>\n",
              "<style scoped>\n",
              "    .dataframe tbody tr th:only-of-type {\n",
              "        vertical-align: middle;\n",
              "    }\n",
              "\n",
              "    .dataframe tbody tr th {\n",
              "        vertical-align: top;\n",
              "    }\n",
              "\n",
              "    .dataframe thead th {\n",
              "        text-align: right;\n",
              "    }\n",
              "</style>\n",
              "<table border=\"1\" class=\"dataframe\">\n",
              "  <thead>\n",
              "    <tr style=\"text-align: right;\">\n",
              "      <th></th>\n",
              "      <th>Order No</th>\n",
              "      <th>User Id</th>\n",
              "      <th>Vehicle Type</th>\n",
              "      <th>Platform Type</th>\n",
              "      <th>Personal or Business</th>\n",
              "      <th>Placement - Day of Month</th>\n",
              "      <th>Placement - Weekday (Mo = 1)</th>\n",
              "      <th>Placement - Time</th>\n",
              "      <th>Confirmation - Day of Month</th>\n",
              "      <th>Confirmation - Weekday (Mo = 1)</th>\n",
              "      <th>...</th>\n",
              "      <th>Pickup - Day of Month</th>\n",
              "      <th>Pickup - Weekday (Mo = 1)</th>\n",
              "      <th>Pickup - Time</th>\n",
              "      <th>Distance (KM)</th>\n",
              "      <th>Temperature</th>\n",
              "      <th>Pickup Lat</th>\n",
              "      <th>Pickup Long</th>\n",
              "      <th>Destination Lat</th>\n",
              "      <th>Destination Long</th>\n",
              "      <th>Rider Id</th>\n",
              "    </tr>\n",
              "  </thead>\n",
              "  <tbody>\n",
              "    <tr>\n",
              "      <th>0</th>\n",
              "      <td>Order_No_4211</td>\n",
              "      <td>User_Id_633</td>\n",
              "      <td>Bike</td>\n",
              "      <td>3</td>\n",
              "      <td>Business</td>\n",
              "      <td>9</td>\n",
              "      <td>5</td>\n",
              "      <td>9:35:46 AM</td>\n",
              "      <td>9</td>\n",
              "      <td>5</td>\n",
              "      <td>...</td>\n",
              "      <td>9</td>\n",
              "      <td>5</td>\n",
              "      <td>10:27:30 AM</td>\n",
              "      <td>4</td>\n",
              "      <td>20.400000</td>\n",
              "      <td>-1.317755</td>\n",
              "      <td>36.830370</td>\n",
              "      <td>-1.300406</td>\n",
              "      <td>36.829741</td>\n",
              "      <td>Rider_Id_432</td>\n",
              "    </tr>\n",
              "    <tr>\n",
              "      <th>1</th>\n",
              "      <td>Order_No_25375</td>\n",
              "      <td>User_Id_2285</td>\n",
              "      <td>Bike</td>\n",
              "      <td>3</td>\n",
              "      <td>Personal</td>\n",
              "      <td>12</td>\n",
              "      <td>5</td>\n",
              "      <td>11:16:16 AM</td>\n",
              "      <td>12</td>\n",
              "      <td>5</td>\n",
              "      <td>...</td>\n",
              "      <td>12</td>\n",
              "      <td>5</td>\n",
              "      <td>11:44:09 AM</td>\n",
              "      <td>16</td>\n",
              "      <td>26.400000</td>\n",
              "      <td>-1.351453</td>\n",
              "      <td>36.899315</td>\n",
              "      <td>-1.295004</td>\n",
              "      <td>36.814358</td>\n",
              "      <td>Rider_Id_856</td>\n",
              "    </tr>\n",
              "    <tr>\n",
              "      <th>2</th>\n",
              "      <td>Order_No_1899</td>\n",
              "      <td>User_Id_265</td>\n",
              "      <td>Bike</td>\n",
              "      <td>3</td>\n",
              "      <td>Business</td>\n",
              "      <td>30</td>\n",
              "      <td>2</td>\n",
              "      <td>12:39:25 PM</td>\n",
              "      <td>30</td>\n",
              "      <td>2</td>\n",
              "      <td>...</td>\n",
              "      <td>30</td>\n",
              "      <td>2</td>\n",
              "      <td>12:53:03 PM</td>\n",
              "      <td>3</td>\n",
              "      <td>23.258889</td>\n",
              "      <td>-1.308284</td>\n",
              "      <td>36.843419</td>\n",
              "      <td>-1.300921</td>\n",
              "      <td>36.828195</td>\n",
              "      <td>Rider_Id_155</td>\n",
              "    </tr>\n",
              "    <tr>\n",
              "      <th>3</th>\n",
              "      <td>Order_No_9336</td>\n",
              "      <td>User_Id_1402</td>\n",
              "      <td>Bike</td>\n",
              "      <td>3</td>\n",
              "      <td>Business</td>\n",
              "      <td>15</td>\n",
              "      <td>5</td>\n",
              "      <td>9:25:34 AM</td>\n",
              "      <td>15</td>\n",
              "      <td>5</td>\n",
              "      <td>...</td>\n",
              "      <td>15</td>\n",
              "      <td>5</td>\n",
              "      <td>9:43:06 AM</td>\n",
              "      <td>9</td>\n",
              "      <td>19.200000</td>\n",
              "      <td>-1.281301</td>\n",
              "      <td>36.832396</td>\n",
              "      <td>-1.257147</td>\n",
              "      <td>36.795063</td>\n",
              "      <td>Rider_Id_855</td>\n",
              "    </tr>\n",
              "    <tr>\n",
              "      <th>4</th>\n",
              "      <td>Order_No_27883</td>\n",
              "      <td>User_Id_1737</td>\n",
              "      <td>Bike</td>\n",
              "      <td>1</td>\n",
              "      <td>Personal</td>\n",
              "      <td>13</td>\n",
              "      <td>1</td>\n",
              "      <td>9:55:18 AM</td>\n",
              "      <td>13</td>\n",
              "      <td>1</td>\n",
              "      <td>...</td>\n",
              "      <td>13</td>\n",
              "      <td>1</td>\n",
              "      <td>10:05:23 AM</td>\n",
              "      <td>9</td>\n",
              "      <td>15.400000</td>\n",
              "      <td>-1.266597</td>\n",
              "      <td>36.792118</td>\n",
              "      <td>-1.295041</td>\n",
              "      <td>36.809817</td>\n",
              "      <td>Rider_Id_770</td>\n",
              "    </tr>\n",
              "  </tbody>\n",
              "</table>\n",
              "<p>5 rows × 24 columns</p>\n",
              "</div>"
            ],
            "text/plain": [
              "         Order No       User Id Vehicle Type  Platform Type  \\\n",
              "0   Order_No_4211   User_Id_633         Bike              3   \n",
              "1  Order_No_25375  User_Id_2285         Bike              3   \n",
              "2   Order_No_1899   User_Id_265         Bike              3   \n",
              "3   Order_No_9336  User_Id_1402         Bike              3   \n",
              "4  Order_No_27883  User_Id_1737         Bike              1   \n",
              "\n",
              "  Personal or Business  Placement - Day of Month  \\\n",
              "0             Business                         9   \n",
              "1             Personal                        12   \n",
              "2             Business                        30   \n",
              "3             Business                        15   \n",
              "4             Personal                        13   \n",
              "\n",
              "   Placement - Weekday (Mo = 1) Placement - Time  Confirmation - Day of Month  \\\n",
              "0                             5       9:35:46 AM                            9   \n",
              "1                             5      11:16:16 AM                           12   \n",
              "2                             2      12:39:25 PM                           30   \n",
              "3                             5       9:25:34 AM                           15   \n",
              "4                             1       9:55:18 AM                           13   \n",
              "\n",
              "   Confirmation - Weekday (Mo = 1)  ... Pickup - Day of Month  \\\n",
              "0                                5  ...                     9   \n",
              "1                                5  ...                    12   \n",
              "2                                2  ...                    30   \n",
              "3                                5  ...                    15   \n",
              "4                                1  ...                    13   \n",
              "\n",
              "   Pickup - Weekday (Mo = 1)  Pickup - Time Distance (KM)  Temperature  \\\n",
              "0                          5    10:27:30 AM             4    20.400000   \n",
              "1                          5    11:44:09 AM            16    26.400000   \n",
              "2                          2    12:53:03 PM             3    23.258889   \n",
              "3                          5     9:43:06 AM             9    19.200000   \n",
              "4                          1    10:05:23 AM             9    15.400000   \n",
              "\n",
              "   Pickup Lat Pickup Long  Destination Lat  Destination Long      Rider Id  \n",
              "0   -1.317755   36.830370        -1.300406         36.829741  Rider_Id_432  \n",
              "1   -1.351453   36.899315        -1.295004         36.814358  Rider_Id_856  \n",
              "2   -1.308284   36.843419        -1.300921         36.828195  Rider_Id_155  \n",
              "3   -1.281301   36.832396        -1.257147         36.795063  Rider_Id_855  \n",
              "4   -1.266597   36.792118        -1.295041         36.809817  Rider_Id_770  \n",
              "\n",
              "[5 rows x 24 columns]"
            ]
          },
          "metadata": {
            "tags": []
          },
          "execution_count": 30
        }
      ]
    },
    {
      "cell_type": "markdown",
      "metadata": {
        "id": "IJIp1La1CGGX",
        "colab_type": "text"
      },
      "source": [
        "Dealing with time "
      ]
    },
    {
      "cell_type": "code",
      "metadata": {
        "id": "WrDyPgNnCGGY",
        "colab_type": "code",
        "colab": {},
        "outputId": "c021052b-57b6-434a-8cc5-33b5c16b31ca"
      },
      "source": [
        "df_train.columns.tolist()"
      ],
      "execution_count": 0,
      "outputs": [
        {
          "output_type": "execute_result",
          "data": {
            "text/plain": [
              "['Order No',\n",
              " 'User Id',\n",
              " 'Vehicle Type',\n",
              " 'Platform Type',\n",
              " 'Personal or Business',\n",
              " 'Placement - Day of Month',\n",
              " 'Placement - Weekday (Mo = 1)',\n",
              " 'Placement - Time',\n",
              " 'Confirmation - Day of Month',\n",
              " 'Confirmation - Weekday (Mo = 1)',\n",
              " 'Confirmation - Time',\n",
              " 'Arrival at Pickup - Day of Month',\n",
              " 'Arrival at Pickup - Weekday (Mo = 1)',\n",
              " 'Arrival at Pickup - Time',\n",
              " 'Pickup - Day of Month',\n",
              " 'Pickup - Weekday (Mo = 1)',\n",
              " 'Pickup - Time',\n",
              " 'Distance (KM)',\n",
              " 'Temperature',\n",
              " 'Pickup Lat',\n",
              " 'Pickup Long',\n",
              " 'Destination Lat',\n",
              " 'Destination Long',\n",
              " 'Rider Id']"
            ]
          },
          "metadata": {
            "tags": []
          },
          "execution_count": 31
        }
      ]
    },
    {
      "cell_type": "code",
      "metadata": {
        "id": "otEWig7mCGGf",
        "colab_type": "code",
        "colab": {},
        "outputId": "2f1f5de5-5b74-47c4-98a2-7ffb3c75dce5"
      },
      "source": [
        "df_train[['Placement - Time', 'Confirmation - Time', 'Arrival at Pickup - Time', 'Pickup - Time']].head()"
      ],
      "execution_count": 0,
      "outputs": [
        {
          "output_type": "execute_result",
          "data": {
            "text/html": [
              "<div>\n",
              "<style scoped>\n",
              "    .dataframe tbody tr th:only-of-type {\n",
              "        vertical-align: middle;\n",
              "    }\n",
              "\n",
              "    .dataframe tbody tr th {\n",
              "        vertical-align: top;\n",
              "    }\n",
              "\n",
              "    .dataframe thead th {\n",
              "        text-align: right;\n",
              "    }\n",
              "</style>\n",
              "<table border=\"1\" class=\"dataframe\">\n",
              "  <thead>\n",
              "    <tr style=\"text-align: right;\">\n",
              "      <th></th>\n",
              "      <th>Placement - Time</th>\n",
              "      <th>Confirmation - Time</th>\n",
              "      <th>Arrival at Pickup - Time</th>\n",
              "      <th>Pickup - Time</th>\n",
              "    </tr>\n",
              "  </thead>\n",
              "  <tbody>\n",
              "    <tr>\n",
              "      <th>0</th>\n",
              "      <td>9:35:46 AM</td>\n",
              "      <td>9:40:10 AM</td>\n",
              "      <td>10:04:47 AM</td>\n",
              "      <td>10:27:30 AM</td>\n",
              "    </tr>\n",
              "    <tr>\n",
              "      <th>1</th>\n",
              "      <td>11:16:16 AM</td>\n",
              "      <td>11:23:21 AM</td>\n",
              "      <td>11:40:22 AM</td>\n",
              "      <td>11:44:09 AM</td>\n",
              "    </tr>\n",
              "    <tr>\n",
              "      <th>2</th>\n",
              "      <td>12:39:25 PM</td>\n",
              "      <td>12:42:44 PM</td>\n",
              "      <td>12:49:34 PM</td>\n",
              "      <td>12:53:03 PM</td>\n",
              "    </tr>\n",
              "    <tr>\n",
              "      <th>3</th>\n",
              "      <td>9:25:34 AM</td>\n",
              "      <td>9:26:05 AM</td>\n",
              "      <td>9:37:56 AM</td>\n",
              "      <td>9:43:06 AM</td>\n",
              "    </tr>\n",
              "    <tr>\n",
              "      <th>4</th>\n",
              "      <td>9:55:18 AM</td>\n",
              "      <td>9:56:18 AM</td>\n",
              "      <td>10:03:53 AM</td>\n",
              "      <td>10:05:23 AM</td>\n",
              "    </tr>\n",
              "  </tbody>\n",
              "</table>\n",
              "</div>"
            ],
            "text/plain": [
              "  Placement - Time Confirmation - Time Arrival at Pickup - Time Pickup - Time\n",
              "0       9:35:46 AM          9:40:10 AM              10:04:47 AM   10:27:30 AM\n",
              "1      11:16:16 AM         11:23:21 AM              11:40:22 AM   11:44:09 AM\n",
              "2      12:39:25 PM         12:42:44 PM              12:49:34 PM   12:53:03 PM\n",
              "3       9:25:34 AM          9:26:05 AM               9:37:56 AM    9:43:06 AM\n",
              "4       9:55:18 AM          9:56:18 AM              10:03:53 AM   10:05:23 AM"
            ]
          },
          "metadata": {
            "tags": []
          },
          "execution_count": 32
        }
      ]
    },
    {
      "cell_type": "code",
      "metadata": {
        "id": "g2oLuXytCGGo",
        "colab_type": "code",
        "colab": {}
      },
      "source": [
        "df_train['Placement - AM/PM'] = df_train['Placement - Time'].apply(lambda x: x[-2:])"
      ],
      "execution_count": 0,
      "outputs": []
    },
    {
      "cell_type": "code",
      "metadata": {
        "id": "ihDlfoXBCGGu",
        "colab_type": "code",
        "colab": {},
        "outputId": "d268d443-a87b-4491-ad8e-d6fe7307c14f"
      },
      "source": [
        "df_train[['Placement - Time', 'Placement - AM/PM']].head(10)"
      ],
      "execution_count": 0,
      "outputs": [
        {
          "output_type": "execute_result",
          "data": {
            "text/html": [
              "<div>\n",
              "<style scoped>\n",
              "    .dataframe tbody tr th:only-of-type {\n",
              "        vertical-align: middle;\n",
              "    }\n",
              "\n",
              "    .dataframe tbody tr th {\n",
              "        vertical-align: top;\n",
              "    }\n",
              "\n",
              "    .dataframe thead th {\n",
              "        text-align: right;\n",
              "    }\n",
              "</style>\n",
              "<table border=\"1\" class=\"dataframe\">\n",
              "  <thead>\n",
              "    <tr style=\"text-align: right;\">\n",
              "      <th></th>\n",
              "      <th>Placement - Time</th>\n",
              "      <th>Placement - AM/PM</th>\n",
              "    </tr>\n",
              "  </thead>\n",
              "  <tbody>\n",
              "    <tr>\n",
              "      <th>0</th>\n",
              "      <td>9:35:46 AM</td>\n",
              "      <td>AM</td>\n",
              "    </tr>\n",
              "    <tr>\n",
              "      <th>1</th>\n",
              "      <td>11:16:16 AM</td>\n",
              "      <td>AM</td>\n",
              "    </tr>\n",
              "    <tr>\n",
              "      <th>2</th>\n",
              "      <td>12:39:25 PM</td>\n",
              "      <td>PM</td>\n",
              "    </tr>\n",
              "    <tr>\n",
              "      <th>3</th>\n",
              "      <td>9:25:34 AM</td>\n",
              "      <td>AM</td>\n",
              "    </tr>\n",
              "    <tr>\n",
              "      <th>4</th>\n",
              "      <td>9:55:18 AM</td>\n",
              "      <td>AM</td>\n",
              "    </tr>\n",
              "    <tr>\n",
              "      <th>5</th>\n",
              "      <td>3:07:35 PM</td>\n",
              "      <td>PM</td>\n",
              "    </tr>\n",
              "    <tr>\n",
              "      <th>6</th>\n",
              "      <td>9:33:45 AM</td>\n",
              "      <td>AM</td>\n",
              "    </tr>\n",
              "    <tr>\n",
              "      <th>7</th>\n",
              "      <td>2:13:01 PM</td>\n",
              "      <td>PM</td>\n",
              "    </tr>\n",
              "    <tr>\n",
              "      <th>8</th>\n",
              "      <td>11:10:44 AM</td>\n",
              "      <td>AM</td>\n",
              "    </tr>\n",
              "    <tr>\n",
              "      <th>9</th>\n",
              "      <td>4:48:54 PM</td>\n",
              "      <td>PM</td>\n",
              "    </tr>\n",
              "  </tbody>\n",
              "</table>\n",
              "</div>"
            ],
            "text/plain": [
              "  Placement - Time Placement - AM/PM\n",
              "0       9:35:46 AM                AM\n",
              "1      11:16:16 AM                AM\n",
              "2      12:39:25 PM                PM\n",
              "3       9:25:34 AM                AM\n",
              "4       9:55:18 AM                AM\n",
              "5       3:07:35 PM                PM\n",
              "6       9:33:45 AM                AM\n",
              "7       2:13:01 PM                PM\n",
              "8      11:10:44 AM                AM\n",
              "9       4:48:54 PM                PM"
            ]
          },
          "metadata": {
            "tags": []
          },
          "execution_count": 34
        }
      ]
    },
    {
      "cell_type": "code",
      "metadata": {
        "id": "cbWf1StsCGG4",
        "colab_type": "code",
        "colab": {}
      },
      "source": [
        "df_train['Confirmation - AM/PM'] = df_train['Confirmation - Time'].apply(lambda x: x[-2:])"
      ],
      "execution_count": 0,
      "outputs": []
    },
    {
      "cell_type": "code",
      "metadata": {
        "id": "XIF6peIWCGG_",
        "colab_type": "code",
        "colab": {},
        "outputId": "e997e44f-d9ed-40c2-eece-87f612c1197e"
      },
      "source": [
        "df_train[['Confirmation - Time', 'Confirmation - AM/PM']].head(10)"
      ],
      "execution_count": 0,
      "outputs": [
        {
          "output_type": "execute_result",
          "data": {
            "text/html": [
              "<div>\n",
              "<style scoped>\n",
              "    .dataframe tbody tr th:only-of-type {\n",
              "        vertical-align: middle;\n",
              "    }\n",
              "\n",
              "    .dataframe tbody tr th {\n",
              "        vertical-align: top;\n",
              "    }\n",
              "\n",
              "    .dataframe thead th {\n",
              "        text-align: right;\n",
              "    }\n",
              "</style>\n",
              "<table border=\"1\" class=\"dataframe\">\n",
              "  <thead>\n",
              "    <tr style=\"text-align: right;\">\n",
              "      <th></th>\n",
              "      <th>Confirmation - Time</th>\n",
              "      <th>Confirmation - AM/PM</th>\n",
              "    </tr>\n",
              "  </thead>\n",
              "  <tbody>\n",
              "    <tr>\n",
              "      <th>0</th>\n",
              "      <td>9:40:10 AM</td>\n",
              "      <td>AM</td>\n",
              "    </tr>\n",
              "    <tr>\n",
              "      <th>1</th>\n",
              "      <td>11:23:21 AM</td>\n",
              "      <td>AM</td>\n",
              "    </tr>\n",
              "    <tr>\n",
              "      <th>2</th>\n",
              "      <td>12:42:44 PM</td>\n",
              "      <td>PM</td>\n",
              "    </tr>\n",
              "    <tr>\n",
              "      <th>3</th>\n",
              "      <td>9:26:05 AM</td>\n",
              "      <td>AM</td>\n",
              "    </tr>\n",
              "    <tr>\n",
              "      <th>4</th>\n",
              "      <td>9:56:18 AM</td>\n",
              "      <td>AM</td>\n",
              "    </tr>\n",
              "    <tr>\n",
              "      <th>5</th>\n",
              "      <td>3:08:57 PM</td>\n",
              "      <td>PM</td>\n",
              "    </tr>\n",
              "    <tr>\n",
              "      <th>6</th>\n",
              "      <td>9:49:47 AM</td>\n",
              "      <td>AM</td>\n",
              "    </tr>\n",
              "    <tr>\n",
              "      <th>7</th>\n",
              "      <td>2:14:13 PM</td>\n",
              "      <td>PM</td>\n",
              "    </tr>\n",
              "    <tr>\n",
              "      <th>8</th>\n",
              "      <td>11:15:49 AM</td>\n",
              "      <td>AM</td>\n",
              "    </tr>\n",
              "    <tr>\n",
              "      <th>9</th>\n",
              "      <td>5:17:56 PM</td>\n",
              "      <td>PM</td>\n",
              "    </tr>\n",
              "  </tbody>\n",
              "</table>\n",
              "</div>"
            ],
            "text/plain": [
              "  Confirmation - Time Confirmation - AM/PM\n",
              "0          9:40:10 AM                   AM\n",
              "1         11:23:21 AM                   AM\n",
              "2         12:42:44 PM                   PM\n",
              "3          9:26:05 AM                   AM\n",
              "4          9:56:18 AM                   AM\n",
              "5          3:08:57 PM                   PM\n",
              "6          9:49:47 AM                   AM\n",
              "7          2:14:13 PM                   PM\n",
              "8         11:15:49 AM                   AM\n",
              "9          5:17:56 PM                   PM"
            ]
          },
          "metadata": {
            "tags": []
          },
          "execution_count": 36
        }
      ]
    },
    {
      "cell_type": "code",
      "metadata": {
        "id": "Qw7OIcwICGHF",
        "colab_type": "code",
        "colab": {}
      },
      "source": [
        "df_train['Arrival at Pickup - AM/PM'] = df_train['Arrival at Pickup - Time'].apply(lambda x: x[-2:])"
      ],
      "execution_count": 0,
      "outputs": []
    },
    {
      "cell_type": "code",
      "metadata": {
        "id": "FNJYSEqgCGHK",
        "colab_type": "code",
        "colab": {},
        "outputId": "224a9e54-0a0f-4fed-b13a-ab58f9c77ed2"
      },
      "source": [
        "df_train[['Arrival at Pickup - Time', 'Arrival at Pickup - AM/PM']].head(10)"
      ],
      "execution_count": 0,
      "outputs": [
        {
          "output_type": "execute_result",
          "data": {
            "text/html": [
              "<div>\n",
              "<style scoped>\n",
              "    .dataframe tbody tr th:only-of-type {\n",
              "        vertical-align: middle;\n",
              "    }\n",
              "\n",
              "    .dataframe tbody tr th {\n",
              "        vertical-align: top;\n",
              "    }\n",
              "\n",
              "    .dataframe thead th {\n",
              "        text-align: right;\n",
              "    }\n",
              "</style>\n",
              "<table border=\"1\" class=\"dataframe\">\n",
              "  <thead>\n",
              "    <tr style=\"text-align: right;\">\n",
              "      <th></th>\n",
              "      <th>Arrival at Pickup - Time</th>\n",
              "      <th>Arrival at Pickup - AM/PM</th>\n",
              "    </tr>\n",
              "  </thead>\n",
              "  <tbody>\n",
              "    <tr>\n",
              "      <th>0</th>\n",
              "      <td>10:04:47 AM</td>\n",
              "      <td>AM</td>\n",
              "    </tr>\n",
              "    <tr>\n",
              "      <th>1</th>\n",
              "      <td>11:40:22 AM</td>\n",
              "      <td>AM</td>\n",
              "    </tr>\n",
              "    <tr>\n",
              "      <th>2</th>\n",
              "      <td>12:49:34 PM</td>\n",
              "      <td>PM</td>\n",
              "    </tr>\n",
              "    <tr>\n",
              "      <th>3</th>\n",
              "      <td>9:37:56 AM</td>\n",
              "      <td>AM</td>\n",
              "    </tr>\n",
              "    <tr>\n",
              "      <th>4</th>\n",
              "      <td>10:03:53 AM</td>\n",
              "      <td>AM</td>\n",
              "    </tr>\n",
              "    <tr>\n",
              "      <th>5</th>\n",
              "      <td>3:21:36 PM</td>\n",
              "      <td>PM</td>\n",
              "    </tr>\n",
              "    <tr>\n",
              "      <th>6</th>\n",
              "      <td>9:53:12 AM</td>\n",
              "      <td>AM</td>\n",
              "    </tr>\n",
              "    <tr>\n",
              "      <th>7</th>\n",
              "      <td>2:21:33 PM</td>\n",
              "      <td>PM</td>\n",
              "    </tr>\n",
              "    <tr>\n",
              "      <th>8</th>\n",
              "      <td>12:13:18 PM</td>\n",
              "      <td>PM</td>\n",
              "    </tr>\n",
              "    <tr>\n",
              "      <th>9</th>\n",
              "      <td>5:32:41 PM</td>\n",
              "      <td>PM</td>\n",
              "    </tr>\n",
              "  </tbody>\n",
              "</table>\n",
              "</div>"
            ],
            "text/plain": [
              "  Arrival at Pickup - Time Arrival at Pickup - AM/PM\n",
              "0              10:04:47 AM                        AM\n",
              "1              11:40:22 AM                        AM\n",
              "2              12:49:34 PM                        PM\n",
              "3               9:37:56 AM                        AM\n",
              "4              10:03:53 AM                        AM\n",
              "5               3:21:36 PM                        PM\n",
              "6               9:53:12 AM                        AM\n",
              "7               2:21:33 PM                        PM\n",
              "8              12:13:18 PM                        PM\n",
              "9               5:32:41 PM                        PM"
            ]
          },
          "metadata": {
            "tags": []
          },
          "execution_count": 38
        }
      ]
    },
    {
      "cell_type": "code",
      "metadata": {
        "id": "cBNq_yceCGHS",
        "colab_type": "code",
        "colab": {}
      },
      "source": [
        "df_train['Pickup - AM/PM'] = df_train['Pickup - Time'].apply(lambda x: x[-2:])"
      ],
      "execution_count": 0,
      "outputs": []
    },
    {
      "cell_type": "code",
      "metadata": {
        "scrolled": true,
        "id": "SVaGlbrDCGHi",
        "colab_type": "code",
        "colab": {},
        "outputId": "03ad6d2d-b742-4ee0-dead-bf77c31c9228"
      },
      "source": [
        "df_train[['Pickup - Time', 'Pickup - AM/PM']].head(10)"
      ],
      "execution_count": 0,
      "outputs": [
        {
          "output_type": "execute_result",
          "data": {
            "text/html": [
              "<div>\n",
              "<style scoped>\n",
              "    .dataframe tbody tr th:only-of-type {\n",
              "        vertical-align: middle;\n",
              "    }\n",
              "\n",
              "    .dataframe tbody tr th {\n",
              "        vertical-align: top;\n",
              "    }\n",
              "\n",
              "    .dataframe thead th {\n",
              "        text-align: right;\n",
              "    }\n",
              "</style>\n",
              "<table border=\"1\" class=\"dataframe\">\n",
              "  <thead>\n",
              "    <tr style=\"text-align: right;\">\n",
              "      <th></th>\n",
              "      <th>Pickup - Time</th>\n",
              "      <th>Pickup - AM/PM</th>\n",
              "    </tr>\n",
              "  </thead>\n",
              "  <tbody>\n",
              "    <tr>\n",
              "      <th>0</th>\n",
              "      <td>10:27:30 AM</td>\n",
              "      <td>AM</td>\n",
              "    </tr>\n",
              "    <tr>\n",
              "      <th>1</th>\n",
              "      <td>11:44:09 AM</td>\n",
              "      <td>AM</td>\n",
              "    </tr>\n",
              "    <tr>\n",
              "      <th>2</th>\n",
              "      <td>12:53:03 PM</td>\n",
              "      <td>PM</td>\n",
              "    </tr>\n",
              "    <tr>\n",
              "      <th>3</th>\n",
              "      <td>9:43:06 AM</td>\n",
              "      <td>AM</td>\n",
              "    </tr>\n",
              "    <tr>\n",
              "      <th>4</th>\n",
              "      <td>10:05:23 AM</td>\n",
              "      <td>AM</td>\n",
              "    </tr>\n",
              "    <tr>\n",
              "      <th>5</th>\n",
              "      <td>3:30:30 PM</td>\n",
              "      <td>PM</td>\n",
              "    </tr>\n",
              "    <tr>\n",
              "      <th>6</th>\n",
              "      <td>9:56:45 AM</td>\n",
              "      <td>AM</td>\n",
              "    </tr>\n",
              "    <tr>\n",
              "      <th>7</th>\n",
              "      <td>2:22:40 PM</td>\n",
              "      <td>PM</td>\n",
              "    </tr>\n",
              "    <tr>\n",
              "      <th>8</th>\n",
              "      <td>12:22:57 PM</td>\n",
              "      <td>PM</td>\n",
              "    </tr>\n",
              "    <tr>\n",
              "      <th>9</th>\n",
              "      <td>5:34:38 PM</td>\n",
              "      <td>PM</td>\n",
              "    </tr>\n",
              "  </tbody>\n",
              "</table>\n",
              "</div>"
            ],
            "text/plain": [
              "  Pickup - Time Pickup - AM/PM\n",
              "0   10:27:30 AM             AM\n",
              "1   11:44:09 AM             AM\n",
              "2   12:53:03 PM             PM\n",
              "3    9:43:06 AM             AM\n",
              "4   10:05:23 AM             AM\n",
              "5    3:30:30 PM             PM\n",
              "6    9:56:45 AM             AM\n",
              "7    2:22:40 PM             PM\n",
              "8   12:22:57 PM             PM\n",
              "9    5:34:38 PM             PM"
            ]
          },
          "metadata": {
            "tags": []
          },
          "execution_count": 40
        }
      ]
    },
    {
      "cell_type": "code",
      "metadata": {
        "id": "_UpGi_9_CGHr",
        "colab_type": "code",
        "colab": {}
      },
      "source": [
        "df_train['Placement - Hour'] = df_train['Placement - Time'].apply(lambda x: x[0])"
      ],
      "execution_count": 0,
      "outputs": []
    },
    {
      "cell_type": "code",
      "metadata": {
        "id": "GE-2GzN9CGH4",
        "colab_type": "code",
        "colab": {},
        "outputId": "a1bbdb25-0a8b-4aca-a422-06fc45518c3b"
      },
      "source": [
        "df_train[['Placement - Time', 'Placement - Hour']].head(10)"
      ],
      "execution_count": 0,
      "outputs": [
        {
          "output_type": "execute_result",
          "data": {
            "text/html": [
              "<div>\n",
              "<style scoped>\n",
              "    .dataframe tbody tr th:only-of-type {\n",
              "        vertical-align: middle;\n",
              "    }\n",
              "\n",
              "    .dataframe tbody tr th {\n",
              "        vertical-align: top;\n",
              "    }\n",
              "\n",
              "    .dataframe thead th {\n",
              "        text-align: right;\n",
              "    }\n",
              "</style>\n",
              "<table border=\"1\" class=\"dataframe\">\n",
              "  <thead>\n",
              "    <tr style=\"text-align: right;\">\n",
              "      <th></th>\n",
              "      <th>Placement - Time</th>\n",
              "      <th>Placement - Hour</th>\n",
              "    </tr>\n",
              "  </thead>\n",
              "  <tbody>\n",
              "    <tr>\n",
              "      <th>0</th>\n",
              "      <td>9:35:46 AM</td>\n",
              "      <td>9</td>\n",
              "    </tr>\n",
              "    <tr>\n",
              "      <th>1</th>\n",
              "      <td>11:16:16 AM</td>\n",
              "      <td>1</td>\n",
              "    </tr>\n",
              "    <tr>\n",
              "      <th>2</th>\n",
              "      <td>12:39:25 PM</td>\n",
              "      <td>1</td>\n",
              "    </tr>\n",
              "    <tr>\n",
              "      <th>3</th>\n",
              "      <td>9:25:34 AM</td>\n",
              "      <td>9</td>\n",
              "    </tr>\n",
              "    <tr>\n",
              "      <th>4</th>\n",
              "      <td>9:55:18 AM</td>\n",
              "      <td>9</td>\n",
              "    </tr>\n",
              "    <tr>\n",
              "      <th>5</th>\n",
              "      <td>3:07:35 PM</td>\n",
              "      <td>3</td>\n",
              "    </tr>\n",
              "    <tr>\n",
              "      <th>6</th>\n",
              "      <td>9:33:45 AM</td>\n",
              "      <td>9</td>\n",
              "    </tr>\n",
              "    <tr>\n",
              "      <th>7</th>\n",
              "      <td>2:13:01 PM</td>\n",
              "      <td>2</td>\n",
              "    </tr>\n",
              "    <tr>\n",
              "      <th>8</th>\n",
              "      <td>11:10:44 AM</td>\n",
              "      <td>1</td>\n",
              "    </tr>\n",
              "    <tr>\n",
              "      <th>9</th>\n",
              "      <td>4:48:54 PM</td>\n",
              "      <td>4</td>\n",
              "    </tr>\n",
              "  </tbody>\n",
              "</table>\n",
              "</div>"
            ],
            "text/plain": [
              "  Placement - Time Placement - Hour\n",
              "0       9:35:46 AM                9\n",
              "1      11:16:16 AM                1\n",
              "2      12:39:25 PM                1\n",
              "3       9:25:34 AM                9\n",
              "4       9:55:18 AM                9\n",
              "5       3:07:35 PM                3\n",
              "6       9:33:45 AM                9\n",
              "7       2:13:01 PM                2\n",
              "8      11:10:44 AM                1\n",
              "9       4:48:54 PM                4"
            ]
          },
          "metadata": {
            "tags": []
          },
          "execution_count": 42
        }
      ]
    },
    {
      "cell_type": "code",
      "metadata": {
        "id": "Ax_M6QzMCGH_",
        "colab_type": "code",
        "colab": {}
      },
      "source": [
        "df_train['Confirmation - Hour'] = df_train['Confirmation - Time'].apply(lambda x: x[0])"
      ],
      "execution_count": 0,
      "outputs": []
    },
    {
      "cell_type": "code",
      "metadata": {
        "id": "TBboKgAKCGII",
        "colab_type": "code",
        "colab": {},
        "outputId": "d03cd505-c302-4260-e8c9-31b42507bedd"
      },
      "source": [
        "df_train[['Confirmation - Time', 'Confirmation - Hour']].head(10)"
      ],
      "execution_count": 0,
      "outputs": [
        {
          "output_type": "execute_result",
          "data": {
            "text/html": [
              "<div>\n",
              "<style scoped>\n",
              "    .dataframe tbody tr th:only-of-type {\n",
              "        vertical-align: middle;\n",
              "    }\n",
              "\n",
              "    .dataframe tbody tr th {\n",
              "        vertical-align: top;\n",
              "    }\n",
              "\n",
              "    .dataframe thead th {\n",
              "        text-align: right;\n",
              "    }\n",
              "</style>\n",
              "<table border=\"1\" class=\"dataframe\">\n",
              "  <thead>\n",
              "    <tr style=\"text-align: right;\">\n",
              "      <th></th>\n",
              "      <th>Confirmation - Time</th>\n",
              "      <th>Confirmation - Hour</th>\n",
              "    </tr>\n",
              "  </thead>\n",
              "  <tbody>\n",
              "    <tr>\n",
              "      <th>0</th>\n",
              "      <td>9:40:10 AM</td>\n",
              "      <td>9</td>\n",
              "    </tr>\n",
              "    <tr>\n",
              "      <th>1</th>\n",
              "      <td>11:23:21 AM</td>\n",
              "      <td>1</td>\n",
              "    </tr>\n",
              "    <tr>\n",
              "      <th>2</th>\n",
              "      <td>12:42:44 PM</td>\n",
              "      <td>1</td>\n",
              "    </tr>\n",
              "    <tr>\n",
              "      <th>3</th>\n",
              "      <td>9:26:05 AM</td>\n",
              "      <td>9</td>\n",
              "    </tr>\n",
              "    <tr>\n",
              "      <th>4</th>\n",
              "      <td>9:56:18 AM</td>\n",
              "      <td>9</td>\n",
              "    </tr>\n",
              "    <tr>\n",
              "      <th>5</th>\n",
              "      <td>3:08:57 PM</td>\n",
              "      <td>3</td>\n",
              "    </tr>\n",
              "    <tr>\n",
              "      <th>6</th>\n",
              "      <td>9:49:47 AM</td>\n",
              "      <td>9</td>\n",
              "    </tr>\n",
              "    <tr>\n",
              "      <th>7</th>\n",
              "      <td>2:14:13 PM</td>\n",
              "      <td>2</td>\n",
              "    </tr>\n",
              "    <tr>\n",
              "      <th>8</th>\n",
              "      <td>11:15:49 AM</td>\n",
              "      <td>1</td>\n",
              "    </tr>\n",
              "    <tr>\n",
              "      <th>9</th>\n",
              "      <td>5:17:56 PM</td>\n",
              "      <td>5</td>\n",
              "    </tr>\n",
              "  </tbody>\n",
              "</table>\n",
              "</div>"
            ],
            "text/plain": [
              "  Confirmation - Time Confirmation - Hour\n",
              "0          9:40:10 AM                   9\n",
              "1         11:23:21 AM                   1\n",
              "2         12:42:44 PM                   1\n",
              "3          9:26:05 AM                   9\n",
              "4          9:56:18 AM                   9\n",
              "5          3:08:57 PM                   3\n",
              "6          9:49:47 AM                   9\n",
              "7          2:14:13 PM                   2\n",
              "8         11:15:49 AM                   1\n",
              "9          5:17:56 PM                   5"
            ]
          },
          "metadata": {
            "tags": []
          },
          "execution_count": 44
        }
      ]
    },
    {
      "cell_type": "code",
      "metadata": {
        "id": "tHtRUt_MCGIP",
        "colab_type": "code",
        "colab": {}
      },
      "source": [
        "df_train['Arrival at Pickup - Hour'] = df_train['Arrival at Pickup - Time'].apply(lambda x: x[0])"
      ],
      "execution_count": 0,
      "outputs": []
    },
    {
      "cell_type": "code",
      "metadata": {
        "id": "TSbCZzHrCGIa",
        "colab_type": "code",
        "colab": {},
        "outputId": "4d2d233f-0f6e-43b8-c15e-3c0975d6af95"
      },
      "source": [
        "df_train[['Arrival at Pickup - Time', 'Arrival at Pickup - Hour']].head(10)"
      ],
      "execution_count": 0,
      "outputs": [
        {
          "output_type": "execute_result",
          "data": {
            "text/html": [
              "<div>\n",
              "<style scoped>\n",
              "    .dataframe tbody tr th:only-of-type {\n",
              "        vertical-align: middle;\n",
              "    }\n",
              "\n",
              "    .dataframe tbody tr th {\n",
              "        vertical-align: top;\n",
              "    }\n",
              "\n",
              "    .dataframe thead th {\n",
              "        text-align: right;\n",
              "    }\n",
              "</style>\n",
              "<table border=\"1\" class=\"dataframe\">\n",
              "  <thead>\n",
              "    <tr style=\"text-align: right;\">\n",
              "      <th></th>\n",
              "      <th>Arrival at Pickup - Time</th>\n",
              "      <th>Arrival at Pickup - Hour</th>\n",
              "    </tr>\n",
              "  </thead>\n",
              "  <tbody>\n",
              "    <tr>\n",
              "      <th>0</th>\n",
              "      <td>10:04:47 AM</td>\n",
              "      <td>1</td>\n",
              "    </tr>\n",
              "    <tr>\n",
              "      <th>1</th>\n",
              "      <td>11:40:22 AM</td>\n",
              "      <td>1</td>\n",
              "    </tr>\n",
              "    <tr>\n",
              "      <th>2</th>\n",
              "      <td>12:49:34 PM</td>\n",
              "      <td>1</td>\n",
              "    </tr>\n",
              "    <tr>\n",
              "      <th>3</th>\n",
              "      <td>9:37:56 AM</td>\n",
              "      <td>9</td>\n",
              "    </tr>\n",
              "    <tr>\n",
              "      <th>4</th>\n",
              "      <td>10:03:53 AM</td>\n",
              "      <td>1</td>\n",
              "    </tr>\n",
              "    <tr>\n",
              "      <th>5</th>\n",
              "      <td>3:21:36 PM</td>\n",
              "      <td>3</td>\n",
              "    </tr>\n",
              "    <tr>\n",
              "      <th>6</th>\n",
              "      <td>9:53:12 AM</td>\n",
              "      <td>9</td>\n",
              "    </tr>\n",
              "    <tr>\n",
              "      <th>7</th>\n",
              "      <td>2:21:33 PM</td>\n",
              "      <td>2</td>\n",
              "    </tr>\n",
              "    <tr>\n",
              "      <th>8</th>\n",
              "      <td>12:13:18 PM</td>\n",
              "      <td>1</td>\n",
              "    </tr>\n",
              "    <tr>\n",
              "      <th>9</th>\n",
              "      <td>5:32:41 PM</td>\n",
              "      <td>5</td>\n",
              "    </tr>\n",
              "  </tbody>\n",
              "</table>\n",
              "</div>"
            ],
            "text/plain": [
              "  Arrival at Pickup - Time Arrival at Pickup - Hour\n",
              "0              10:04:47 AM                        1\n",
              "1              11:40:22 AM                        1\n",
              "2              12:49:34 PM                        1\n",
              "3               9:37:56 AM                        9\n",
              "4              10:03:53 AM                        1\n",
              "5               3:21:36 PM                        3\n",
              "6               9:53:12 AM                        9\n",
              "7               2:21:33 PM                        2\n",
              "8              12:13:18 PM                        1\n",
              "9               5:32:41 PM                        5"
            ]
          },
          "metadata": {
            "tags": []
          },
          "execution_count": 46
        }
      ]
    },
    {
      "cell_type": "code",
      "metadata": {
        "id": "yIXH6N1zCGIg",
        "colab_type": "code",
        "colab": {}
      },
      "source": [
        "df_train['Pickup - Hour'] = df_train['Pickup - Time'].apply(lambda x: x[0])"
      ],
      "execution_count": 0,
      "outputs": []
    },
    {
      "cell_type": "code",
      "metadata": {
        "id": "Lc9tyb-TCGIm",
        "colab_type": "code",
        "colab": {},
        "outputId": "633c29a5-158f-4869-c439-b77941a3b3d2"
      },
      "source": [
        "df_train[['Pickup - Time', 'Pickup - Hour']].head(10)"
      ],
      "execution_count": 0,
      "outputs": [
        {
          "output_type": "execute_result",
          "data": {
            "text/html": [
              "<div>\n",
              "<style scoped>\n",
              "    .dataframe tbody tr th:only-of-type {\n",
              "        vertical-align: middle;\n",
              "    }\n",
              "\n",
              "    .dataframe tbody tr th {\n",
              "        vertical-align: top;\n",
              "    }\n",
              "\n",
              "    .dataframe thead th {\n",
              "        text-align: right;\n",
              "    }\n",
              "</style>\n",
              "<table border=\"1\" class=\"dataframe\">\n",
              "  <thead>\n",
              "    <tr style=\"text-align: right;\">\n",
              "      <th></th>\n",
              "      <th>Pickup - Time</th>\n",
              "      <th>Pickup - Hour</th>\n",
              "    </tr>\n",
              "  </thead>\n",
              "  <tbody>\n",
              "    <tr>\n",
              "      <th>0</th>\n",
              "      <td>10:27:30 AM</td>\n",
              "      <td>1</td>\n",
              "    </tr>\n",
              "    <tr>\n",
              "      <th>1</th>\n",
              "      <td>11:44:09 AM</td>\n",
              "      <td>1</td>\n",
              "    </tr>\n",
              "    <tr>\n",
              "      <th>2</th>\n",
              "      <td>12:53:03 PM</td>\n",
              "      <td>1</td>\n",
              "    </tr>\n",
              "    <tr>\n",
              "      <th>3</th>\n",
              "      <td>9:43:06 AM</td>\n",
              "      <td>9</td>\n",
              "    </tr>\n",
              "    <tr>\n",
              "      <th>4</th>\n",
              "      <td>10:05:23 AM</td>\n",
              "      <td>1</td>\n",
              "    </tr>\n",
              "    <tr>\n",
              "      <th>5</th>\n",
              "      <td>3:30:30 PM</td>\n",
              "      <td>3</td>\n",
              "    </tr>\n",
              "    <tr>\n",
              "      <th>6</th>\n",
              "      <td>9:56:45 AM</td>\n",
              "      <td>9</td>\n",
              "    </tr>\n",
              "    <tr>\n",
              "      <th>7</th>\n",
              "      <td>2:22:40 PM</td>\n",
              "      <td>2</td>\n",
              "    </tr>\n",
              "    <tr>\n",
              "      <th>8</th>\n",
              "      <td>12:22:57 PM</td>\n",
              "      <td>1</td>\n",
              "    </tr>\n",
              "    <tr>\n",
              "      <th>9</th>\n",
              "      <td>5:34:38 PM</td>\n",
              "      <td>5</td>\n",
              "    </tr>\n",
              "  </tbody>\n",
              "</table>\n",
              "</div>"
            ],
            "text/plain": [
              "  Pickup - Time Pickup - Hour\n",
              "0   10:27:30 AM             1\n",
              "1   11:44:09 AM             1\n",
              "2   12:53:03 PM             1\n",
              "3    9:43:06 AM             9\n",
              "4   10:05:23 AM             1\n",
              "5    3:30:30 PM             3\n",
              "6    9:56:45 AM             9\n",
              "7    2:22:40 PM             2\n",
              "8   12:22:57 PM             1\n",
              "9    5:34:38 PM             5"
            ]
          },
          "metadata": {
            "tags": []
          },
          "execution_count": 48
        }
      ]
    },
    {
      "cell_type": "code",
      "metadata": {
        "scrolled": true,
        "id": "SE_0dIreCGIr",
        "colab_type": "code",
        "colab": {}
      },
      "source": [
        "df_train.drop(columns=['Pickup - Time',\n",
        "                       'Arrival at Pickup - Time',\n",
        "                       'Confirmation - Time',\n",
        "                       'Placement - Time'],\n",
        "                        inplace = True, axis = 1)"
      ],
      "execution_count": 0,
      "outputs": []
    },
    {
      "cell_type": "markdown",
      "metadata": {
        "id": "QTzQsCwICGIv",
        "colab_type": "text"
      },
      "source": [
        "Merging Rider and Train"
      ]
    },
    {
      "cell_type": "code",
      "metadata": {
        "id": "eBf8tjeyCGIw",
        "colab_type": "code",
        "colab": {}
      },
      "source": [
        "df_train_merge = df_train.merge(df_rider, on='Rider Id')"
      ],
      "execution_count": 0,
      "outputs": []
    },
    {
      "cell_type": "code",
      "metadata": {
        "id": "DU33ZHrjCGI4",
        "colab_type": "code",
        "colab": {}
      },
      "source": [
        "df_train_merge.drop(['User Id'], inplace = True, axis = 1)"
      ],
      "execution_count": 0,
      "outputs": []
    },
    {
      "cell_type": "code",
      "metadata": {
        "id": "p1kjWYxACGJD",
        "colab_type": "code",
        "colab": {}
      },
      "source": [
        "df_train_merge.drop(['Rider Id'], inplace = True, axis = 1)"
      ],
      "execution_count": 0,
      "outputs": []
    },
    {
      "cell_type": "markdown",
      "metadata": {
        "id": "WZFsSjvPCGJJ",
        "colab_type": "text"
      },
      "source": [
        "Exluding Order No for this current Dataset to be merged later on"
      ]
    },
    {
      "cell_type": "code",
      "metadata": {
        "id": "PqVeZj6dCGJO",
        "colab_type": "code",
        "colab": {}
      },
      "source": [
        "Order_No = df_train_merge['Order No']\n",
        "df_train_merge.drop(columns = ['Order No'], inplace = True, axis = 1)"
      ],
      "execution_count": 0,
      "outputs": []
    },
    {
      "cell_type": "markdown",
      "metadata": {
        "id": "v1c0Oc25CGJU",
        "colab_type": "text"
      },
      "source": [
        "### Encoding Independent Variables"
      ]
    },
    {
      "cell_type": "code",
      "metadata": {
        "id": "zfLqd1y_CGJW",
        "colab_type": "code",
        "colab": {}
      },
      "source": [
        "X = pd.get_dummies(df_train_merge, drop_first=True)"
      ],
      "execution_count": 0,
      "outputs": []
    },
    {
      "cell_type": "code",
      "metadata": {
        "id": "KOZjOIgoCGJf",
        "colab_type": "code",
        "colab": {},
        "outputId": "d513c90a-0fd3-422a-9825-c2223d7129f1"
      },
      "source": [
        "X.head()"
      ],
      "execution_count": 0,
      "outputs": [
        {
          "output_type": "execute_result",
          "data": {
            "text/html": [
              "<div>\n",
              "<style scoped>\n",
              "    .dataframe tbody tr th:only-of-type {\n",
              "        vertical-align: middle;\n",
              "    }\n",
              "\n",
              "    .dataframe tbody tr th {\n",
              "        vertical-align: top;\n",
              "    }\n",
              "\n",
              "    .dataframe thead th {\n",
              "        text-align: right;\n",
              "    }\n",
              "</style>\n",
              "<table border=\"1\" class=\"dataframe\">\n",
              "  <thead>\n",
              "    <tr style=\"text-align: right;\">\n",
              "      <th></th>\n",
              "      <th>Platform Type</th>\n",
              "      <th>Placement - Day of Month</th>\n",
              "      <th>Placement - Weekday (Mo = 1)</th>\n",
              "      <th>Confirmation - Day of Month</th>\n",
              "      <th>Confirmation - Weekday (Mo = 1)</th>\n",
              "      <th>Arrival at Pickup - Day of Month</th>\n",
              "      <th>Arrival at Pickup - Weekday (Mo = 1)</th>\n",
              "      <th>Pickup - Day of Month</th>\n",
              "      <th>Pickup - Weekday (Mo = 1)</th>\n",
              "      <th>Distance (KM)</th>\n",
              "      <th>...</th>\n",
              "      <th>Arrival at Pickup - Hour_8</th>\n",
              "      <th>Arrival at Pickup - Hour_9</th>\n",
              "      <th>Pickup - Hour_2</th>\n",
              "      <th>Pickup - Hour_3</th>\n",
              "      <th>Pickup - Hour_4</th>\n",
              "      <th>Pickup - Hour_5</th>\n",
              "      <th>Pickup - Hour_6</th>\n",
              "      <th>Pickup - Hour_7</th>\n",
              "      <th>Pickup - Hour_8</th>\n",
              "      <th>Pickup - Hour_9</th>\n",
              "    </tr>\n",
              "  </thead>\n",
              "  <tbody>\n",
              "    <tr>\n",
              "      <th>0</th>\n",
              "      <td>3</td>\n",
              "      <td>9</td>\n",
              "      <td>5</td>\n",
              "      <td>9</td>\n",
              "      <td>5</td>\n",
              "      <td>9</td>\n",
              "      <td>5</td>\n",
              "      <td>9</td>\n",
              "      <td>5</td>\n",
              "      <td>4</td>\n",
              "      <td>...</td>\n",
              "      <td>0</td>\n",
              "      <td>0</td>\n",
              "      <td>0</td>\n",
              "      <td>0</td>\n",
              "      <td>0</td>\n",
              "      <td>0</td>\n",
              "      <td>0</td>\n",
              "      <td>0</td>\n",
              "      <td>0</td>\n",
              "      <td>0</td>\n",
              "    </tr>\n",
              "    <tr>\n",
              "      <th>1</th>\n",
              "      <td>3</td>\n",
              "      <td>18</td>\n",
              "      <td>5</td>\n",
              "      <td>18</td>\n",
              "      <td>5</td>\n",
              "      <td>18</td>\n",
              "      <td>5</td>\n",
              "      <td>18</td>\n",
              "      <td>5</td>\n",
              "      <td>20</td>\n",
              "      <td>...</td>\n",
              "      <td>0</td>\n",
              "      <td>0</td>\n",
              "      <td>0</td>\n",
              "      <td>0</td>\n",
              "      <td>1</td>\n",
              "      <td>0</td>\n",
              "      <td>0</td>\n",
              "      <td>0</td>\n",
              "      <td>0</td>\n",
              "      <td>0</td>\n",
              "    </tr>\n",
              "    <tr>\n",
              "      <th>2</th>\n",
              "      <td>3</td>\n",
              "      <td>31</td>\n",
              "      <td>5</td>\n",
              "      <td>31</td>\n",
              "      <td>5</td>\n",
              "      <td>31</td>\n",
              "      <td>5</td>\n",
              "      <td>31</td>\n",
              "      <td>5</td>\n",
              "      <td>6</td>\n",
              "      <td>...</td>\n",
              "      <td>0</td>\n",
              "      <td>0</td>\n",
              "      <td>0</td>\n",
              "      <td>0</td>\n",
              "      <td>0</td>\n",
              "      <td>0</td>\n",
              "      <td>0</td>\n",
              "      <td>0</td>\n",
              "      <td>0</td>\n",
              "      <td>0</td>\n",
              "    </tr>\n",
              "    <tr>\n",
              "      <th>3</th>\n",
              "      <td>3</td>\n",
              "      <td>2</td>\n",
              "      <td>2</td>\n",
              "      <td>2</td>\n",
              "      <td>2</td>\n",
              "      <td>2</td>\n",
              "      <td>2</td>\n",
              "      <td>2</td>\n",
              "      <td>2</td>\n",
              "      <td>18</td>\n",
              "      <td>...</td>\n",
              "      <td>0</td>\n",
              "      <td>0</td>\n",
              "      <td>0</td>\n",
              "      <td>0</td>\n",
              "      <td>0</td>\n",
              "      <td>0</td>\n",
              "      <td>0</td>\n",
              "      <td>1</td>\n",
              "      <td>0</td>\n",
              "      <td>0</td>\n",
              "    </tr>\n",
              "    <tr>\n",
              "      <th>4</th>\n",
              "      <td>2</td>\n",
              "      <td>22</td>\n",
              "      <td>2</td>\n",
              "      <td>22</td>\n",
              "      <td>2</td>\n",
              "      <td>22</td>\n",
              "      <td>2</td>\n",
              "      <td>22</td>\n",
              "      <td>2</td>\n",
              "      <td>7</td>\n",
              "      <td>...</td>\n",
              "      <td>0</td>\n",
              "      <td>0</td>\n",
              "      <td>0</td>\n",
              "      <td>0</td>\n",
              "      <td>0</td>\n",
              "      <td>0</td>\n",
              "      <td>0</td>\n",
              "      <td>0</td>\n",
              "      <td>0</td>\n",
              "      <td>0</td>\n",
              "    </tr>\n",
              "  </tbody>\n",
              "</table>\n",
              "<p>5 rows × 56 columns</p>\n",
              "</div>"
            ],
            "text/plain": [
              "   Platform Type  Placement - Day of Month  Placement - Weekday (Mo = 1)  \\\n",
              "0              3                         9                             5   \n",
              "1              3                        18                             5   \n",
              "2              3                        31                             5   \n",
              "3              3                         2                             2   \n",
              "4              2                        22                             2   \n",
              "\n",
              "   Confirmation - Day of Month  Confirmation - Weekday (Mo = 1)  \\\n",
              "0                            9                                5   \n",
              "1                           18                                5   \n",
              "2                           31                                5   \n",
              "3                            2                                2   \n",
              "4                           22                                2   \n",
              "\n",
              "   Arrival at Pickup - Day of Month  Arrival at Pickup - Weekday (Mo = 1)  \\\n",
              "0                                 9                                     5   \n",
              "1                                18                                     5   \n",
              "2                                31                                     5   \n",
              "3                                 2                                     2   \n",
              "4                                22                                     2   \n",
              "\n",
              "   Pickup - Day of Month  Pickup - Weekday (Mo = 1)  Distance (KM)  ...  \\\n",
              "0                      9                          5              4  ...   \n",
              "1                     18                          5             20  ...   \n",
              "2                     31                          5              6  ...   \n",
              "3                      2                          2             18  ...   \n",
              "4                     22                          2              7  ...   \n",
              "\n",
              "   Arrival at Pickup - Hour_8  Arrival at Pickup - Hour_9  Pickup - Hour_2  \\\n",
              "0                           0                           0                0   \n",
              "1                           0                           0                0   \n",
              "2                           0                           0                0   \n",
              "3                           0                           0                0   \n",
              "4                           0                           0                0   \n",
              "\n",
              "   Pickup - Hour_3  Pickup - Hour_4  Pickup - Hour_5  Pickup - Hour_6  \\\n",
              "0                0                0                0                0   \n",
              "1                0                1                0                0   \n",
              "2                0                0                0                0   \n",
              "3                0                0                0                0   \n",
              "4                0                0                0                0   \n",
              "\n",
              "   Pickup - Hour_7  Pickup - Hour_8  Pickup - Hour_9  \n",
              "0                0                0                0  \n",
              "1                0                0                0  \n",
              "2                0                0                0  \n",
              "3                1                0                0  \n",
              "4                0                0                0  \n",
              "\n",
              "[5 rows x 56 columns]"
            ]
          },
          "metadata": {
            "tags": []
          },
          "execution_count": 55
        }
      ]
    },
    {
      "cell_type": "markdown",
      "metadata": {
        "id": "tTZngrA2CGJj",
        "colab_type": "text"
      },
      "source": [
        "### Train Test Split"
      ]
    },
    {
      "cell_type": "code",
      "metadata": {
        "id": "6U3r6n7qCGJk",
        "colab_type": "code",
        "colab": {}
      },
      "source": [
        "from sklearn.model_selection import train_test_split\n",
        "X_train, X_test, y_train, y_test = train_test_split(X, y, test_size = 0.2, random_state = 42)"
      ],
      "execution_count": 0,
      "outputs": []
    },
    {
      "cell_type": "code",
      "metadata": {
        "id": "_0zEJbmECGJn",
        "colab_type": "code",
        "colab": {},
        "outputId": "ff1091b5-9aa4-4350-caa1-475e09c2889f"
      },
      "source": [
        "X.columns"
      ],
      "execution_count": 0,
      "outputs": [
        {
          "output_type": "execute_result",
          "data": {
            "text/plain": [
              "Index(['Platform Type', 'Placement - Day of Month',\n",
              "       'Placement - Weekday (Mo = 1)', 'Confirmation - Day of Month',\n",
              "       'Confirmation - Weekday (Mo = 1)', 'Arrival at Pickup - Day of Month',\n",
              "       'Arrival at Pickup - Weekday (Mo = 1)', 'Pickup - Day of Month',\n",
              "       'Pickup - Weekday (Mo = 1)', 'Distance (KM)', 'Temperature',\n",
              "       'Pickup Lat', 'Pickup Long', 'Destination Lat', 'Destination Long',\n",
              "       'No_Of_Orders', 'Age', 'Average_Rating', 'No_of_Ratings',\n",
              "       'Personal or Business_Personal', 'Placement - AM/PM_PM',\n",
              "       'Confirmation - AM/PM_PM', 'Arrival at Pickup - AM/PM_PM',\n",
              "       'Pickup - AM/PM_PM', 'Placement - Hour_2', 'Placement - Hour_3',\n",
              "       'Placement - Hour_4', 'Placement - Hour_5', 'Placement - Hour_6',\n",
              "       'Placement - Hour_7', 'Placement - Hour_8', 'Placement - Hour_9',\n",
              "       'Confirmation - Hour_2', 'Confirmation - Hour_3',\n",
              "       'Confirmation - Hour_4', 'Confirmation - Hour_5',\n",
              "       'Confirmation - Hour_6', 'Confirmation - Hour_7',\n",
              "       'Confirmation - Hour_8', 'Confirmation - Hour_9',\n",
              "       'Arrival at Pickup - Hour_2', 'Arrival at Pickup - Hour_3',\n",
              "       'Arrival at Pickup - Hour_4', 'Arrival at Pickup - Hour_5',\n",
              "       'Arrival at Pickup - Hour_6', 'Arrival at Pickup - Hour_7',\n",
              "       'Arrival at Pickup - Hour_8', 'Arrival at Pickup - Hour_9',\n",
              "       'Pickup - Hour_2', 'Pickup - Hour_3', 'Pickup - Hour_4',\n",
              "       'Pickup - Hour_5', 'Pickup - Hour_6', 'Pickup - Hour_7',\n",
              "       'Pickup - Hour_8', 'Pickup - Hour_9'],\n",
              "      dtype='object')"
            ]
          },
          "metadata": {
            "tags": []
          },
          "execution_count": 61
        }
      ]
    },
    {
      "cell_type": "markdown",
      "metadata": {
        "id": "-SXqUsLUCGJy",
        "colab_type": "text"
      },
      "source": [
        "### Buiding a model\n"
      ]
    },
    {
      "cell_type": "code",
      "metadata": {
        "id": "xJldQaeiCGJz",
        "colab_type": "code",
        "colab": {}
      },
      "source": [
        "from sklearn.tree import DecisionTreeRegressor"
      ],
      "execution_count": 0,
      "outputs": []
    },
    {
      "cell_type": "code",
      "metadata": {
        "id": "DzWoPZUWCGJ4",
        "colab_type": "code",
        "colab": {}
      },
      "source": [
        "# Instantiate regression tree model\n",
        "regr_tree = DecisionTreeRegressor(max_depth=2,random_state=42)"
      ],
      "execution_count": 0,
      "outputs": []
    },
    {
      "cell_type": "code",
      "metadata": {
        "id": "649TD3aVCGJ_",
        "colab_type": "code",
        "colab": {},
        "outputId": "424c543a-c292-4b13-b8d5-8d601c184e87"
      },
      "source": [
        "regr_tree.fit(X,y)"
      ],
      "execution_count": 0,
      "outputs": [
        {
          "output_type": "execute_result",
          "data": {
            "text/plain": [
              "DecisionTreeRegressor(ccp_alpha=0.0, criterion='mse', max_depth=2,\n",
              "                      max_features=None, max_leaf_nodes=None,\n",
              "                      min_impurity_decrease=0.0, min_impurity_split=None,\n",
              "                      min_samples_leaf=1, min_samples_split=2,\n",
              "                      min_weight_fraction_leaf=0.0, presort='deprecated',\n",
              "                      random_state=42, splitter='best')"
            ]
          },
          "metadata": {
            "tags": []
          },
          "execution_count": 64
        }
      ]
    },
    {
      "cell_type": "code",
      "metadata": {
        "id": "ZKaAiwZICGKC",
        "colab_type": "code",
        "colab": {}
      },
      "source": [
        "from sklearn.tree import plot_tree"
      ],
      "execution_count": 0,
      "outputs": []
    },
    {
      "cell_type": "code",
      "metadata": {
        "id": "Vfpl-jADCGKF",
        "colab_type": "code",
        "colab": {},
        "outputId": "0fcaf94b-0bff-4063-d388-f1fd358e8039"
      },
      "source": [
        "plt.figure(figsize=(5,5))\n",
        "# assigned a random variable name to the plot to suppress text output\n",
        "_ = plot_tree(regr_tree, feature_names=['Platform Type',\n",
        "                                        'Placement - Day of Month',\n",
        "       'Placement - Weekday (Mo = 1)', 'Confirmation - Day of Month',\n",
        "       'Confirmation - Weekday (Mo = 1)', 'Arrival at Pickup - Day of Month',\n",
        "       'Arrival at Pickup - Weekday (Mo = 1)', 'Pickup - Day of Month',\n",
        "       'Pickup - Weekday (Mo = 1)', 'Distance (KM)', 'Temperature',\n",
        "       'Pickup Lat', 'Pickup Long', 'Destination Lat', 'Destination Long',\n",
        "       'No_Of_Orders', 'Age', 'Average_Rating', 'No_of_Ratings',\n",
        "       'Personal or Business_Personal', 'Placement - AM/PM_PM',\n",
        "       'Confirmation - AM/PM_PM', 'Arrival at Pickup - AM/PM_PM',\n",
        "       'Pickup - AM/PM_PM', 'Placement - Hour_2', 'Placement - Hour_3',\n",
        "       'Placement - Hour_4', 'Placement - Hour_5', 'Placement - Hour_6',\n",
        "       'Placement - Hour_7', 'Placement - Hour_8', 'Placement - Hour_9',\n",
        "       'Confirmation - Hour_2', 'Confirmation - Hour_3',\n",
        "       'Confirmation - Hour_4', 'Confirmation - Hour_5',\n",
        "       'Confirmation - Hour_6', 'Confirmation - Hour_7',\n",
        "       'Confirmation - Hour_8', 'Confirmation - Hour_9',\n",
        "       'Arrival at Pickup - Hour_2', 'Arrival at Pickup - Hour_3',\n",
        "       'Arrival at Pickup - Hour_4', 'Arrival at Pickup - Hour_5',\n",
        "       'Arrival at Pickup - Hour_6', 'Arrival at Pickup - Hour_7',\n",
        "       'Arrival at Pickup - Hour_8', 'Arrival at Pickup - Hour_9',\n",
        "       'Pickup - Hour_2', 'Pickup - Hour_3', 'Pickup - Hour_4',\n",
        "       'Pickup - Hour_5', 'Pickup - Hour_6', 'Pickup - Hour_7',\n",
        "       'Pickup - Hour_8', 'Pickup - Hour_9'], filled=True)"
      ],
      "execution_count": 0,
      "outputs": [
        {
          "output_type": "display_data",
          "data": {
            "application/javascript": [
              "/* Put everything inside the global mpl namespace */\n",
              "window.mpl = {};\n",
              "\n",
              "\n",
              "mpl.get_websocket_type = function() {\n",
              "    if (typeof(WebSocket) !== 'undefined') {\n",
              "        return WebSocket;\n",
              "    } else if (typeof(MozWebSocket) !== 'undefined') {\n",
              "        return MozWebSocket;\n",
              "    } else {\n",
              "        alert('Your browser does not have WebSocket support. ' +\n",
              "              'Please try Chrome, Safari or Firefox ≥ 6. ' +\n",
              "              'Firefox 4 and 5 are also supported but you ' +\n",
              "              'have to enable WebSockets in about:config.');\n",
              "    };\n",
              "}\n",
              "\n",
              "mpl.figure = function(figure_id, websocket, ondownload, parent_element) {\n",
              "    this.id = figure_id;\n",
              "\n",
              "    this.ws = websocket;\n",
              "\n",
              "    this.supports_binary = (this.ws.binaryType != undefined);\n",
              "\n",
              "    if (!this.supports_binary) {\n",
              "        var warnings = document.getElementById(\"mpl-warnings\");\n",
              "        if (warnings) {\n",
              "            warnings.style.display = 'block';\n",
              "            warnings.textContent = (\n",
              "                \"This browser does not support binary websocket messages. \" +\n",
              "                    \"Performance may be slow.\");\n",
              "        }\n",
              "    }\n",
              "\n",
              "    this.imageObj = new Image();\n",
              "\n",
              "    this.context = undefined;\n",
              "    this.message = undefined;\n",
              "    this.canvas = undefined;\n",
              "    this.rubberband_canvas = undefined;\n",
              "    this.rubberband_context = undefined;\n",
              "    this.format_dropdown = undefined;\n",
              "\n",
              "    this.image_mode = 'full';\n",
              "\n",
              "    this.root = $('<div/>');\n",
              "    this._root_extra_style(this.root)\n",
              "    this.root.attr('style', 'display: inline-block');\n",
              "\n",
              "    $(parent_element).append(this.root);\n",
              "\n",
              "    this._init_header(this);\n",
              "    this._init_canvas(this);\n",
              "    this._init_toolbar(this);\n",
              "\n",
              "    var fig = this;\n",
              "\n",
              "    this.waiting = false;\n",
              "\n",
              "    this.ws.onopen =  function () {\n",
              "            fig.send_message(\"supports_binary\", {value: fig.supports_binary});\n",
              "            fig.send_message(\"send_image_mode\", {});\n",
              "            if (mpl.ratio != 1) {\n",
              "                fig.send_message(\"set_dpi_ratio\", {'dpi_ratio': mpl.ratio});\n",
              "            }\n",
              "            fig.send_message(\"refresh\", {});\n",
              "        }\n",
              "\n",
              "    this.imageObj.onload = function() {\n",
              "            if (fig.image_mode == 'full') {\n",
              "                // Full images could contain transparency (where diff images\n",
              "                // almost always do), so we need to clear the canvas so that\n",
              "                // there is no ghosting.\n",
              "                fig.context.clearRect(0, 0, fig.canvas.width, fig.canvas.height);\n",
              "            }\n",
              "            fig.context.drawImage(fig.imageObj, 0, 0);\n",
              "        };\n",
              "\n",
              "    this.imageObj.onunload = function() {\n",
              "        fig.ws.close();\n",
              "    }\n",
              "\n",
              "    this.ws.onmessage = this._make_on_message_function(this);\n",
              "\n",
              "    this.ondownload = ondownload;\n",
              "}\n",
              "\n",
              "mpl.figure.prototype._init_header = function() {\n",
              "    var titlebar = $(\n",
              "        '<div class=\"ui-dialog-titlebar ui-widget-header ui-corner-all ' +\n",
              "        'ui-helper-clearfix\"/>');\n",
              "    var titletext = $(\n",
              "        '<div class=\"ui-dialog-title\" style=\"width: 100%; ' +\n",
              "        'text-align: center; padding: 3px;\"/>');\n",
              "    titlebar.append(titletext)\n",
              "    this.root.append(titlebar);\n",
              "    this.header = titletext[0];\n",
              "}\n",
              "\n",
              "\n",
              "\n",
              "mpl.figure.prototype._canvas_extra_style = function(canvas_div) {\n",
              "\n",
              "}\n",
              "\n",
              "\n",
              "mpl.figure.prototype._root_extra_style = function(canvas_div) {\n",
              "\n",
              "}\n",
              "\n",
              "mpl.figure.prototype._init_canvas = function() {\n",
              "    var fig = this;\n",
              "\n",
              "    var canvas_div = $('<div/>');\n",
              "\n",
              "    canvas_div.attr('style', 'position: relative; clear: both; outline: 0');\n",
              "\n",
              "    function canvas_keyboard_event(event) {\n",
              "        return fig.key_event(event, event['data']);\n",
              "    }\n",
              "\n",
              "    canvas_div.keydown('key_press', canvas_keyboard_event);\n",
              "    canvas_div.keyup('key_release', canvas_keyboard_event);\n",
              "    this.canvas_div = canvas_div\n",
              "    this._canvas_extra_style(canvas_div)\n",
              "    this.root.append(canvas_div);\n",
              "\n",
              "    var canvas = $('<canvas/>');\n",
              "    canvas.addClass('mpl-canvas');\n",
              "    canvas.attr('style', \"left: 0; top: 0; z-index: 0; outline: 0\")\n",
              "\n",
              "    this.canvas = canvas[0];\n",
              "    this.context = canvas[0].getContext(\"2d\");\n",
              "\n",
              "    var backingStore = this.context.backingStorePixelRatio ||\n",
              "\tthis.context.webkitBackingStorePixelRatio ||\n",
              "\tthis.context.mozBackingStorePixelRatio ||\n",
              "\tthis.context.msBackingStorePixelRatio ||\n",
              "\tthis.context.oBackingStorePixelRatio ||\n",
              "\tthis.context.backingStorePixelRatio || 1;\n",
              "\n",
              "    mpl.ratio = (window.devicePixelRatio || 1) / backingStore;\n",
              "\n",
              "    var rubberband = $('<canvas/>');\n",
              "    rubberband.attr('style', \"position: absolute; left: 0; top: 0; z-index: 1;\")\n",
              "\n",
              "    var pass_mouse_events = true;\n",
              "\n",
              "    canvas_div.resizable({\n",
              "        start: function(event, ui) {\n",
              "            pass_mouse_events = false;\n",
              "        },\n",
              "        resize: function(event, ui) {\n",
              "            fig.request_resize(ui.size.width, ui.size.height);\n",
              "        },\n",
              "        stop: function(event, ui) {\n",
              "            pass_mouse_events = true;\n",
              "            fig.request_resize(ui.size.width, ui.size.height);\n",
              "        },\n",
              "    });\n",
              "\n",
              "    function mouse_event_fn(event) {\n",
              "        if (pass_mouse_events)\n",
              "            return fig.mouse_event(event, event['data']);\n",
              "    }\n",
              "\n",
              "    rubberband.mousedown('button_press', mouse_event_fn);\n",
              "    rubberband.mouseup('button_release', mouse_event_fn);\n",
              "    // Throttle sequential mouse events to 1 every 20ms.\n",
              "    rubberband.mousemove('motion_notify', mouse_event_fn);\n",
              "\n",
              "    rubberband.mouseenter('figure_enter', mouse_event_fn);\n",
              "    rubberband.mouseleave('figure_leave', mouse_event_fn);\n",
              "\n",
              "    canvas_div.on(\"wheel\", function (event) {\n",
              "        event = event.originalEvent;\n",
              "        event['data'] = 'scroll'\n",
              "        if (event.deltaY < 0) {\n",
              "            event.step = 1;\n",
              "        } else {\n",
              "            event.step = -1;\n",
              "        }\n",
              "        mouse_event_fn(event);\n",
              "    });\n",
              "\n",
              "    canvas_div.append(canvas);\n",
              "    canvas_div.append(rubberband);\n",
              "\n",
              "    this.rubberband = rubberband;\n",
              "    this.rubberband_canvas = rubberband[0];\n",
              "    this.rubberband_context = rubberband[0].getContext(\"2d\");\n",
              "    this.rubberband_context.strokeStyle = \"#000000\";\n",
              "\n",
              "    this._resize_canvas = function(width, height) {\n",
              "        // Keep the size of the canvas, canvas container, and rubber band\n",
              "        // canvas in synch.\n",
              "        canvas_div.css('width', width)\n",
              "        canvas_div.css('height', height)\n",
              "\n",
              "        canvas.attr('width', width * mpl.ratio);\n",
              "        canvas.attr('height', height * mpl.ratio);\n",
              "        canvas.attr('style', 'width: ' + width + 'px; height: ' + height + 'px;');\n",
              "\n",
              "        rubberband.attr('width', width);\n",
              "        rubberband.attr('height', height);\n",
              "    }\n",
              "\n",
              "    // Set the figure to an initial 600x600px, this will subsequently be updated\n",
              "    // upon first draw.\n",
              "    this._resize_canvas(600, 600);\n",
              "\n",
              "    // Disable right mouse context menu.\n",
              "    $(this.rubberband_canvas).bind(\"contextmenu\",function(e){\n",
              "        return false;\n",
              "    });\n",
              "\n",
              "    function set_focus () {\n",
              "        canvas.focus();\n",
              "        canvas_div.focus();\n",
              "    }\n",
              "\n",
              "    window.setTimeout(set_focus, 100);\n",
              "}\n",
              "\n",
              "mpl.figure.prototype._init_toolbar = function() {\n",
              "    var fig = this;\n",
              "\n",
              "    var nav_element = $('<div/>');\n",
              "    nav_element.attr('style', 'width: 100%');\n",
              "    this.root.append(nav_element);\n",
              "\n",
              "    // Define a callback function for later on.\n",
              "    function toolbar_event(event) {\n",
              "        return fig.toolbar_button_onclick(event['data']);\n",
              "    }\n",
              "    function toolbar_mouse_event(event) {\n",
              "        return fig.toolbar_button_onmouseover(event['data']);\n",
              "    }\n",
              "\n",
              "    for(var toolbar_ind in mpl.toolbar_items) {\n",
              "        var name = mpl.toolbar_items[toolbar_ind][0];\n",
              "        var tooltip = mpl.toolbar_items[toolbar_ind][1];\n",
              "        var image = mpl.toolbar_items[toolbar_ind][2];\n",
              "        var method_name = mpl.toolbar_items[toolbar_ind][3];\n",
              "\n",
              "        if (!name) {\n",
              "            // put a spacer in here.\n",
              "            continue;\n",
              "        }\n",
              "        var button = $('<button/>');\n",
              "        button.addClass('ui-button ui-widget ui-state-default ui-corner-all ' +\n",
              "                        'ui-button-icon-only');\n",
              "        button.attr('role', 'button');\n",
              "        button.attr('aria-disabled', 'false');\n",
              "        button.click(method_name, toolbar_event);\n",
              "        button.mouseover(tooltip, toolbar_mouse_event);\n",
              "\n",
              "        var icon_img = $('<span/>');\n",
              "        icon_img.addClass('ui-button-icon-primary ui-icon');\n",
              "        icon_img.addClass(image);\n",
              "        icon_img.addClass('ui-corner-all');\n",
              "\n",
              "        var tooltip_span = $('<span/>');\n",
              "        tooltip_span.addClass('ui-button-text');\n",
              "        tooltip_span.html(tooltip);\n",
              "\n",
              "        button.append(icon_img);\n",
              "        button.append(tooltip_span);\n",
              "\n",
              "        nav_element.append(button);\n",
              "    }\n",
              "\n",
              "    var fmt_picker_span = $('<span/>');\n",
              "\n",
              "    var fmt_picker = $('<select/>');\n",
              "    fmt_picker.addClass('mpl-toolbar-option ui-widget ui-widget-content');\n",
              "    fmt_picker_span.append(fmt_picker);\n",
              "    nav_element.append(fmt_picker_span);\n",
              "    this.format_dropdown = fmt_picker[0];\n",
              "\n",
              "    for (var ind in mpl.extensions) {\n",
              "        var fmt = mpl.extensions[ind];\n",
              "        var option = $(\n",
              "            '<option/>', {selected: fmt === mpl.default_extension}).html(fmt);\n",
              "        fmt_picker.append(option);\n",
              "    }\n",
              "\n",
              "    // Add hover states to the ui-buttons\n",
              "    $( \".ui-button\" ).hover(\n",
              "        function() { $(this).addClass(\"ui-state-hover\");},\n",
              "        function() { $(this).removeClass(\"ui-state-hover\");}\n",
              "    );\n",
              "\n",
              "    var status_bar = $('<span class=\"mpl-message\"/>');\n",
              "    nav_element.append(status_bar);\n",
              "    this.message = status_bar[0];\n",
              "}\n",
              "\n",
              "mpl.figure.prototype.request_resize = function(x_pixels, y_pixels) {\n",
              "    // Request matplotlib to resize the figure. Matplotlib will then trigger a resize in the client,\n",
              "    // which will in turn request a refresh of the image.\n",
              "    this.send_message('resize', {'width': x_pixels, 'height': y_pixels});\n",
              "}\n",
              "\n",
              "mpl.figure.prototype.send_message = function(type, properties) {\n",
              "    properties['type'] = type;\n",
              "    properties['figure_id'] = this.id;\n",
              "    this.ws.send(JSON.stringify(properties));\n",
              "}\n",
              "\n",
              "mpl.figure.prototype.send_draw_message = function() {\n",
              "    if (!this.waiting) {\n",
              "        this.waiting = true;\n",
              "        this.ws.send(JSON.stringify({type: \"draw\", figure_id: this.id}));\n",
              "    }\n",
              "}\n",
              "\n",
              "\n",
              "mpl.figure.prototype.handle_save = function(fig, msg) {\n",
              "    var format_dropdown = fig.format_dropdown;\n",
              "    var format = format_dropdown.options[format_dropdown.selectedIndex].value;\n",
              "    fig.ondownload(fig, format);\n",
              "}\n",
              "\n",
              "\n",
              "mpl.figure.prototype.handle_resize = function(fig, msg) {\n",
              "    var size = msg['size'];\n",
              "    if (size[0] != fig.canvas.width || size[1] != fig.canvas.height) {\n",
              "        fig._resize_canvas(size[0], size[1]);\n",
              "        fig.send_message(\"refresh\", {});\n",
              "    };\n",
              "}\n",
              "\n",
              "mpl.figure.prototype.handle_rubberband = function(fig, msg) {\n",
              "    var x0 = msg['x0'] / mpl.ratio;\n",
              "    var y0 = (fig.canvas.height - msg['y0']) / mpl.ratio;\n",
              "    var x1 = msg['x1'] / mpl.ratio;\n",
              "    var y1 = (fig.canvas.height - msg['y1']) / mpl.ratio;\n",
              "    x0 = Math.floor(x0) + 0.5;\n",
              "    y0 = Math.floor(y0) + 0.5;\n",
              "    x1 = Math.floor(x1) + 0.5;\n",
              "    y1 = Math.floor(y1) + 0.5;\n",
              "    var min_x = Math.min(x0, x1);\n",
              "    var min_y = Math.min(y0, y1);\n",
              "    var width = Math.abs(x1 - x0);\n",
              "    var height = Math.abs(y1 - y0);\n",
              "\n",
              "    fig.rubberband_context.clearRect(\n",
              "        0, 0, fig.canvas.width / mpl.ratio, fig.canvas.height / mpl.ratio);\n",
              "\n",
              "    fig.rubberband_context.strokeRect(min_x, min_y, width, height);\n",
              "}\n",
              "\n",
              "mpl.figure.prototype.handle_figure_label = function(fig, msg) {\n",
              "    // Updates the figure title.\n",
              "    fig.header.textContent = msg['label'];\n",
              "}\n",
              "\n",
              "mpl.figure.prototype.handle_cursor = function(fig, msg) {\n",
              "    var cursor = msg['cursor'];\n",
              "    switch(cursor)\n",
              "    {\n",
              "    case 0:\n",
              "        cursor = 'pointer';\n",
              "        break;\n",
              "    case 1:\n",
              "        cursor = 'default';\n",
              "        break;\n",
              "    case 2:\n",
              "        cursor = 'crosshair';\n",
              "        break;\n",
              "    case 3:\n",
              "        cursor = 'move';\n",
              "        break;\n",
              "    }\n",
              "    fig.rubberband_canvas.style.cursor = cursor;\n",
              "}\n",
              "\n",
              "mpl.figure.prototype.handle_message = function(fig, msg) {\n",
              "    fig.message.textContent = msg['message'];\n",
              "}\n",
              "\n",
              "mpl.figure.prototype.handle_draw = function(fig, msg) {\n",
              "    // Request the server to send over a new figure.\n",
              "    fig.send_draw_message();\n",
              "}\n",
              "\n",
              "mpl.figure.prototype.handle_image_mode = function(fig, msg) {\n",
              "    fig.image_mode = msg['mode'];\n",
              "}\n",
              "\n",
              "mpl.figure.prototype.updated_canvas_event = function() {\n",
              "    // Called whenever the canvas gets updated.\n",
              "    this.send_message(\"ack\", {});\n",
              "}\n",
              "\n",
              "// A function to construct a web socket function for onmessage handling.\n",
              "// Called in the figure constructor.\n",
              "mpl.figure.prototype._make_on_message_function = function(fig) {\n",
              "    return function socket_on_message(evt) {\n",
              "        if (evt.data instanceof Blob) {\n",
              "            /* FIXME: We get \"Resource interpreted as Image but\n",
              "             * transferred with MIME type text/plain:\" errors on\n",
              "             * Chrome.  But how to set the MIME type?  It doesn't seem\n",
              "             * to be part of the websocket stream */\n",
              "            evt.data.type = \"image/png\";\n",
              "\n",
              "            /* Free the memory for the previous frames */\n",
              "            if (fig.imageObj.src) {\n",
              "                (window.URL || window.webkitURL).revokeObjectURL(\n",
              "                    fig.imageObj.src);\n",
              "            }\n",
              "\n",
              "            fig.imageObj.src = (window.URL || window.webkitURL).createObjectURL(\n",
              "                evt.data);\n",
              "            fig.updated_canvas_event();\n",
              "            fig.waiting = false;\n",
              "            return;\n",
              "        }\n",
              "        else if (typeof evt.data === 'string' && evt.data.slice(0, 21) == \"data:image/png;base64\") {\n",
              "            fig.imageObj.src = evt.data;\n",
              "            fig.updated_canvas_event();\n",
              "            fig.waiting = false;\n",
              "            return;\n",
              "        }\n",
              "\n",
              "        var msg = JSON.parse(evt.data);\n",
              "        var msg_type = msg['type'];\n",
              "\n",
              "        // Call the  \"handle_{type}\" callback, which takes\n",
              "        // the figure and JSON message as its only arguments.\n",
              "        try {\n",
              "            var callback = fig[\"handle_\" + msg_type];\n",
              "        } catch (e) {\n",
              "            console.log(\"No handler for the '\" + msg_type + \"' message type: \", msg);\n",
              "            return;\n",
              "        }\n",
              "\n",
              "        if (callback) {\n",
              "            try {\n",
              "                // console.log(\"Handling '\" + msg_type + \"' message: \", msg);\n",
              "                callback(fig, msg);\n",
              "            } catch (e) {\n",
              "                console.log(\"Exception inside the 'handler_\" + msg_type + \"' callback:\", e, e.stack, msg);\n",
              "            }\n",
              "        }\n",
              "    };\n",
              "}\n",
              "\n",
              "// from http://stackoverflow.com/questions/1114465/getting-mouse-location-in-canvas\n",
              "mpl.findpos = function(e) {\n",
              "    //this section is from http://www.quirksmode.org/js/events_properties.html\n",
              "    var targ;\n",
              "    if (!e)\n",
              "        e = window.event;\n",
              "    if (e.target)\n",
              "        targ = e.target;\n",
              "    else if (e.srcElement)\n",
              "        targ = e.srcElement;\n",
              "    if (targ.nodeType == 3) // defeat Safari bug\n",
              "        targ = targ.parentNode;\n",
              "\n",
              "    // jQuery normalizes the pageX and pageY\n",
              "    // pageX,Y are the mouse positions relative to the document\n",
              "    // offset() returns the position of the element relative to the document\n",
              "    var x = e.pageX - $(targ).offset().left;\n",
              "    var y = e.pageY - $(targ).offset().top;\n",
              "\n",
              "    return {\"x\": x, \"y\": y};\n",
              "};\n",
              "\n",
              "/*\n",
              " * return a copy of an object with only non-object keys\n",
              " * we need this to avoid circular references\n",
              " * http://stackoverflow.com/a/24161582/3208463\n",
              " */\n",
              "function simpleKeys (original) {\n",
              "  return Object.keys(original).reduce(function (obj, key) {\n",
              "    if (typeof original[key] !== 'object')\n",
              "        obj[key] = original[key]\n",
              "    return obj;\n",
              "  }, {});\n",
              "}\n",
              "\n",
              "mpl.figure.prototype.mouse_event = function(event, name) {\n",
              "    var canvas_pos = mpl.findpos(event)\n",
              "\n",
              "    if (name === 'button_press')\n",
              "    {\n",
              "        this.canvas.focus();\n",
              "        this.canvas_div.focus();\n",
              "    }\n",
              "\n",
              "    var x = canvas_pos.x * mpl.ratio;\n",
              "    var y = canvas_pos.y * mpl.ratio;\n",
              "\n",
              "    this.send_message(name, {x: x, y: y, button: event.button,\n",
              "                             step: event.step,\n",
              "                             guiEvent: simpleKeys(event)});\n",
              "\n",
              "    /* This prevents the web browser from automatically changing to\n",
              "     * the text insertion cursor when the button is pressed.  We want\n",
              "     * to control all of the cursor setting manually through the\n",
              "     * 'cursor' event from matplotlib */\n",
              "    event.preventDefault();\n",
              "    return false;\n",
              "}\n",
              "\n",
              "mpl.figure.prototype._key_event_extra = function(event, name) {\n",
              "    // Handle any extra behaviour associated with a key event\n",
              "}\n",
              "\n",
              "mpl.figure.prototype.key_event = function(event, name) {\n",
              "\n",
              "    // Prevent repeat events\n",
              "    if (name == 'key_press')\n",
              "    {\n",
              "        if (event.which === this._key)\n",
              "            return;\n",
              "        else\n",
              "            this._key = event.which;\n",
              "    }\n",
              "    if (name == 'key_release')\n",
              "        this._key = null;\n",
              "\n",
              "    var value = '';\n",
              "    if (event.ctrlKey && event.which != 17)\n",
              "        value += \"ctrl+\";\n",
              "    if (event.altKey && event.which != 18)\n",
              "        value += \"alt+\";\n",
              "    if (event.shiftKey && event.which != 16)\n",
              "        value += \"shift+\";\n",
              "\n",
              "    value += 'k';\n",
              "    value += event.which.toString();\n",
              "\n",
              "    this._key_event_extra(event, name);\n",
              "\n",
              "    this.send_message(name, {key: value,\n",
              "                             guiEvent: simpleKeys(event)});\n",
              "    return false;\n",
              "}\n",
              "\n",
              "mpl.figure.prototype.toolbar_button_onclick = function(name) {\n",
              "    if (name == 'download') {\n",
              "        this.handle_save(this, null);\n",
              "    } else {\n",
              "        this.send_message(\"toolbar_button\", {name: name});\n",
              "    }\n",
              "};\n",
              "\n",
              "mpl.figure.prototype.toolbar_button_onmouseover = function(tooltip) {\n",
              "    this.message.textContent = tooltip;\n",
              "};\n",
              "mpl.toolbar_items = [[\"Home\", \"Reset original view\", \"fa fa-home icon-home\", \"home\"], [\"Back\", \"Back to previous view\", \"fa fa-arrow-left icon-arrow-left\", \"back\"], [\"Forward\", \"Forward to next view\", \"fa fa-arrow-right icon-arrow-right\", \"forward\"], [\"\", \"\", \"\", \"\"], [\"Pan\", \"Pan axes with left mouse, zoom with right\", \"fa fa-arrows icon-move\", \"pan\"], [\"Zoom\", \"Zoom to rectangle\", \"fa fa-square-o icon-check-empty\", \"zoom\"], [\"\", \"\", \"\", \"\"], [\"Download\", \"Download plot\", \"fa fa-floppy-o icon-save\", \"download\"]];\n",
              "\n",
              "mpl.extensions = [\"eps\", \"jpeg\", \"pdf\", \"png\", \"ps\", \"raw\", \"svg\", \"tif\"];\n",
              "\n",
              "mpl.default_extension = \"png\";var comm_websocket_adapter = function(comm) {\n",
              "    // Create a \"websocket\"-like object which calls the given IPython comm\n",
              "    // object with the appropriate methods. Currently this is a non binary\n",
              "    // socket, so there is still some room for performance tuning.\n",
              "    var ws = {};\n",
              "\n",
              "    ws.close = function() {\n",
              "        comm.close()\n",
              "    };\n",
              "    ws.send = function(m) {\n",
              "        //console.log('sending', m);\n",
              "        comm.send(m);\n",
              "    };\n",
              "    // Register the callback with on_msg.\n",
              "    comm.on_msg(function(msg) {\n",
              "        //console.log('receiving', msg['content']['data'], msg);\n",
              "        // Pass the mpl event to the overridden (by mpl) onmessage function.\n",
              "        ws.onmessage(msg['content']['data'])\n",
              "    });\n",
              "    return ws;\n",
              "}\n",
              "\n",
              "mpl.mpl_figure_comm = function(comm, msg) {\n",
              "    // This is the function which gets called when the mpl process\n",
              "    // starts-up an IPython Comm through the \"matplotlib\" channel.\n",
              "\n",
              "    var id = msg.content.data.id;\n",
              "    // Get hold of the div created by the display call when the Comm\n",
              "    // socket was opened in Python.\n",
              "    var element = $(\"#\" + id);\n",
              "    var ws_proxy = comm_websocket_adapter(comm)\n",
              "\n",
              "    function ondownload(figure, format) {\n",
              "        window.open(figure.imageObj.src);\n",
              "    }\n",
              "\n",
              "    var fig = new mpl.figure(id, ws_proxy,\n",
              "                           ondownload,\n",
              "                           element.get(0));\n",
              "\n",
              "    // Call onopen now - mpl needs it, as it is assuming we've passed it a real\n",
              "    // web socket which is closed, not our websocket->open comm proxy.\n",
              "    ws_proxy.onopen();\n",
              "\n",
              "    fig.parent_element = element.get(0);\n",
              "    fig.cell_info = mpl.find_output_cell(\"<div id='\" + id + \"'></div>\");\n",
              "    if (!fig.cell_info) {\n",
              "        console.error(\"Failed to find cell for figure\", id, fig);\n",
              "        return;\n",
              "    }\n",
              "\n",
              "    var output_index = fig.cell_info[2]\n",
              "    var cell = fig.cell_info[0];\n",
              "\n",
              "};\n",
              "\n",
              "mpl.figure.prototype.handle_close = function(fig, msg) {\n",
              "    var width = fig.canvas.width/mpl.ratio\n",
              "    fig.root.unbind('remove')\n",
              "\n",
              "    // Update the output cell to use the data from the current canvas.\n",
              "    fig.push_to_output();\n",
              "    var dataURL = fig.canvas.toDataURL();\n",
              "    // Re-enable the keyboard manager in IPython - without this line, in FF,\n",
              "    // the notebook keyboard shortcuts fail.\n",
              "    IPython.keyboard_manager.enable()\n",
              "    $(fig.parent_element).html('<img src=\"' + dataURL + '\" width=\"' + width + '\">');\n",
              "    fig.close_ws(fig, msg);\n",
              "}\n",
              "\n",
              "mpl.figure.prototype.close_ws = function(fig, msg){\n",
              "    fig.send_message('closing', msg);\n",
              "    // fig.ws.close()\n",
              "}\n",
              "\n",
              "mpl.figure.prototype.push_to_output = function(remove_interactive) {\n",
              "    // Turn the data on the canvas into data in the output cell.\n",
              "    var width = this.canvas.width/mpl.ratio\n",
              "    var dataURL = this.canvas.toDataURL();\n",
              "    this.cell_info[1]['text/html'] = '<img src=\"' + dataURL + '\" width=\"' + width + '\">';\n",
              "}\n",
              "\n",
              "mpl.figure.prototype.updated_canvas_event = function() {\n",
              "    // Tell IPython that the notebook contents must change.\n",
              "    IPython.notebook.set_dirty(true);\n",
              "    this.send_message(\"ack\", {});\n",
              "    var fig = this;\n",
              "    // Wait a second, then push the new image to the DOM so\n",
              "    // that it is saved nicely (might be nice to debounce this).\n",
              "    setTimeout(function () { fig.push_to_output() }, 1000);\n",
              "}\n",
              "\n",
              "mpl.figure.prototype._init_toolbar = function() {\n",
              "    var fig = this;\n",
              "\n",
              "    var nav_element = $('<div/>');\n",
              "    nav_element.attr('style', 'width: 100%');\n",
              "    this.root.append(nav_element);\n",
              "\n",
              "    // Define a callback function for later on.\n",
              "    function toolbar_event(event) {\n",
              "        return fig.toolbar_button_onclick(event['data']);\n",
              "    }\n",
              "    function toolbar_mouse_event(event) {\n",
              "        return fig.toolbar_button_onmouseover(event['data']);\n",
              "    }\n",
              "\n",
              "    for(var toolbar_ind in mpl.toolbar_items){\n",
              "        var name = mpl.toolbar_items[toolbar_ind][0];\n",
              "        var tooltip = mpl.toolbar_items[toolbar_ind][1];\n",
              "        var image = mpl.toolbar_items[toolbar_ind][2];\n",
              "        var method_name = mpl.toolbar_items[toolbar_ind][3];\n",
              "\n",
              "        if (!name) { continue; };\n",
              "\n",
              "        var button = $('<button class=\"btn btn-default\" href=\"#\" title=\"' + name + '\"><i class=\"fa ' + image + ' fa-lg\"></i></button>');\n",
              "        button.click(method_name, toolbar_event);\n",
              "        button.mouseover(tooltip, toolbar_mouse_event);\n",
              "        nav_element.append(button);\n",
              "    }\n",
              "\n",
              "    // Add the status bar.\n",
              "    var status_bar = $('<span class=\"mpl-message\" style=\"text-align:right; float: right;\"/>');\n",
              "    nav_element.append(status_bar);\n",
              "    this.message = status_bar[0];\n",
              "\n",
              "    // Add the close button to the window.\n",
              "    var buttongrp = $('<div class=\"btn-group inline pull-right\"></div>');\n",
              "    var button = $('<button class=\"btn btn-mini btn-primary\" href=\"#\" title=\"Stop Interaction\"><i class=\"fa fa-power-off icon-remove icon-large\"></i></button>');\n",
              "    button.click(function (evt) { fig.handle_close(fig, {}); } );\n",
              "    button.mouseover('Stop Interaction', toolbar_mouse_event);\n",
              "    buttongrp.append(button);\n",
              "    var titlebar = this.root.find($('.ui-dialog-titlebar'));\n",
              "    titlebar.prepend(buttongrp);\n",
              "}\n",
              "\n",
              "mpl.figure.prototype._root_extra_style = function(el){\n",
              "    var fig = this\n",
              "    el.on(\"remove\", function(){\n",
              "\tfig.close_ws(fig, {});\n",
              "    });\n",
              "}\n",
              "\n",
              "mpl.figure.prototype._canvas_extra_style = function(el){\n",
              "    // this is important to make the div 'focusable\n",
              "    el.attr('tabindex', 0)\n",
              "    // reach out to IPython and tell the keyboard manager to turn it's self\n",
              "    // off when our div gets focus\n",
              "\n",
              "    // location in version 3\n",
              "    if (IPython.notebook.keyboard_manager) {\n",
              "        IPython.notebook.keyboard_manager.register_events(el);\n",
              "    }\n",
              "    else {\n",
              "        // location in version 2\n",
              "        IPython.keyboard_manager.register_events(el);\n",
              "    }\n",
              "\n",
              "}\n",
              "\n",
              "mpl.figure.prototype._key_event_extra = function(event, name) {\n",
              "    var manager = IPython.notebook.keyboard_manager;\n",
              "    if (!manager)\n",
              "        manager = IPython.keyboard_manager;\n",
              "\n",
              "    // Check for shift+enter\n",
              "    if (event.shiftKey && event.which == 13) {\n",
              "        this.canvas_div.blur();\n",
              "        // select the cell after this one\n",
              "        var index = IPython.notebook.find_cell_index(this.cell_info[0]);\n",
              "        IPython.notebook.select(index + 1);\n",
              "    }\n",
              "}\n",
              "\n",
              "mpl.figure.prototype.handle_save = function(fig, msg) {\n",
              "    fig.ondownload(fig, null);\n",
              "}\n",
              "\n",
              "\n",
              "mpl.find_output_cell = function(html_output) {\n",
              "    // Return the cell and output element which can be found *uniquely* in the notebook.\n",
              "    // Note - this is a bit hacky, but it is done because the \"notebook_saving.Notebook\"\n",
              "    // IPython event is triggered only after the cells have been serialised, which for\n",
              "    // our purposes (turning an active figure into a static one), is too late.\n",
              "    var cells = IPython.notebook.get_cells();\n",
              "    var ncells = cells.length;\n",
              "    for (var i=0; i<ncells; i++) {\n",
              "        var cell = cells[i];\n",
              "        if (cell.cell_type === 'code'){\n",
              "            for (var j=0; j<cell.output_area.outputs.length; j++) {\n",
              "                var data = cell.output_area.outputs[j];\n",
              "                if (data.data) {\n",
              "                    // IPython >= 3 moved mimebundle to data attribute of output\n",
              "                    data = data.data;\n",
              "                }\n",
              "                if (data['text/html'] == html_output) {\n",
              "                    return [cell, data, j];\n",
              "                }\n",
              "            }\n",
              "        }\n",
              "    }\n",
              "}\n",
              "\n",
              "// Register the function which deals with the matplotlib target/channel.\n",
              "// The kernel may be null if the page has been refreshed.\n",
              "if (IPython.notebook.kernel != null) {\n",
              "    IPython.notebook.kernel.comm_manager.register_target('matplotlib', mpl.mpl_figure_comm);\n",
              "}\n"
            ],
            "text/plain": [
              "<IPython.core.display.Javascript object>"
            ]
          },
          "metadata": {
            "tags": []
          }
        },
        {
          "output_type": "display_data",
          "data": {
            "text/html": [
              "<img src=\"data:image/png;base64,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\" width=\"499.9999891627921\">"
            ],
            "text/plain": [
              "<IPython.core.display.HTML object>"
            ]
          },
          "metadata": {
            "tags": []
          }
        }
      ]
    },
    {
      "cell_type": "markdown",
      "metadata": {
        "id": "5xGRaL_qCGKJ",
        "colab_type": "text"
      },
      "source": [
        "### Assessing Model Accuracy"
      ]
    },
    {
      "cell_type": "code",
      "metadata": {
        "id": "LLzF7ZarCGKK",
        "colab_type": "code",
        "colab": {}
      },
      "source": [
        "from sklearn.metrics import mean_squared_error"
      ],
      "execution_count": 0,
      "outputs": []
    },
    {
      "cell_type": "code",
      "metadata": {
        "id": "yZEahRf2CGKN",
        "colab_type": "code",
        "colab": {},
        "outputId": "03030555-24c2-4b00-c4ca-873b84b542af"
      },
      "source": [
        "# get predictions for test data\n",
        "y_pred = regr_tree.predict(X_test)\n",
        "\n",
        "# calculate MSE\n",
        "MSE = mean_squared_error(y_pred,y_test)\n",
        "\n",
        "# Report RMSE\n",
        "print(\"Regression Decision Tree model RMSE is:\",np.sqrt(MSE))"
      ],
      "execution_count": 0,
      "outputs": [
        {
          "output_type": "stream",
          "text": [
            "Regression Decision Tree model RMSE is: 985.8307617200308\n"
          ],
          "name": "stdout"
        }
      ]
    },
    {
      "cell_type": "code",
      "metadata": {
        "id": "ZVSxbCHACGKQ",
        "colab_type": "code",
        "colab": {}
      },
      "source": [
        ""
      ],
      "execution_count": 0,
      "outputs": []
    }
  ]
}