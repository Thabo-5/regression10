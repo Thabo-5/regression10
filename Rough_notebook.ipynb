{
 "cells": [
  {
   "cell_type": "markdown",
   "metadata": {
    "colab_type": "text",
    "id": "_TUw3Q8-ewxk"
   },
   "source": [
    "Data PreProcessing"
   ]
  },
  {
   "cell_type": "markdown",
   "metadata": {
    "colab_type": "text",
    "id": "FowDCjP7fxPH"
   },
   "source": [
    "Import Libraries"
   ]
  },
  {
   "cell_type": "code",
   "execution_count": 1,
   "metadata": {
    "colab": {
     "base_uri": "https://localhost:8080/",
     "height": 71
    },
    "colab_type": "code",
    "id": "-g8Y-slY1N-F",
    "outputId": "dd7aefae-1050-4eac-c5f7-948f5db16703"
   },
   "outputs": [],
   "source": [
    "import numpy as np\n",
    "import matplotlib.pyplot as plt\n",
    "import pandas as pd\n",
    "import seaborn as sns"
   ]
  },
  {
   "cell_type": "markdown",
   "metadata": {
    "colab_type": "text",
    "id": "C1gZv0sZVgpu"
   },
   "source": [
    "Importing the data files"
   ]
  },
  {
   "cell_type": "code",
   "execution_count": 0,
   "metadata": {
    "colab": {},
    "colab_type": "code",
    "id": "y4KMnwAZ1erO"
   },
   "outputs": [],
   "source": [
    "dftrain = pd.read_csv('Train.csv')\n",
    "dftest = pd.read_csv('Test.csv')\n",
    "dfriders = pd.read_csv('Riders.csv')\n"
   ]
  },
  {
   "cell_type": "markdown",
   "metadata": {
    "colab_type": "text",
    "id": "C7DDGIJ1Voll"
   },
   "source": [
    "**Deleting unnecessary columns**"
   ]
  },
  {
   "cell_type": "markdown",
   "metadata": {
    "colab_type": "text",
    "id": "Imtaqhz7gmNc"
   },
   "source": [
    "Assumption made that the placement and comfirmation columns have nothing to do with estimating delivery time.\n",
    "\n",
    "\n"
   ]
  },
  {
   "cell_type": "code",
   "execution_count": 0,
   "metadata": {
    "colab": {},
    "colab_type": "code",
    "id": "beB80prEcsKh"
   },
   "outputs": [],
   "source": [
    "#Dropping unnecessary columns which will not help us predict\n",
    "del dftrain['Placement - Day of Month']\n",
    "del dftrain['Placement - Weekday (Mo = 1)']\n",
    "del dftrain['Placement - Time']\n",
    "del dftrain['Confirmation - Weekday (Mo = 1)']\n",
    "del dftrain['Confirmation - Day of Month']\n",
    "del dftrain['Confirmation - Time']"
   ]
  },
  {
   "cell_type": "markdown",
   "metadata": {
    "colab_type": "text",
    "id": "rBHYde1_ugC7"
   },
   "source": [
    "Assumption is that the arrival day of month and weekday are the same as the placement,confirmation and pickup. So we can delete those columns relating to the arrival day of month and weekday"
   ]
  },
  {
   "cell_type": "code",
   "execution_count": 0,
   "metadata": {
    "colab": {},
    "colab_type": "code",
    "id": "5bIA1FpHuPRJ"
   },
   "outputs": [],
   "source": [
    "del dftrain['Arrival at Destination - Weekday (Mo = 1)']\n",
    "del dftrain['Arrival at Destination - Day of Month']\n",
    "del dftrain['Arrival at Destination - Time']"
   ]
  },
  {
   "cell_type": "markdown",
   "metadata": {
    "colab_type": "text",
    "id": "q9r-YSqjiMrH"
   },
   "source": [
    "The vehicles column, only 1 unique value, is it worth keeping? No relationship found, therefore delete."
   ]
  },
  {
   "cell_type": "code",
   "execution_count": 5,
   "metadata": {
    "colab": {
     "base_uri": "https://localhost:8080/",
     "height": 34
    },
    "colab_type": "code",
    "id": "efvIgVCuhQbl",
    "outputId": "03d2122f-247f-4723-bd66-946f25b209c7"
   },
   "outputs": [
    {
     "data": {
      "text/plain": [
       "array(['Bike'], dtype=object)"
      ]
     },
     "execution_count": 5,
     "metadata": {
      "tags": []
     },
     "output_type": "execute_result"
    }
   ],
   "source": [
    "#Looking for unique values\n",
    "dftrain['Vehicle Type'].unique()"
   ]
  },
  {
   "cell_type": "code",
   "execution_count": 6,
   "metadata": {
    "colab": {
     "base_uri": "https://localhost:8080/",
     "height": 295
    },
    "colab_type": "code",
    "id": "b95HLZoPiZP7",
    "outputId": "5109ab0c-a852-43cf-e968-f09289f5bac7"
   },
   "outputs": [
    {
     "data": {
      "image/png": "[encoded data removed]",
      "text/plain": [
       "<Figure size 432x288 with 1 Axes>"
      ]
     },
     "metadata": {
      "needs_background": "light",
      "tags": []
     },
     "output_type": "display_data"
    }
   ],
   "source": [
    "#Plotting graph to investigate the relationship\n",
    "plt.scatter(x=dftrain['Vehicle Type'],y=dftrain['Time from Pickup to Arrival'],color='blue',edgecolor='k')\n",
    "plt.xlabel('Vehicle Type')\n",
    "plt.ylabel('Time from Pickup to Arrival')\n",
    "\n",
    "plt.title('Is there a relationship between vehicle and time taken for delivery??')\n",
    "\n",
    "plt.show()"
   ]
  },
  {
   "cell_type": "code",
   "execution_count": 0,
   "metadata": {
    "colab": {},
    "colab_type": "code",
    "id": "9lD2aozadJcD"
   },
   "outputs": [],
   "source": [
    "del dftrain['Vehicle Type']"
   ]
  },
  {
   "cell_type": "code",
   "execution_count": 8,
   "metadata": {
    "colab": {
     "base_uri": "https://localhost:8080/",
     "height": 204
    },
    "colab_type": "code",
    "id": "KSuBEIz9zmDB",
    "outputId": "3bfbb08d-a1bb-497c-c352-cfce806548e2"
   },
   "outputs": [
    {
     "data": {
      "text/html": [
       "<div>\n",
       "<style scoped>\n",
       "    .dataframe tbody tr th:only-of-type {\n",
       "        vertical-align: middle;\n",
       "    }\n",
       "\n",
       "    .dataframe tbody tr th {\n",
       "        vertical-align: top;\n",
       "    }\n",
       "\n",
       "    .dataframe thead th {\n",
       "        text-align: right;\n",
       "    }\n",
       "</style>\n",
       "<table border=\"1\" class=\"dataframe\">\n",
       "  <thead>\n",
       "    <tr style=\"text-align: right;\">\n",
       "      <th></th>\n",
       "      <th>Rider Id</th>\n",
       "      <th>No_Of_Orders</th>\n",
       "      <th>Age</th>\n",
       "      <th>Average_Rating</th>\n",
       "      <th>No_of_Ratings</th>\n",
       "    </tr>\n",
       "  </thead>\n",
       "  <tbody>\n",
       "    <tr>\n",
       "      <th>0</th>\n",
       "      <td>Rider_Id_396</td>\n",
       "      <td>2946</td>\n",
       "      <td>2298</td>\n",
       "      <td>14.0</td>\n",
       "      <td>1159</td>\n",
       "    </tr>\n",
       "    <tr>\n",
       "      <th>1</th>\n",
       "      <td>Rider_Id_479</td>\n",
       "      <td>360</td>\n",
       "      <td>951</td>\n",
       "      <td>13.5</td>\n",
       "      <td>176</td>\n",
       "    </tr>\n",
       "    <tr>\n",
       "      <th>2</th>\n",
       "      <td>Rider_Id_648</td>\n",
       "      <td>1746</td>\n",
       "      <td>821</td>\n",
       "      <td>14.3</td>\n",
       "      <td>466</td>\n",
       "    </tr>\n",
       "    <tr>\n",
       "      <th>3</th>\n",
       "      <td>Rider_Id_753</td>\n",
       "      <td>314</td>\n",
       "      <td>980</td>\n",
       "      <td>12.5</td>\n",
       "      <td>75</td>\n",
       "    </tr>\n",
       "    <tr>\n",
       "      <th>4</th>\n",
       "      <td>Rider_Id_335</td>\n",
       "      <td>536</td>\n",
       "      <td>1113</td>\n",
       "      <td>13.7</td>\n",
       "      <td>156</td>\n",
       "    </tr>\n",
       "  </tbody>\n",
       "</table>\n",
       "</div>"
      ],
      "text/plain": [
       "       Rider Id  No_Of_Orders   Age  Average_Rating  No_of_Ratings\n",
       "0  Rider_Id_396          2946  2298            14.0           1159\n",
       "1  Rider_Id_479           360   951            13.5            176\n",
       "2  Rider_Id_648          1746   821            14.3            466\n",
       "3  Rider_Id_753           314   980            12.5             75\n",
       "4  Rider_Id_335           536  1113            13.7            156"
      ]
     },
     "execution_count": 8,
     "metadata": {
      "tags": []
     },
     "output_type": "execute_result"
    }
   ],
   "source": [
    "dfriders.head()"
   ]
  },
  {
   "cell_type": "markdown",
   "metadata": {
    "colab_type": "text",
    "id": "R29NRlkA0qLK"
   },
   "source": [
    "Merging the Riders table with the Train and Test so that we can use the average ratings columns"
   ]
  },
  {
   "cell_type": "code",
   "execution_count": 0,
   "metadata": {
    "colab": {},
    "colab_type": "code",
    "id": "wIx5OHA2SvId"
   },
   "outputs": [],
   "source": [
    "dftrain= dftrain.merge(dfriders,how='left', on='Rider Id')"
   ]
  },
  {
   "cell_type": "code",
   "execution_count": 0,
   "metadata": {
    "colab": {},
    "colab_type": "code",
    "id": "86nelCJx05jN"
   },
   "outputs": [],
   "source": [
    "dftest = dftest.merge(dfriders, how= 'left', on='Rider Id')"
   ]
  },
  {
   "cell_type": "markdown",
   "metadata": {
    "colab_type": "text",
    "id": "HR34ACDC32LT"
   },
   "source": [
    "dropping the excess columns from the riders which have now been integrated with the train and test"
   ]
  },
  {
   "cell_type": "code",
   "execution_count": 0,
   "metadata": {
    "colab": {},
    "colab_type": "code",
    "id": "RbFrKP0G0Jv_"
   },
   "outputs": [],
   "source": [
    "#deleting the train columns\n",
    "del dftrain['Rider Id']\n",
    "del dftrain['Age']\n",
    "del dftrain['No_of_Ratings']\n",
    "del dftrain['No_Of_Orders']\n",
    "#deleting the test columns\n",
    "del dftest['Rider Id']\n",
    "del dftest['Age']\n",
    "del dftest['No_of_Ratings']\n",
    "del dftest['No_Of_Orders']"
   ]
  },
  {
   "cell_type": "code",
   "execution_count": 0,
   "metadata": {
    "colab": {},
    "colab_type": "code",
    "id": "lR4-SgTWedsn"
   },
   "outputs": [],
   "source": [
    "del dftrain['Arrival at Pickup - Time']"
   ]
  },
  {
   "cell_type": "code",
   "execution_count": 0,
   "metadata": {
    "colab": {},
    "colab_type": "code",
    "id": "0Bsfn6wfwq9q"
   },
   "outputs": [],
   "source": [
    "del dftrain['Arrival at Pickup - Day of Month']"
   ]
  },
  {
   "cell_type": "code",
   "execution_count": 0,
   "metadata": {
    "colab": {},
    "colab_type": "code",
    "id": "y6KWGssew6CM"
   },
   "outputs": [],
   "source": [
    "del dftrain['Arrival at Pickup - Weekday (Mo = 1)']"
   ]
  },
  {
   "cell_type": "code",
   "execution_count": 0,
   "metadata": {
    "colab": {},
    "colab_type": "code",
    "id": "idsqOXmsxKAk"
   },
   "outputs": [],
   "source": [
    "del dftrain['Order No']"
   ]
  },
  {
   "cell_type": "code",
   "execution_count": 0,
   "metadata": {
    "colab": {},
    "colab_type": "code",
    "id": "lsbuV3y2xK2c"
   },
   "outputs": [],
   "source": [
    "del dftrain['User Id']"
   ]
  },
  {
   "cell_type": "markdown",
   "metadata": {
    "colab_type": "text",
    "id": "Afx71xgqxrbp"
   },
   "source": [
    "Not sure what to do with these two columns"
   ]
  },
  {
   "cell_type": "code",
   "execution_count": 0,
   "metadata": {
    "colab": {},
    "colab_type": "code",
    "id": "-hmAKCw3xoII"
   },
   "outputs": [],
   "source": [
    "del dftrain['Precipitation in millimeters']"
   ]
  },
  {
   "cell_type": "code",
   "execution_count": 0,
   "metadata": {
    "colab": {},
    "colab_type": "code",
    "id": "bECfq2g3xoIX"
   },
   "outputs": [],
   "source": [
    "del dftrain['Temperature']"
   ]
  },
  {
   "cell_type": "markdown",
   "metadata": {
    "colab_type": "text",
    "id": "i-wUJrj1vW-B"
   },
   "source": [
    "Dropping all the test columns so that they are the same as the train columns"
   ]
  },
  {
   "cell_type": "code",
   "execution_count": 0,
   "metadata": {
    "colab": {},
    "colab_type": "code",
    "id": "UY7U8gX-oa_F"
   },
   "outputs": [],
   "source": [
    "del dftest['Placement - Day of Month']\n",
    "del dftest['Vehicle Type']\n",
    "del dftest['Confirmation - Day of Month']\n",
    "del dftest['Arrival at Pickup - Time']\n",
    "del dftest['Confirmation - Weekday (Mo = 1)']\n",
    "del dftest['Placement - Time']\n",
    "del dftest['Placement - Weekday (Mo = 1)']\n",
    "del dftest['Arrival at Pickup - Day of Month']\n",
    "del dftest['User Id']\n",
    "del dftest['Precipitation in millimeters']\n",
    "del dftest['Temperature']\n",
    "del dftest['Confirmation - Time']"
   ]
  },
  {
   "cell_type": "markdown",
   "metadata": {
    "colab_type": "text",
    "id": "snODzLVRVt8T"
   },
   "source": [
    "Encoding the various columns"
   ]
  },
  {
   "cell_type": "code",
   "execution_count": 0,
   "metadata": {
    "colab": {},
    "colab_type": "code",
    "id": "BFjTG8nXUuLK"
   },
   "outputs": [],
   "source": [
    "#encoding the business and personal column\n",
    "from sklearn import preprocessing\n",
    "le1 = preprocessing.LabelEncoder()\n",
    "dftrain['Personal or Business'] =le1.fit_transform(dftrain['Personal or Business'])"
   ]
  },
  {
   "cell_type": "code",
   "execution_count": 0,
   "metadata": {
    "colab": {},
    "colab_type": "code",
    "id": "r3YBMIJf6GxH"
   },
   "outputs": [],
   "source": [
    "#encoding the business and personal column\n",
    "from sklearn import preprocessing\n",
    "le1 = preprocessing.LabelEncoder()\n",
    "dftest['Personal or Business'] =le1.fit_transform(dftest['Personal or Business'])"
   ]
  },
  {
   "cell_type": "markdown",
   "metadata": {
    "colab_type": "text",
    "id": "38htoTLlB_YI"
   },
   "source": [
    "Struggled with the Platform type encoding"
   ]
  },
  {
   "cell_type": "code",
   "execution_count": 0,
   "metadata": {
    "colab": {},
    "colab_type": "code",
    "id": "wC8dZXSXV4cL"
   },
   "outputs": [],
   "source": [
    "#encoding the platform type for dftrain\n",
    "#from sklearn.compose import ColumnTransformer\n",
    "#from sklearn.preprocessing import OneHotEncoder\n",
    "#ct = ColumnTransformer(transformers=[('encoder', OneHotEncoder(), [0])], remainder='passthrough')\n",
    "#dftrain =  pd.DataFrame((ct.fit_transform(dftrain)))"
   ]
  },
  {
   "cell_type": "code",
   "execution_count": 0,
   "metadata": {
    "colab": {},
    "colab_type": "code",
    "id": "ibXNvnOeV4GG"
   },
   "outputs": [],
   "source": [
    "#Encoding the platform type for dftest\n",
    "#from sklearn.compose import ColumnTransformer\n",
    "#from sklearn.preprocessing import OneHotEncoder\n",
    "#ct = ColumnTransformer(transformers=[('encoder', OneHotEncoder(), [0])], remainder='passthrough')\n",
    "#dftest = (ct.fit_transform(dftest))"
   ]
  },
  {
   "cell_type": "markdown",
   "metadata": {
    "colab_type": "text",
    "id": "t2krdtShclgs"
   },
   "source": [
    "**Changing the Time to seconds**"
   ]
  },
  {
   "cell_type": "code",
   "execution_count": 0,
   "metadata": {
    "colab": {},
    "colab_type": "code",
    "id": "vNm2D_sETNER"
   },
   "outputs": [],
   "source": [
    "dftrain['Delivery Time Taken'] = dftrain['Pickup - Time'].apply(lambda x: 12*3600 if x[-2:] == 'PM' and x[:-9] !='12' else 0 )"
   ]
  },
  {
   "cell_type": "code",
   "execution_count": 0,
   "metadata": {
    "colab": {},
    "colab_type": "code",
    "id": "x17n8QQ3BtNd"
   },
   "outputs": [],
   "source": [
    "dftrain['Pickup - Time'] = dftrain['Pickup - Time'].apply(lambda x: (3600* int(x[:-9]) + 60 * int(x[-8:-6]) + int(x[-5:-4]))+(12*3600 if x[-2:] == 'PM' and x[:-9] !='12' else 0 ))"
   ]
  },
  {
   "cell_type": "code",
   "execution_count": 0,
   "metadata": {
    "colab": {},
    "colab_type": "code",
    "id": "FBviUowzqJZa"
   },
   "outputs": [],
   "source": [
    "dftest['Delivery Time Taken'] = dftest['Pickup - Time'].apply(lambda x: 12*3600 if x[-2:] == 'PM' and x[:-9] !='12' else 0 )"
   ]
  },
  {
   "cell_type": "code",
   "execution_count": 0,
   "metadata": {
    "colab": {},
    "colab_type": "code",
    "id": "9ME9n5GKqJt1"
   },
   "outputs": [],
   "source": [
    "dftest['Pickup - Time'] = dftest['Pickup - Time'].apply(lambda x: (3600* int(x[:-9]) + 60 * int(x[-8:-6]) + int(x[-5:-4]))+(12*3600 if x[-2:] == 'PM' and x[:-9] !='12' else 0 ))"
   ]
  },
  {
   "cell_type": "code",
   "execution_count": 28,
   "metadata": {
    "colab": {
     "base_uri": "https://localhost:8080/",
     "height": 34
    },
    "colab_type": "code",
    "id": "r9xdhqsasfRE",
    "outputId": "4e529f7e-d6ee-40c3-ca1d-85662d7e4ef4"
   },
   "outputs": [
    {
     "data": {
      "text/plain": [
       "['Time from Pickup to Arrival']"
      ]
     },
     "execution_count": 28,
     "metadata": {
      "tags": []
     },
     "output_type": "execute_result"
    }
   ],
   "source": [
    "#Making sure that the test and train columns are the same except for the response column\n",
    "list(set(list(dftrain.columns)) - set(list(dftest.columns)))"
   ]
  },
  {
   "cell_type": "code",
   "execution_count": 29,
   "metadata": {
    "colab": {
     "base_uri": "https://localhost:8080/",
     "height": 34
    },
    "colab_type": "code",
    "id": "QjWSe7fCWHlE",
    "outputId": "09f70a65-3f3d-46ad-a6e8-e5e93b15a8f9"
   },
   "outputs": [
    {
     "data": {
      "text/plain": [
       "False"
      ]
     },
     "execution_count": 29,
     "metadata": {
      "tags": []
     },
     "output_type": "execute_result"
    }
   ],
   "source": [
    "np.any(np.isnan(dftrain)) #check for nulls"
   ]
  },
  {
   "cell_type": "code",
   "execution_count": 30,
   "metadata": {
    "colab": {
     "base_uri": "https://localhost:8080/",
     "height": 34
    },
    "colab_type": "code",
    "id": "2GuUo6K6WUP0",
    "outputId": "d7efe5ad-b14d-4f76-a4c3-1f5709b8e250"
   },
   "outputs": [
    {
     "data": {
      "text/plain": [
       "True"
      ]
     },
     "execution_count": 30,
     "metadata": {
      "tags": []
     },
     "output_type": "execute_result"
    }
   ],
   "source": [
    "np.all(np.isfinite(dftrain)) #check if infinite"
   ]
  },
  {
   "cell_type": "markdown",
   "metadata": {
    "colab_type": "text",
    "id": "vOkicQWSYI8s"
   },
   "source": [
    "**Fitting the Regression Model**"
   ]
  },
  {
   "cell_type": "code",
   "execution_count": 0,
   "metadata": {
    "colab": {},
    "colab_type": "code",
    "id": "VdEdnUaL1_oz"
   },
   "outputs": [],
   "source": [
    "from sklearn.linear_model import LinearRegression\n",
    "\n",
    "X = dftrain.drop(['Time from Pickup to Arrival'], axis=1)\n",
    "Y = dftrain['Time from Pickup to Arrival']"
   ]
  },
  {
   "cell_type": "code",
   "execution_count": 0,
   "metadata": {
    "colab": {},
    "colab_type": "code",
    "id": "Q43ZkL9C1_vq"
   },
   "outputs": [],
   "source": [
    "lm = LinearRegression()"
   ]
  },
  {
   "cell_type": "code",
   "execution_count": 0,
   "metadata": {
    "colab": {},
    "colab_type": "code",
    "id": "voTlrMom1_1E"
   },
   "outputs": [],
   "source": [
    "# import train/test split module\n",
    "from sklearn.model_selection import train_test_split"
   ]
  },
  {
   "cell_type": "code",
   "execution_count": 0,
   "metadata": {
    "colab": {},
    "colab_type": "code",
    "id": "YTrOJFNZ1_ys"
   },
   "outputs": [],
   "source": [
    "# split into train and test\n",
    "X_train, X_test, y_train, y_test = train_test_split(X, Y, test_size=0.20, random_state=1)"
   ]
  },
  {
   "cell_type": "code",
   "execution_count": 35,
   "metadata": {
    "colab": {
     "base_uri": "https://localhost:8080/",
     "height": 34
    },
    "colab_type": "code",
    "id": "y39lqdb4cIYB",
    "outputId": "bbb87904-9245-4ad9-dbef-5350c43030aa"
   },
   "outputs": [
    {
     "data": {
      "text/plain": [
       "LinearRegression(copy_X=True, fit_intercept=True, n_jobs=None, normalize=False)"
      ]
     },
     "execution_count": 35,
     "metadata": {
      "tags": []
     },
     "output_type": "execute_result"
    }
   ],
   "source": [
    "# train model\n",
    "lm.fit(X_train, y_train)"
   ]
  },
  {
   "cell_type": "code",
   "execution_count": 0,
   "metadata": {
    "colab": {},
    "colab_type": "code",
    "id": "G9qAn-U_XnHF"
   },
   "outputs": [],
   "source": [
    "#extract model intercepts\n",
    "beta_0 = float(lm.intercept_)\n",
    "# extract model coeffs\n",
    "beta_js = pd.DataFrame(lm.coef_, X.columns, columns=['Coefficient'])"
   ]
  },
  {
   "cell_type": "code",
   "execution_count": 37,
   "metadata": {
    "colab": {
     "base_uri": "https://localhost:8080/",
     "height": 34
    },
    "colab_type": "code",
    "id": "mUoERBz4bz5T",
    "outputId": "6486cbbd-42b9-4873-9465-fcd60ba04981"
   },
   "outputs": [
    {
     "name": "stdout",
     "output_type": "stream",
     "text": [
      "Intercept: 46103.68801989856\n"
     ]
    }
   ],
   "source": [
    "print(\"Intercept:\", beta_0)"
   ]
  },
  {
   "cell_type": "code",
   "execution_count": 38,
   "metadata": {
    "colab": {
     "base_uri": "https://localhost:8080/",
     "height": 421
    },
    "colab_type": "code",
    "id": "QqQIE_MYXnUF",
    "outputId": "2870094f-5430-4f28-aa43-b650dc305883"
   },
   "outputs": [
    {
     "data": {
      "text/html": [
       "<div>\n",
       "<style scoped>\n",
       "    .dataframe tbody tr th:only-of-type {\n",
       "        vertical-align: middle;\n",
       "    }\n",
       "\n",
       "    .dataframe tbody tr th {\n",
       "        vertical-align: top;\n",
       "    }\n",
       "\n",
       "    .dataframe thead th {\n",
       "        text-align: right;\n",
       "    }\n",
       "</style>\n",
       "<table border=\"1\" class=\"dataframe\">\n",
       "  <thead>\n",
       "    <tr style=\"text-align: right;\">\n",
       "      <th></th>\n",
       "      <th>Coefficient</th>\n",
       "    </tr>\n",
       "  </thead>\n",
       "  <tbody>\n",
       "    <tr>\n",
       "      <th>Platform Type</th>\n",
       "      <td>21.997471</td>\n",
       "    </tr>\n",
       "    <tr>\n",
       "      <th>Personal or Business</th>\n",
       "      <td>59.354448</td>\n",
       "    </tr>\n",
       "    <tr>\n",
       "      <th>Pickup - Day of Month</th>\n",
       "      <td>-0.992364</td>\n",
       "    </tr>\n",
       "    <tr>\n",
       "      <th>Pickup - Weekday (Mo = 1)</th>\n",
       "      <td>6.470743</td>\n",
       "    </tr>\n",
       "    <tr>\n",
       "      <th>Pickup - Time</th>\n",
       "      <td>0.003403</td>\n",
       "    </tr>\n",
       "    <tr>\n",
       "      <th>Distance (KM)</th>\n",
       "      <td>102.739603</td>\n",
       "    </tr>\n",
       "    <tr>\n",
       "      <th>Pickup Lat</th>\n",
       "      <td>614.242209</td>\n",
       "    </tr>\n",
       "    <tr>\n",
       "      <th>Pickup Long</th>\n",
       "      <td>-1077.797865</td>\n",
       "    </tr>\n",
       "    <tr>\n",
       "      <th>Destination Lat</th>\n",
       "      <td>-467.258582</td>\n",
       "    </tr>\n",
       "    <tr>\n",
       "      <th>Destination Long</th>\n",
       "      <td>-144.682498</td>\n",
       "    </tr>\n",
       "    <tr>\n",
       "      <th>Average_Rating</th>\n",
       "      <td>-41.563542</td>\n",
       "    </tr>\n",
       "    <tr>\n",
       "      <th>Delivery Time Taken</th>\n",
       "      <td>0.000084</td>\n",
       "    </tr>\n",
       "  </tbody>\n",
       "</table>\n",
       "</div>"
      ],
      "text/plain": [
       "                           Coefficient\n",
       "Platform Type                21.997471\n",
       "Personal or Business         59.354448\n",
       "Pickup - Day of Month        -0.992364\n",
       "Pickup - Weekday (Mo = 1)     6.470743\n",
       "Pickup - Time                 0.003403\n",
       "Distance (KM)               102.739603\n",
       "Pickup Lat                  614.242209\n",
       "Pickup Long               -1077.797865\n",
       "Destination Lat            -467.258582\n",
       "Destination Long           -144.682498\n",
       "Average_Rating              -41.563542\n",
       "Delivery Time Taken           0.000084"
      ]
     },
     "execution_count": 38,
     "metadata": {
      "tags": []
     },
     "output_type": "execute_result"
    }
   ],
   "source": [
    "beta_js"
   ]
  },
  {
   "cell_type": "code",
   "execution_count": 0,
   "metadata": {
    "colab": {},
    "colab_type": "code",
    "id": "uDNEO4UIXnft"
   },
   "outputs": [],
   "source": [
    "#fig, axs = plt.subplots(2, 2, figsize=(9,7))\n",
    "\n",
    "# axs[0,0].scatter(dftrain['Distance (KM)'], dftrain['Time from Pickup to Arrival'])\n",
    "# axs[0,0].plot(dftrain['Distance (KM)'], lm.intercept_ + lm.coef_[1]*dftrain['Time from Pickup to Arrival'], color='red')\n",
    "# axs[0,0].title.set_text('Distance (KM) vs. Time taken for delivery')\n",
    "\n",
    "# axs[0,1].scatter(dftrain['Pickup - Time'], dftrain['Time from Pickup to Arrival'])\n",
    "# axs[0,1].plot(dftrain['Pickup - Time'], lm.intercept_ + lm.coef_[3]*dftrain['Pickup - Time'], color='red')\n",
    "# axs[0,1].title.set_text('Pickup - Time vs. Time taken for delivery')\n",
    "\n",
    "# axs[1,0].scatter(dftrain['Personal or Business'], dftrain['Time from Pickup to Arrival'])\n",
    "# axs[1,0].plot(dftrain['Personal or Business'], lm.intercept_ + lm.coef_[58]*dftrain['Personal or Business'], color='red')\n",
    "# axs[1,0].title.set_text('Personal or Business vs. Time taken for delivery')\n",
    "\n",
    "# axs[1,1].scatter(dftrain['Platform Type'], dftrain['Time from Pickup to Arrival'])\n",
    "# axs[1,1].plot(dftrain['Platform Type'], lm.intercept_ + lm.coef_[21]*dftrain['Platform Type'], color='red')\n",
    "# axs[1,1].title.set_text('Platform Type vs. Time taken for delivery')\n",
    "\n",
    "# fig.tight_layout(pad=3.0)\n",
    "\n",
    "# plt.show()"
   ]
  },
  {
   "cell_type": "code",
   "execution_count": 40,
   "metadata": {
    "colab": {
     "base_uri": "https://localhost:8080/",
     "height": 34
    },
    "colab_type": "code",
    "id": "dRw6_Njygru8",
    "outputId": "3d975bfc-c778-4279-8314-9bc01eb00e9a"
   },
   "outputs": [
    {
     "name": "stdout",
     "output_type": "stream",
     "text": [
      "MSE: 626308.5861477559\n"
     ]
    }
   ],
   "source": [
    "# get predictions on the test set\n",
    "from sklearn.metrics import mean_squared_error \n",
    "y_pred = lm.predict(X_test)\n",
    "\n",
    "# calculate performance metrics\n",
    "print(\"MSE:\",mean_squared_error(y_test, y_pred))"
   ]
  },
  {
   "cell_type": "markdown",
   "metadata": {
    "colab_type": "text",
    "id": "AUvn9H4BWTaP"
   },
   "source": [
    "**Asessing model accuracy**"
   ]
  },
  {
   "cell_type": "code",
   "execution_count": 0,
   "metadata": {
    "colab": {},
    "colab_type": "code",
    "id": "m73uY2OVhkhz"
   },
   "outputs": [],
   "source": [
    "from sklearn import metrics\n",
    "import math"
   ]
  },
  {
   "cell_type": "code",
   "execution_count": 0,
   "metadata": {
    "colab": {},
    "colab_type": "code",
    "id": "2h2kqj8fgsHT"
   },
   "outputs": [],
   "source": [
    "results_dict = {'Training MSE':\n",
    "                    {\n",
    "                        \n",
    "                        \"MLR\": metrics.mean_squared_error(y_train, lm.predict(X_train))\n",
    "                    },\n",
    "                'Test MSE':\n",
    "                    {\n",
    "                        \n",
    "                        \"MLR\": metrics.mean_squared_error(y_test, lm.predict(X_test))\n",
    "                    },\n",
    "                'Test RMSE':\n",
    "                    {\n",
    "                        \n",
    "                        \"MLR\": math.sqrt(metrics.mean_squared_error(y_test, lm.predict(X_test)))\n",
    "                    }\n",
    "                }"
   ]
  },
  {
   "cell_type": "code",
   "execution_count": 0,
   "metadata": {
    "colab": {},
    "colab_type": "code",
    "id": "ZzKrzv7xiAeF"
   },
   "outputs": [],
   "source": [
    "results_df = pd.DataFrame(data=results_dict)"
   ]
  },
  {
   "cell_type": "code",
   "execution_count": 44,
   "metadata": {
    "colab": {
     "base_uri": "https://localhost:8080/",
     "height": 80
    },
    "colab_type": "code",
    "id": "_w06-R4oiA93",
    "outputId": "f87af76f-6e13-465d-db66-47e0a07f7882"
   },
   "outputs": [
    {
     "data": {
      "text/html": [
       "<div>\n",
       "<style scoped>\n",
       "    .dataframe tbody tr th:only-of-type {\n",
       "        vertical-align: middle;\n",
       "    }\n",
       "\n",
       "    .dataframe tbody tr th {\n",
       "        vertical-align: top;\n",
       "    }\n",
       "\n",
       "    .dataframe thead th {\n",
       "        text-align: right;\n",
       "    }\n",
       "</style>\n",
       "<table border=\"1\" class=\"dataframe\">\n",
       "  <thead>\n",
       "    <tr style=\"text-align: right;\">\n",
       "      <th></th>\n",
       "      <th>Training MSE</th>\n",
       "      <th>Test MSE</th>\n",
       "      <th>Test RMSE</th>\n",
       "    </tr>\n",
       "  </thead>\n",
       "  <tbody>\n",
       "    <tr>\n",
       "      <th>MLR</th>\n",
       "      <td>644613.958683</td>\n",
       "      <td>626308.586148</td>\n",
       "      <td>791.396605</td>\n",
       "    </tr>\n",
       "  </tbody>\n",
       "</table>\n",
       "</div>"
      ],
      "text/plain": [
       "      Training MSE       Test MSE   Test RMSE\n",
       "MLR  644613.958683  626308.586148  791.396605"
      ]
     },
     "execution_count": 44,
     "metadata": {
      "tags": []
     },
     "output_type": "execute_result"
    }
   ],
   "source": [
    "results_df"
   ]
  },
  {
   "cell_type": "code",
   "execution_count": 45,
   "metadata": {
    "colab": {
     "base_uri": "https://localhost:8080/",
     "height": 34
    },
    "colab_type": "code",
    "id": "FYqFZSkT3dnN",
    "outputId": "de2e39d1-a40d-4948-a832-09bb5e5d9286"
   },
   "outputs": [
    {
     "data": {
      "text/plain": [
       "LinearRegression(copy_X=True, fit_intercept=True, n_jobs=None, normalize=False)"
      ]
     },
     "execution_count": 45,
     "metadata": {
      "tags": []
     },
     "output_type": "execute_result"
    }
   ],
   "source": [
    "#zindi\n",
    "lm.fit(X, Y)"
   ]
  },
  {
   "cell_type": "code",
   "execution_count": 0,
   "metadata": {
    "colab": {},
    "colab_type": "code",
    "id": "AovTO8tEFO3D"
   },
   "outputs": [],
   "source": [
    "dftest.head()"
   ]
  },
  {
   "cell_type": "code",
   "execution_count": 0,
   "metadata": {
    "colab": {},
    "colab_type": "code",
    "id": "JVDktabiFOPY"
   },
   "outputs": [],
   "source": [
    "dftrain.head()"
   ]
  },
  {
   "cell_type": "code",
   "execution_count": 0,
   "metadata": {
    "colab": {},
    "colab_type": "code",
    "id": "f1Wjlfwk3iCE"
   },
   "outputs": [],
   "source": [
    "output = lm.predict(dftest.set_index('Order No'))"
   ]
  },
  {
   "cell_type": "markdown",
   "metadata": {
    "colab_type": "text",
    "id": "M8e4qgSEk_te"
   },
   "source": [
    "**Zindi submission**"
   ]
  },
  {
   "cell_type": "code",
   "execution_count": 0,
   "metadata": {
    "colab": {},
    "colab_type": "code",
    "id": "N0hFhbdL5QKy"
   },
   "outputs": [],
   "source": [
    "Submission = pd.concat([dftest['Order No'],pd.DataFrame(output,columns=['Time from Pickup to Arrival'])],axis=1)"
   ]
  },
  {
   "cell_type": "code",
   "execution_count": 0,
   "metadata": {
    "colab": {},
    "colab_type": "code",
    "id": "b9StBu_18BBh"
   },
   "outputs": [],
   "source": [
    "Submission.head()"
   ]
  },
  {
   "cell_type": "code",
   "execution_count": 0,
   "metadata": {
    "colab": {},
    "colab_type": "code",
    "id": "j_J7YZTR7mFH"
   },
   "outputs": [],
   "source": [
    "Submission.to_csv('rough attempt.csv',index=False)"
   ]
  }
 ],
 "metadata": {
  "colab": {
   "collapsed_sections": [],
   "name": "Rough notebook.ipynb",
   "provenance": []
  },
  "kernelspec": {
   "display_name": "Python 3",
   "language": "python",
   "name": "python3"
  },
  "language_info": {
   "codemirror_mode": {
    "name": "ipython",
    "version": 3
   },
   "file_extension": ".py",
   "mimetype": "text/x-python",
   "name": "python",
   "nbconvert_exporter": "python",
   "pygments_lexer": "ipython3",
   "version": "3.7.6"
  }
 },
 "nbformat": 4,
 "nbformat_minor": 1
}
