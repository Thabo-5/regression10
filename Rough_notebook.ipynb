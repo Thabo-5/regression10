{
  "nbformat": 4,
  "nbformat_minor": 0,
  "metadata": {
    "colab": {
      "name": "Rough notebook.ipynb",
      "provenance": [],
      "collapsed_sections": []
    },
    "kernelspec": {
      "name": "python3",
      "display_name": "Python 3"
    }
  },
  "cells": [
    {
      "cell_type": "markdown",
      "metadata": {
        "id": "_TUw3Q8-ewxk",
        "colab_type": "text"
      },
      "source": [
        "Data PreProcessing"
      ]
    },
    {
      "cell_type": "markdown",
      "metadata": {
        "id": "FowDCjP7fxPH",
        "colab_type": "text"
      },
      "source": [
        "Import Libraries"
      ]
    },
    {
      "cell_type": "code",
      "metadata": {
        "id": "-g8Y-slY1N-F",
        "colab_type": "code",
        "colab": {
          "base_uri": "https://localhost:8080/",
          "height": 71
        },
        "outputId": "dd7aefae-1050-4eac-c5f7-948f5db16703"
      },
      "source": [
        "import numpy as np\n",
        "import matplotlib.pyplot as plt\n",
        "import pandas as pd\n",
        "import seaborn as sns"
      ],
      "execution_count": 1,
      "outputs": [
        {
          "output_type": "stream",
          "text": [
            "/usr/local/lib/python3.6/dist-packages/statsmodels/tools/_testing.py:19: FutureWarning: pandas.util.testing is deprecated. Use the functions in the public API at pandas.testing instead.\n",
            "  import pandas.util.testing as tm\n"
          ],
          "name": "stderr"
        }
      ]
    },
    {
      "cell_type": "markdown",
      "metadata": {
        "id": "C1gZv0sZVgpu",
        "colab_type": "text"
      },
      "source": [
        "Importing the data files"
      ]
    },
    {
      "cell_type": "code",
      "metadata": {
        "id": "y4KMnwAZ1erO",
        "colab_type": "code",
        "colab": {}
      },
      "source": [
        "dftrain = pd.read_csv('Train.csv')\n",
        "dftest = pd.read_csv('Test.csv')\n",
        "dfriders = pd.read_csv('Riders.csv')\n"
      ],
      "execution_count": 0,
      "outputs": []
    },
    {
      "cell_type": "markdown",
      "metadata": {
        "id": "C7DDGIJ1Voll",
        "colab_type": "text"
      },
      "source": [
        "**Deleting unnecessary columns**"
      ]
    },
    {
      "cell_type": "markdown",
      "metadata": {
        "id": "Imtaqhz7gmNc",
        "colab_type": "text"
      },
      "source": [
        "Assumption made that the placement and comfirmation columns have nothing to do with estimating delivery time.\n",
        "\n",
        "\n"
      ]
    },
    {
      "cell_type": "code",
      "metadata": {
        "id": "beB80prEcsKh",
        "colab_type": "code",
        "colab": {}
      },
      "source": [
        "#Dropping unnecessary columns which will not help us predict\n",
        "del dftrain['Placement - Day of Month']\n",
        "del dftrain['Placement - Weekday (Mo = 1)']\n",
        "del dftrain['Placement - Time']\n",
        "del dftrain['Confirmation - Weekday (Mo = 1)']\n",
        "del dftrain['Confirmation - Day of Month']\n",
        "del dftrain['Confirmation - Time']"
      ],
      "execution_count": 0,
      "outputs": []
    },
    {
      "cell_type": "markdown",
      "metadata": {
        "id": "rBHYde1_ugC7",
        "colab_type": "text"
      },
      "source": [
        "Assumption is that the arrival day of month and weekday are the same as the placement,confirmation and pickup. So we can delete those columns relating to the arrival day of month and weekday"
      ]
    },
    {
      "cell_type": "code",
      "metadata": {
        "id": "5bIA1FpHuPRJ",
        "colab_type": "code",
        "colab": {}
      },
      "source": [
        "del dftrain['Arrival at Destination - Weekday (Mo = 1)']\n",
        "del dftrain['Arrival at Destination - Day of Month']\n",
        "del dftrain['Arrival at Destination - Time']"
      ],
      "execution_count": 0,
      "outputs": []
    },
    {
      "cell_type": "markdown",
      "metadata": {
        "id": "q9r-YSqjiMrH",
        "colab_type": "text"
      },
      "source": [
        "The vehicles column, only 1 unique value, is it worth keeping? No relationship found, therefore delete."
      ]
    },
    {
      "cell_type": "code",
      "metadata": {
        "id": "efvIgVCuhQbl",
        "colab_type": "code",
        "colab": {
          "base_uri": "https://localhost:8080/",
          "height": 34
        },
        "outputId": "03d2122f-247f-4723-bd66-946f25b209c7"
      },
      "source": [
        "#Looking for unique values\n",
        "dftrain['Vehicle Type'].unique()"
      ],
      "execution_count": 5,
      "outputs": [
        {
          "output_type": "execute_result",
          "data": {
            "text/plain": [
              "array(['Bike'], dtype=object)"
            ]
          },
          "metadata": {
            "tags": []
          },
          "execution_count": 5
        }
      ]
    },
    {
      "cell_type": "code",
      "metadata": {
        "id": "b95HLZoPiZP7",
        "colab_type": "code",
        "colab": {
          "base_uri": "https://localhost:8080/",
          "height": 295
        },
        "outputId": "5109ab0c-a852-43cf-e968-f09289f5bac7"
      },
      "source": [
        "#Plotting graph to investigate the relationship\n",
        "plt.scatter(x=dftrain['Vehicle Type'],y=dftrain['Time from Pickup to Arrival'],color='blue',edgecolor='k')\n",
        "plt.xlabel('Vehicle Type')\n",
        "plt.ylabel('Time from Pickup to Arrival')\n",
        "\n",
        "plt.title('Is there a relationship between vehicle and time taken for delivery??')\n",
        "\n",
        "plt.show()"
      ],
      "execution_count": 6,
      "outputs": [
        {
          "output_type": "display_data",
          "data": {
            "image/png": "[encoded data removed]",
            "text/plain": [
              "<Figure size 432x288 with 1 Axes>"
            ]
          },
          "metadata": {
            "tags": [],
            "needs_background": "light"
          }
        }
      ]
    },
    {
      "cell_type": "code",
      "metadata": {
        "id": "9lD2aozadJcD",
        "colab_type": "code",
        "colab": {}
      },
      "source": [
        "del dftrain['Vehicle Type']"
      ],
      "execution_count": 0,
      "outputs": []
    },
    {
      "cell_type": "code",
      "metadata": {
        "id": "KSuBEIz9zmDB",
        "colab_type": "code",
        "colab": {
          "base_uri": "https://localhost:8080/",
          "height": 204
        },
        "outputId": "3bfbb08d-a1bb-497c-c352-cfce806548e2"
      },
      "source": [
        "dfriders.head()"
      ],
      "execution_count": 8,
      "outputs": [
        {
          "output_type": "execute_result",
          "data": {
            "text/html": [
              "<div>\n",
              "<style scoped>\n",
              "    .dataframe tbody tr th:only-of-type {\n",
              "        vertical-align: middle;\n",
              "    }\n",
              "\n",
              "    .dataframe tbody tr th {\n",
              "        vertical-align: top;\n",
              "    }\n",
              "\n",
              "    .dataframe thead th {\n",
              "        text-align: right;\n",
              "    }\n",
              "</style>\n",
              "<table border=\"1\" class=\"dataframe\">\n",
              "  <thead>\n",
              "    <tr style=\"text-align: right;\">\n",
              "      <th></th>\n",
              "      <th>Rider Id</th>\n",
              "      <th>No_Of_Orders</th>\n",
              "      <th>Age</th>\n",
              "      <th>Average_Rating</th>\n",
              "      <th>No_of_Ratings</th>\n",
              "    </tr>\n",
              "  </thead>\n",
              "  <tbody>\n",
              "    <tr>\n",
              "      <th>0</th>\n",
              "      <td>Rider_Id_396</td>\n",
              "      <td>2946</td>\n",
              "      <td>2298</td>\n",
              "      <td>14.0</td>\n",
              "      <td>1159</td>\n",
              "    </tr>\n",
              "    <tr>\n",
              "      <th>1</th>\n",
              "      <td>Rider_Id_479</td>\n",
              "      <td>360</td>\n",
              "      <td>951</td>\n",
              "      <td>13.5</td>\n",
              "      <td>176</td>\n",
              "    </tr>\n",
              "    <tr>\n",
              "      <th>2</th>\n",
              "      <td>Rider_Id_648</td>\n",
              "      <td>1746</td>\n",
              "      <td>821</td>\n",
              "      <td>14.3</td>\n",
              "      <td>466</td>\n",
              "    </tr>\n",
              "    <tr>\n",
              "      <th>3</th>\n",
              "      <td>Rider_Id_753</td>\n",
              "      <td>314</td>\n",
              "      <td>980</td>\n",
              "      <td>12.5</td>\n",
              "      <td>75</td>\n",
              "    </tr>\n",
              "    <tr>\n",
              "      <th>4</th>\n",
              "      <td>Rider_Id_335</td>\n",
              "      <td>536</td>\n",
              "      <td>1113</td>\n",
              "      <td>13.7</td>\n",
              "      <td>156</td>\n",
              "    </tr>\n",
              "  </tbody>\n",
              "</table>\n",
              "</div>"
            ],
            "text/plain": [
              "       Rider Id  No_Of_Orders   Age  Average_Rating  No_of_Ratings\n",
              "0  Rider_Id_396          2946  2298            14.0           1159\n",
              "1  Rider_Id_479           360   951            13.5            176\n",
              "2  Rider_Id_648          1746   821            14.3            466\n",
              "3  Rider_Id_753           314   980            12.5             75\n",
              "4  Rider_Id_335           536  1113            13.7            156"
            ]
          },
          "metadata": {
            "tags": []
          },
          "execution_count": 8
        }
      ]
    },
    {
      "cell_type": "markdown",
      "metadata": {
        "id": "R29NRlkA0qLK",
        "colab_type": "text"
      },
      "source": [
        "Merging the Riders table with the Train and Test so that we can use the average ratings columns"
      ]
    },
    {
      "cell_type": "code",
      "metadata": {
        "id": "wIx5OHA2SvId",
        "colab_type": "code",
        "colab": {}
      },
      "source": [
        "dftrain= dftrain.merge(dfriders,how='left', on='Rider Id')"
      ],
      "execution_count": 0,
      "outputs": []
    },
    {
      "cell_type": "code",
      "metadata": {
        "id": "86nelCJx05jN",
        "colab_type": "code",
        "colab": {}
      },
      "source": [
        "dftest = dftest.merge(dfriders, how= 'left', on='Rider Id')"
      ],
      "execution_count": 0,
      "outputs": []
    },
    {
      "cell_type": "markdown",
      "metadata": {
        "id": "HR34ACDC32LT",
        "colab_type": "text"
      },
      "source": [
        "dropping the excess columns from the riders which have now been integrated with the train and test"
      ]
    },
    {
      "cell_type": "code",
      "metadata": {
        "id": "RbFrKP0G0Jv_",
        "colab_type": "code",
        "colab": {}
      },
      "source": [
        "#deleting the train columns\n",
        "del dftrain['Rider Id']\n",
        "del dftrain['Age']\n",
        "del dftrain['No_of_Ratings']\n",
        "del dftrain['No_Of_Orders']\n",
        "#deleting the test columns\n",
        "del dftest['Rider Id']\n",
        "del dftest['Age']\n",
        "del dftest['No_of_Ratings']\n",
        "del dftest['No_Of_Orders']"
      ],
      "execution_count": 0,
      "outputs": []
    },
    {
      "cell_type": "code",
      "metadata": {
        "id": "lR4-SgTWedsn",
        "colab_type": "code",
        "colab": {}
      },
      "source": [
        "del dftrain['Arrival at Pickup - Time']"
      ],
      "execution_count": 0,
      "outputs": []
    },
    {
      "cell_type": "code",
      "metadata": {
        "id": "0Bsfn6wfwq9q",
        "colab_type": "code",
        "colab": {}
      },
      "source": [
        "del dftrain['Arrival at Pickup - Day of Month']"
      ],
      "execution_count": 0,
      "outputs": []
    },
    {
      "cell_type": "code",
      "metadata": {
        "id": "y6KWGssew6CM",
        "colab_type": "code",
        "colab": {}
      },
      "source": [
        "del dftrain['Arrival at Pickup - Weekday (Mo = 1)']"
      ],
      "execution_count": 0,
      "outputs": []
    },
    {
      "cell_type": "code",
      "metadata": {
        "id": "idsqOXmsxKAk",
        "colab_type": "code",
        "colab": {}
      },
      "source": [
        "del dftrain['Order No']"
      ],
      "execution_count": 0,
      "outputs": []
    },
    {
      "cell_type": "code",
      "metadata": {
        "id": "lsbuV3y2xK2c",
        "colab_type": "code",
        "colab": {}
      },
      "source": [
        "del dftrain['User Id']"
      ],
      "execution_count": 0,
      "outputs": []
    },
    {
      "cell_type": "markdown",
      "metadata": {
        "id": "Afx71xgqxrbp",
        "colab_type": "text"
      },
      "source": [
        "Not sure what to do with these two columns"
      ]
    },
    {
      "cell_type": "code",
      "metadata": {
        "colab_type": "code",
        "id": "-hmAKCw3xoII",
        "colab": {}
      },
      "source": [
        "del dftrain['Precipitation in millimeters']"
      ],
      "execution_count": 0,
      "outputs": []
    },
    {
      "cell_type": "code",
      "metadata": {
        "colab_type": "code",
        "id": "bECfq2g3xoIX",
        "colab": {}
      },
      "source": [
        "del dftrain['Temperature']"
      ],
      "execution_count": 0,
      "outputs": []
    },
    {
      "cell_type": "markdown",
      "metadata": {
        "id": "i-wUJrj1vW-B",
        "colab_type": "text"
      },
      "source": [
        "Dropping all the test columns so that they are the same as the train columns"
      ]
    },
    {
      "cell_type": "code",
      "metadata": {
        "colab_type": "code",
        "id": "UY7U8gX-oa_F",
        "colab": {}
      },
      "source": [
        "del dftest['Placement - Day of Month']\n",
        "del dftest['Vehicle Type']\n",
        "del dftest['Confirmation - Day of Month']\n",
        "del dftest['Arrival at Pickup - Time']\n",
        "del dftest['Confirmation - Weekday (Mo = 1)']\n",
        "del dftest['Placement - Time']\n",
        "del dftest['Placement - Weekday (Mo = 1)']\n",
        "del dftest['Arrival at Pickup - Day of Month']\n",
        "del dftest['User Id']\n",
        "del dftest['Precipitation in millimeters']\n",
        "del dftest['Temperature']\n",
        "del dftest['Confirmation - Time']"
      ],
      "execution_count": 0,
      "outputs": []
    },
    {
      "cell_type": "markdown",
      "metadata": {
        "id": "snODzLVRVt8T",
        "colab_type": "text"
      },
      "source": [
        "Encoding the various columns"
      ]
    },
    {
      "cell_type": "code",
      "metadata": {
        "id": "BFjTG8nXUuLK",
        "colab_type": "code",
        "colab": {}
      },
      "source": [
        "#encoding the business and personal column\n",
        "from sklearn import preprocessing\n",
        "le1 = preprocessing.LabelEncoder()\n",
        "dftrain['Personal or Business'] =le1.fit_transform(dftrain['Personal or Business'])"
      ],
      "execution_count": 0,
      "outputs": []
    },
    {
      "cell_type": "code",
      "metadata": {
        "id": "r3YBMIJf6GxH",
        "colab_type": "code",
        "colab": {}
      },
      "source": [
        "#encoding the business and personal column\n",
        "from sklearn import preprocessing\n",
        "le1 = preprocessing.LabelEncoder()\n",
        "dftest['Personal or Business'] =le1.fit_transform(dftest['Personal or Business'])"
      ],
      "execution_count": 0,
      "outputs": []
    },
    {
      "cell_type": "markdown",
      "metadata": {
        "id": "38htoTLlB_YI",
        "colab_type": "text"
      },
      "source": [
        "Struggled with the Platform type encoding"
      ]
    },
    {
      "cell_type": "code",
      "metadata": {
        "id": "wC8dZXSXV4cL",
        "colab_type": "code",
        "colab": {}
      },
      "source": [
        "#encoding the platform type for dftrain\n",
        "#from sklearn.compose import ColumnTransformer\n",
        "#from sklearn.preprocessing import OneHotEncoder\n",
        "#ct = ColumnTransformer(transformers=[('encoder', OneHotEncoder(), [0])], remainder='passthrough')\n",
        "#dftrain =  pd.DataFrame((ct.fit_transform(dftrain)))"
      ],
      "execution_count": 0,
      "outputs": []
    },
    {
      "cell_type": "code",
      "metadata": {
        "id": "ibXNvnOeV4GG",
        "colab_type": "code",
        "colab": {}
      },
      "source": [
        "#Encoding the platform type for dftest\n",
        "#from sklearn.compose import ColumnTransformer\n",
        "#from sklearn.preprocessing import OneHotEncoder\n",
        "#ct = ColumnTransformer(transformers=[('encoder', OneHotEncoder(), [0])], remainder='passthrough')\n",
        "#dftest = (ct.fit_transform(dftest))"
      ],
      "execution_count": 0,
      "outputs": []
    },
    {
      "cell_type": "markdown",
      "metadata": {
        "id": "t2krdtShclgs",
        "colab_type": "text"
      },
      "source": [
        "**Changing the Time to seconds**"
      ]
    },
    {
      "cell_type": "code",
      "metadata": {
        "id": "vNm2D_sETNER",
        "colab_type": "code",
        "colab": {}
      },
      "source": [
        "dftrain['Delivery Time Taken'] = dftrain['Pickup - Time'].apply(lambda x: 12*3600 if x[-2:] == 'PM' and x[:-9] !='12' else 0 )"
      ],
      "execution_count": 0,
      "outputs": []
    },
    {
      "cell_type": "code",
      "metadata": {
        "id": "x17n8QQ3BtNd",
        "colab_type": "code",
        "colab": {}
      },
      "source": [
        "dftrain['Pickup - Time'] = dftrain['Pickup - Time'].apply(lambda x: (3600* int(x[:-9]) + 60 * int(x[-8:-6]) + int(x[-5:-4]))+(12*3600 if x[-2:] == 'PM' and x[:-9] !='12' else 0 ))"
      ],
      "execution_count": 0,
      "outputs": []
    },
    {
      "cell_type": "code",
      "metadata": {
        "id": "FBviUowzqJZa",
        "colab_type": "code",
        "colab": {}
      },
      "source": [
        "dftest['Delivery Time Taken'] = dftest['Pickup - Time'].apply(lambda x: 12*3600 if x[-2:] == 'PM' and x[:-9] !='12' else 0 )"
      ],
      "execution_count": 0,
      "outputs": []
    },
    {
      "cell_type": "code",
      "metadata": {
        "id": "9ME9n5GKqJt1",
        "colab_type": "code",
        "colab": {}
      },
      "source": [
        "dftest['Pickup - Time'] = dftest['Pickup - Time'].apply(lambda x: (3600* int(x[:-9]) + 60 * int(x[-8:-6]) + int(x[-5:-4]))+(12*3600 if x[-2:] == 'PM' and x[:-9] !='12' else 0 ))"
      ],
      "execution_count": 0,
      "outputs": []
    },
    {
      "cell_type": "code",
      "metadata": {
        "id": "r9xdhqsasfRE",
        "colab_type": "code",
        "outputId": "4e529f7e-d6ee-40c3-ca1d-85662d7e4ef4",
        "colab": {
          "base_uri": "https://localhost:8080/",
          "height": 34
        }
      },
      "source": [
        "#Making sure that the test and train columns are the same except for the response column\n",
        "list(set(list(dftrain.columns)) - set(list(dftest.columns)))"
      ],
      "execution_count": 28,
      "outputs": [
        {
          "output_type": "execute_result",
          "data": {
            "text/plain": [
              "['Time from Pickup to Arrival']"
            ]
          },
          "metadata": {
            "tags": []
          },
          "execution_count": 28
        }
      ]
    },
    {
      "cell_type": "code",
      "metadata": {
        "id": "QjWSe7fCWHlE",
        "colab_type": "code",
        "outputId": "09f70a65-3f3d-46ad-a6e8-e5e93b15a8f9",
        "colab": {
          "base_uri": "https://localhost:8080/",
          "height": 34
        }
      },
      "source": [
        "np.any(np.isnan(dftrain)) #check for nulls"
      ],
      "execution_count": 29,
      "outputs": [
        {
          "output_type": "execute_result",
          "data": {
            "text/plain": [
              "False"
            ]
          },
          "metadata": {
            "tags": []
          },
          "execution_count": 29
        }
      ]
    },
    {
      "cell_type": "code",
      "metadata": {
        "id": "2GuUo6K6WUP0",
        "colab_type": "code",
        "outputId": "d7efe5ad-b14d-4f76-a4c3-1f5709b8e250",
        "colab": {
          "base_uri": "https://localhost:8080/",
          "height": 34
        }
      },
      "source": [
        "np.all(np.isfinite(dftrain)) #check if infinite"
      ],
      "execution_count": 30,
      "outputs": [
        {
          "output_type": "execute_result",
          "data": {
            "text/plain": [
              "True"
            ]
          },
          "metadata": {
            "tags": []
          },
          "execution_count": 30
        }
      ]
    },
    {
      "cell_type": "markdown",
      "metadata": {
        "id": "vOkicQWSYI8s",
        "colab_type": "text"
      },
      "source": [
        "**Fitting the Regression Model**"
      ]
    },
    {
      "cell_type": "code",
      "metadata": {
        "id": "VdEdnUaL1_oz",
        "colab_type": "code",
        "colab": {}
      },
      "source": [
        "from sklearn.linear_model import LinearRegression\n",
        "\n",
        "X = dftrain.drop(['Time from Pickup to Arrival'], axis=1)\n",
        "Y = dftrain['Time from Pickup to Arrival']"
      ],
      "execution_count": 0,
      "outputs": []
    },
    {
      "cell_type": "code",
      "metadata": {
        "id": "Q43ZkL9C1_vq",
        "colab_type": "code",
        "colab": {}
      },
      "source": [
        "lm = LinearRegression()"
      ],
      "execution_count": 0,
      "outputs": []
    },
    {
      "cell_type": "code",
      "metadata": {
        "id": "voTlrMom1_1E",
        "colab_type": "code",
        "colab": {}
      },
      "source": [
        "# import train/test split module\n",
        "from sklearn.model_selection import train_test_split"
      ],
      "execution_count": 0,
      "outputs": []
    },
    {
      "cell_type": "code",
      "metadata": {
        "id": "YTrOJFNZ1_ys",
        "colab_type": "code",
        "colab": {}
      },
      "source": [
        "# split into train and test\n",
        "X_train, X_test, y_train, y_test = train_test_split(X, Y, test_size=0.20, random_state=1)"
      ],
      "execution_count": 0,
      "outputs": []
    },
    {
      "cell_type": "code",
      "metadata": {
        "id": "y39lqdb4cIYB",
        "colab_type": "code",
        "outputId": "bbb87904-9245-4ad9-dbef-5350c43030aa",
        "colab": {
          "base_uri": "https://localhost:8080/",
          "height": 34
        }
      },
      "source": [
        "# train model\n",
        "lm.fit(X_train, y_train)"
      ],
      "execution_count": 35,
      "outputs": [
        {
          "output_type": "execute_result",
          "data": {
            "text/plain": [
              "LinearRegression(copy_X=True, fit_intercept=True, n_jobs=None, normalize=False)"
            ]
          },
          "metadata": {
            "tags": []
          },
          "execution_count": 35
        }
      ]
    },
    {
      "cell_type": "code",
      "metadata": {
        "id": "G9qAn-U_XnHF",
        "colab_type": "code",
        "colab": {}
      },
      "source": [
        "#extract model intercepts\n",
        "beta_0 = float(lm.intercept_)\n",
        "# extract model coeffs\n",
        "beta_js = pd.DataFrame(lm.coef_, X.columns, columns=['Coefficient'])"
      ],
      "execution_count": 0,
      "outputs": []
    },
    {
      "cell_type": "code",
      "metadata": {
        "id": "mUoERBz4bz5T",
        "colab_type": "code",
        "colab": {
          "base_uri": "https://localhost:8080/",
          "height": 34
        },
        "outputId": "6486cbbd-42b9-4873-9465-fcd60ba04981"
      },
      "source": [
        "print(\"Intercept:\", beta_0)"
      ],
      "execution_count": 37,
      "outputs": [
        {
          "output_type": "stream",
          "text": [
            "Intercept: 46103.68801989856\n"
          ],
          "name": "stdout"
        }
      ]
    },
    {
      "cell_type": "code",
      "metadata": {
        "id": "QqQIE_MYXnUF",
        "colab_type": "code",
        "colab": {
          "base_uri": "https://localhost:8080/",
          "height": 421
        },
        "outputId": "2870094f-5430-4f28-aa43-b650dc305883"
      },
      "source": [
        "beta_js"
      ],
      "execution_count": 38,
      "outputs": [
        {
          "output_type": "execute_result",
          "data": {
            "text/html": [
              "<div>\n",
              "<style scoped>\n",
              "    .dataframe tbody tr th:only-of-type {\n",
              "        vertical-align: middle;\n",
              "    }\n",
              "\n",
              "    .dataframe tbody tr th {\n",
              "        vertical-align: top;\n",
              "    }\n",
              "\n",
              "    .dataframe thead th {\n",
              "        text-align: right;\n",
              "    }\n",
              "</style>\n",
              "<table border=\"1\" class=\"dataframe\">\n",
              "  <thead>\n",
              "    <tr style=\"text-align: right;\">\n",
              "      <th></th>\n",
              "      <th>Coefficient</th>\n",
              "    </tr>\n",
              "  </thead>\n",
              "  <tbody>\n",
              "    <tr>\n",
              "      <th>Platform Type</th>\n",
              "      <td>21.997471</td>\n",
              "    </tr>\n",
              "    <tr>\n",
              "      <th>Personal or Business</th>\n",
              "      <td>59.354448</td>\n",
              "    </tr>\n",
              "    <tr>\n",
              "      <th>Pickup - Day of Month</th>\n",
              "      <td>-0.992364</td>\n",
              "    </tr>\n",
              "    <tr>\n",
              "      <th>Pickup - Weekday (Mo = 1)</th>\n",
              "      <td>6.470743</td>\n",
              "    </tr>\n",
              "    <tr>\n",
              "      <th>Pickup - Time</th>\n",
              "      <td>0.003403</td>\n",
              "    </tr>\n",
              "    <tr>\n",
              "      <th>Distance (KM)</th>\n",
              "      <td>102.739603</td>\n",
              "    </tr>\n",
              "    <tr>\n",
              "      <th>Pickup Lat</th>\n",
              "      <td>614.242209</td>\n",
              "    </tr>\n",
              "    <tr>\n",
              "      <th>Pickup Long</th>\n",
              "      <td>-1077.797865</td>\n",
              "    </tr>\n",
              "    <tr>\n",
              "      <th>Destination Lat</th>\n",
              "      <td>-467.258582</td>\n",
              "    </tr>\n",
              "    <tr>\n",
              "      <th>Destination Long</th>\n",
              "      <td>-144.682498</td>\n",
              "    </tr>\n",
              "    <tr>\n",
              "      <th>Average_Rating</th>\n",
              "      <td>-41.563542</td>\n",
              "    </tr>\n",
              "    <tr>\n",
              "      <th>Delivery Time Taken</th>\n",
              "      <td>0.000084</td>\n",
              "    </tr>\n",
              "  </tbody>\n",
              "</table>\n",
              "</div>"
            ],
            "text/plain": [
              "                           Coefficient\n",
              "Platform Type                21.997471\n",
              "Personal or Business         59.354448\n",
              "Pickup - Day of Month        -0.992364\n",
              "Pickup - Weekday (Mo = 1)     6.470743\n",
              "Pickup - Time                 0.003403\n",
              "Distance (KM)               102.739603\n",
              "Pickup Lat                  614.242209\n",
              "Pickup Long               -1077.797865\n",
              "Destination Lat            -467.258582\n",
              "Destination Long           -144.682498\n",
              "Average_Rating              -41.563542\n",
              "Delivery Time Taken           0.000084"
            ]
          },
          "metadata": {
            "tags": []
          },
          "execution_count": 38
        }
      ]
    },
    {
      "cell_type": "code",
      "metadata": {
        "id": "uDNEO4UIXnft",
        "colab_type": "code",
        "colab": {}
      },
      "source": [
        "#fig, axs = plt.subplots(2, 2, figsize=(9,7))\n",
        "\n",
        "# axs[0,0].scatter(dftrain['Distance (KM)'], dftrain['Time from Pickup to Arrival'])\n",
        "# axs[0,0].plot(dftrain['Distance (KM)'], lm.intercept_ + lm.coef_[1]*dftrain['Time from Pickup to Arrival'], color='red')\n",
        "# axs[0,0].title.set_text('Distance (KM) vs. Time taken for delivery')\n",
        "\n",
        "# axs[0,1].scatter(dftrain['Pickup - Time'], dftrain['Time from Pickup to Arrival'])\n",
        "# axs[0,1].plot(dftrain['Pickup - Time'], lm.intercept_ + lm.coef_[3]*dftrain['Pickup - Time'], color='red')\n",
        "# axs[0,1].title.set_text('Pickup - Time vs. Time taken for delivery')\n",
        "\n",
        "# axs[1,0].scatter(dftrain['Personal or Business'], dftrain['Time from Pickup to Arrival'])\n",
        "# axs[1,0].plot(dftrain['Personal or Business'], lm.intercept_ + lm.coef_[58]*dftrain['Personal or Business'], color='red')\n",
        "# axs[1,0].title.set_text('Personal or Business vs. Time taken for delivery')\n",
        "\n",
        "# axs[1,1].scatter(dftrain['Platform Type'], dftrain['Time from Pickup to Arrival'])\n",
        "# axs[1,1].plot(dftrain['Platform Type'], lm.intercept_ + lm.coef_[21]*dftrain['Platform Type'], color='red')\n",
        "# axs[1,1].title.set_text('Platform Type vs. Time taken for delivery')\n",
        "\n",
        "# fig.tight_layout(pad=3.0)\n",
        "\n",
        "# plt.show()"
      ],
      "execution_count": 0,
      "outputs": []
    },
    {
      "cell_type": "code",
      "metadata": {
        "id": "dRw6_Njygru8",
        "colab_type": "code",
        "outputId": "3d975bfc-c778-4279-8314-9bc01eb00e9a",
        "colab": {
          "base_uri": "https://localhost:8080/",
          "height": 34
        }
      },
      "source": [
        "# get predictions on the test set\n",
        "from sklearn.metrics import mean_squared_error \n",
        "y_pred = lm.predict(X_test)\n",
        "\n",
        "# calculate performance metrics\n",
        "print(\"MSE:\",mean_squared_error(y_test, y_pred))"
      ],
      "execution_count": 40,
      "outputs": [
        {
          "output_type": "stream",
          "text": [
            "MSE: 626308.5861477559\n"
          ],
          "name": "stdout"
        }
      ]
    },
    {
      "cell_type": "markdown",
      "metadata": {
        "id": "AUvn9H4BWTaP",
        "colab_type": "text"
      },
      "source": [
        "**Asessing model accuracy**"
      ]
    },
    {
      "cell_type": "code",
      "metadata": {
        "id": "m73uY2OVhkhz",
        "colab_type": "code",
        "colab": {}
      },
      "source": [
        "from sklearn import metrics\n",
        "import math"
      ],
      "execution_count": 0,
      "outputs": []
    },
    {
      "cell_type": "code",
      "metadata": {
        "id": "2h2kqj8fgsHT",
        "colab_type": "code",
        "colab": {}
      },
      "source": [
        "results_dict = {'Training MSE':\n",
        "                    {\n",
        "                        \n",
        "                        \"MLR\": metrics.mean_squared_error(y_train, lm.predict(X_train))\n",
        "                    },\n",
        "                'Test MSE':\n",
        "                    {\n",
        "                        \n",
        "                        \"MLR\": metrics.mean_squared_error(y_test, lm.predict(X_test))\n",
        "                    },\n",
        "                'Test RMSE':\n",
        "                    {\n",
        "                        \n",
        "                        \"MLR\": math.sqrt(metrics.mean_squared_error(y_test, lm.predict(X_test)))\n",
        "                    }\n",
        "                }"
      ],
      "execution_count": 0,
      "outputs": []
    },
    {
      "cell_type": "code",
      "metadata": {
        "id": "ZzKrzv7xiAeF",
        "colab_type": "code",
        "colab": {}
      },
      "source": [
        "results_df = pd.DataFrame(data=results_dict)"
      ],
      "execution_count": 0,
      "outputs": []
    },
    {
      "cell_type": "code",
      "metadata": {
        "id": "_w06-R4oiA93",
        "colab_type": "code",
        "outputId": "f87af76f-6e13-465d-db66-47e0a07f7882",
        "colab": {
          "base_uri": "https://localhost:8080/",
          "height": 80
        }
      },
      "source": [
        "results_df"
      ],
      "execution_count": 44,
      "outputs": [
        {
          "output_type": "execute_result",
          "data": {
            "text/html": [
              "<div>\n",
              "<style scoped>\n",
              "    .dataframe tbody tr th:only-of-type {\n",
              "        vertical-align: middle;\n",
              "    }\n",
              "\n",
              "    .dataframe tbody tr th {\n",
              "        vertical-align: top;\n",
              "    }\n",
              "\n",
              "    .dataframe thead th {\n",
              "        text-align: right;\n",
              "    }\n",
              "</style>\n",
              "<table border=\"1\" class=\"dataframe\">\n",
              "  <thead>\n",
              "    <tr style=\"text-align: right;\">\n",
              "      <th></th>\n",
              "      <th>Training MSE</th>\n",
              "      <th>Test MSE</th>\n",
              "      <th>Test RMSE</th>\n",
              "    </tr>\n",
              "  </thead>\n",
              "  <tbody>\n",
              "    <tr>\n",
              "      <th>MLR</th>\n",
              "      <td>644613.958683</td>\n",
              "      <td>626308.586148</td>\n",
              "      <td>791.396605</td>\n",
              "    </tr>\n",
              "  </tbody>\n",
              "</table>\n",
              "</div>"
            ],
            "text/plain": [
              "      Training MSE       Test MSE   Test RMSE\n",
              "MLR  644613.958683  626308.586148  791.396605"
            ]
          },
          "metadata": {
            "tags": []
          },
          "execution_count": 44
        }
      ]
    },
    {
      "cell_type": "code",
      "metadata": {
        "id": "FYqFZSkT3dnN",
        "colab_type": "code",
        "outputId": "de2e39d1-a40d-4948-a832-09bb5e5d9286",
        "colab": {
          "base_uri": "https://localhost:8080/",
          "height": 34
        }
      },
      "source": [
        "#zindi\n",
        "lm.fit(X, Y)"
      ],
      "execution_count": 45,
      "outputs": [
        {
          "output_type": "execute_result",
          "data": {
            "text/plain": [
              "LinearRegression(copy_X=True, fit_intercept=True, n_jobs=None, normalize=False)"
            ]
          },
          "metadata": {
            "tags": []
          },
          "execution_count": 45
        }
      ]
    },
    {
      "cell_type": "code",
      "metadata": {
        "id": "AovTO8tEFO3D",
        "colab_type": "code",
        "colab": {}
      },
      "source": [
        "dftest.head()"
      ],
      "execution_count": 0,
      "outputs": []
    },
    {
      "cell_type": "code",
      "metadata": {
        "id": "JVDktabiFOPY",
        "colab_type": "code",
        "colab": {}
      },
      "source": [
        "dftrain.head()"
      ],
      "execution_count": 0,
      "outputs": []
    },
    {
      "cell_type": "code",
      "metadata": {
        "id": "f1Wjlfwk3iCE",
        "colab_type": "code",
        "colab": {}
      },
      "source": [
        "output = lm.predict(dftest.set_index('Order No'))"
      ],
      "execution_count": 0,
      "outputs": []
    },
    {
      "cell_type": "markdown",
      "metadata": {
        "id": "M8e4qgSEk_te",
        "colab_type": "text"
      },
      "source": [
        "**Zindi submission**"
      ]
    },
    {
      "cell_type": "code",
      "metadata": {
        "id": "N0hFhbdL5QKy",
        "colab_type": "code",
        "colab": {}
      },
      "source": [
        "Submission = pd.concat([dftest['Order No'],pd.DataFrame(output,columns=['Time from Pickup to Arrival'])],axis=1)"
      ],
      "execution_count": 0,
      "outputs": []
    },
    {
      "cell_type": "code",
      "metadata": {
        "id": "b9StBu_18BBh",
        "colab_type": "code",
        "colab": {}
      },
      "source": [
        "Submission.head()"
      ],
      "execution_count": 0,
      "outputs": []
    },
    {
      "cell_type": "code",
      "metadata": {
        "id": "j_J7YZTR7mFH",
        "colab_type": "code",
        "colab": {}
      },
      "source": [
        "Submission.to_csv('rough attempt.csv',index=False)"
      ],
      "execution_count": 0,
      "outputs": []
    }
  ]
}